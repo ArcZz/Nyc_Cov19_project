{
 "cells": [
  {
   "cell_type": "code",
   "execution_count": 1,
   "metadata": {},
   "outputs": [],
   "source": [
    "%run data.py\n"
   ]
  },
  {
   "cell_type": "code",
   "execution_count": 2,
   "metadata": {},
   "outputs": [
    {
     "ename": "ImportError",
     "evalue": "No module named folium",
     "output_type": "error",
     "traceback": [
      "\u001b[0;31m---------------------------------------------------------------------------\u001b[0m",
      "\u001b[0;31mImportError\u001b[0m                               Traceback (most recent call last)",
      "\u001b[0;32m<ipython-input-2-85f615c37cea>\u001b[0m in \u001b[0;36m<module>\u001b[0;34m()\u001b[0m\n\u001b[0;32m----> 1\u001b[0;31m \u001b[0;32mimport\u001b[0m \u001b[0mfolium\u001b[0m\u001b[0;34m\u001b[0m\u001b[0m\n\u001b[0m\u001b[1;32m      2\u001b[0m \u001b[0;32mimport\u001b[0m \u001b[0mjson\u001b[0m\u001b[0;34m\u001b[0m\u001b[0m\n\u001b[1;32m      3\u001b[0m \u001b[0;32mimport\u001b[0m \u001b[0mrequests\u001b[0m\u001b[0;34m\u001b[0m\u001b[0m\n\u001b[1;32m      4\u001b[0m \u001b[0;34m\u001b[0m\u001b[0m\n\u001b[1;32m      5\u001b[0m \u001b[0;32mwith\u001b[0m \u001b[0mopen\u001b[0m\u001b[0;34m(\u001b[0m\u001b[0;34m'data/borough.geojson'\u001b[0m\u001b[0;34m)\u001b[0m \u001b[0;32mas\u001b[0m \u001b[0mf\u001b[0m\u001b[0;34m:\u001b[0m\u001b[0;34m\u001b[0m\u001b[0m\n",
      "\u001b[0;31mImportError\u001b[0m: No module named folium"
     ]
    }
   ],
   "source": [
    "import folium\n",
    "import json\n",
    "import requests\n",
    "\n",
    "with open('data/borough.geojson') as f:\n",
    "  borou = json.load(f)\n",
    "san_map = folium.Map(\n",
    "    location=[40.693943, -73.985880],\n",
    "    tiles='Stamen Toner',\n",
    "    zoom_start=10,\n",
    "    min_zoom = 10,\n",
    "    control_scale = True\n",
    ")\n",
    "#['#fee6ce','#fdae6b','#e6550d']\n",
    "folium.GeoJson(\n",
    "    borou,\n",
    "    style_function=lambda feature: {\n",
    "        'fillColor': '#ffff00',\n",
    "        'color': 'blue',\n",
    "        'weight': 2,\n",
    "#         'dashArray': '5, 5'\n",
    "    }\n",
    ").add_to(san_map)\n",
    "san_map"
   ]
  },
  {
   "cell_type": "code",
   "execution_count": null,
   "metadata": {},
   "outputs": [],
   "source": [
    "\n",
    "bdata = fetchData(nyc_boro_url)\n",
    "bdata.loc[0,'BOROUGH_GROUP'] = 'Bronx' \n",
    "bdata = bdata.drop(labels=5)\n",
    "bdata.to_csv('data/bdata.csv',index=False,header=True)\n",
    "\n",
    "\n",
    "bdata"
   ]
  },
  {
   "cell_type": "code",
   "execution_count": null,
   "metadata": {},
   "outputs": [],
   "source": [
    "import json\n",
    "import requests\n",
    "\n",
    "with open('data/borough.geojson') as f:\n",
    "  borou = json.load(f)\n",
    "\n",
    "nyc_map = folium.Map(\n",
    "    location=[40.693943, -73.985880],\n",
    "    zoom_start=10,\n",
    "#     tiles='Stamen Toner',\n",
    "    min_zoom = 9,\n",
    "    control_scale = True\n",
    ")\n",
    "\n",
    "\n",
    "folium.Choropleth(\n",
    "    geo_data=borou,\n",
    "    data=bdata,\n",
    "    name='choropleth',\n",
    "    columns=['BOROUGH_GROUP', 'COVID_CASE_RATE'],\n",
    "    key_on='properties.boro_name',\n",
    "    fill_color='YlOrRd',\n",
    "    fill_opacity=0.9,\n",
    "    line_opacity=0.2,\n",
    "    legend_name=' Rate per 100,000 people',\n",
    "\n",
    ").add_to(nyc_map)\n",
    "\n",
    "\n",
    "nyc_map"
   ]
  },
  {
   "cell_type": "code",
   "execution_count": null,
   "metadata": {},
   "outputs": [],
   "source": [
    "\n",
    "nyc_map2 = folium.Map(\n",
    "    location=[40.693943, -73.985880],\n",
    "    zoom_start=10,\n",
    "    tiles='cartodbpositron',\n",
    "    min_zoom = 9,\n",
    "    control_scale = True\n",
    ")\n",
    "tooltip = 'Click me!'\n",
    "\n",
    "\n",
    "\n",
    "folium.Choropleth(\n",
    "    geo_data=borou,\n",
    "    data=bdata,\n",
    "    name='choropleth',\n",
    "  \n",
    "    columns=['BOROUGH_GROUP', 'COVID_CASE_COUNT'],\n",
    "    key_on='properties.boro_name',\n",
    "    fill_color='YlOrRd',\n",
    "    fill_opacity=0.7,\n",
    "    line_opacity=0.5,\n",
    "    legend_name='COVID_CASE_COUNT',\n",
    "\n",
    ").add_to(nyc_map2)\n",
    "\n",
    "\n",
    "nyc_map2"
   ]
  },
  {
   "cell_type": "code",
   "execution_count": null,
   "metadata": {},
   "outputs": [],
   "source": [
    "# run this to create a new zdata\n",
    "zdata = fetchData(nyc_zcta_url)\n",
    "\n",
    "zdata = zdata.drop(labels=0)\n",
    "zdata[\"MODZCTA\"] = zdata[\"MODZCTA\"].apply(lambda x : int(x))\n",
    "zdata[\"MODZCTA\"] = zdata[\"MODZCTA\"].astype(str)\n",
    "\n",
    "zdata.to_csv('data/zdata.csv',index=False,header=True)\n",
    "\n",
    "zdata\n"
   ]
  },
  {
   "cell_type": "code",
   "execution_count": null,
   "metadata": {},
   "outputs": [],
   "source": [
    "from bokeh.plotting import figure, output_file, show\n",
    "from bokeh.tile_providers import CARTODBPOSITRON, get_provider\n",
    "from bokeh.io import  output_notebook\n",
    "\n",
    "output_notebook() \n",
    "\n",
    "tile_provider = get_provider(CARTODBPOSITRON)\n",
    "\n",
    "# range bounds supplied in web mercator coordinates\n",
    "px = figure(x_range=(-2000000, 6000000), y_range=(-1000000, 7000000),\n",
    "           x_axis_type=\"mercator\", y_axis_type=\"mercator\")\n",
    "px.add_tile(tile_provider)\n",
    "\n",
    "show(px)"
   ]
  },
  {
   "cell_type": "code",
   "execution_count": null,
   "metadata": {},
   "outputs": [],
   "source": []
  },
  {
   "cell_type": "code",
   "execution_count": null,
   "metadata": {},
   "outputs": [],
   "source": [
    "%run data.py\n",
    "# updata\n",
    "# run this to create a new zdata\n",
    "zdata = fetchData(nyc_zcta_url)\n",
    "\n",
    "zdata = zdata.drop(labels=0)\n",
    "zdata[\"MODZCTA\"] = zdata[\"MODZCTA\"].apply(lambda x : int(x))\n",
    "zdata[\"MODZCTA\"] = zdata[\"MODZCTA\"].astype(str)\n",
    "\n",
    "zdata.to_csv('data/zdata.csv',index=False,header=True)\n",
    "\n",
    "zdata"
   ]
  },
  {
   "cell_type": "code",
   "execution_count": null,
   "metadata": {},
   "outputs": [],
   "source": [
    "\n",
    "value  = zdata.loc[zdata['MODZCTA'] == \"11371\"]\n",
    "a = value[\"Total\"]\n",
    "value\n",
    "\n",
    "# for row in zdata.itertuples():\n",
    "# #     print(row[1], row[3])\n",
    "    "
   ]
  },
  {
   "cell_type": "code",
   "execution_count": null,
   "metadata": {},
   "outputs": [],
   "source": [
    "import json\n",
    "with open('data/nyctopo.json', 'r') as f:\n",
    "    jsondata = json.load(f)\n",
    "    \n",
    "for item in jsondata[\"objects\"][\"zipcode\"][\"geometries\"]:\n",
    "    id = item[\"properties\"]['zipcode']\n",
    "    value  = zdata.loc[zdata['MODZCTA'] == str(id)]\n",
    "    if (value.empty):\n",
    "       continue    \n",
    "#     print(value.iloc[0][\"Total\"])\n",
    "    item[\"properties\"][\"test_num\"] = int(value.iloc[0][\"Total\"])\n",
    "    item[\"properties\"][\"positive_num\"] = int(value.iloc[0][\"Positive\"])\n",
    "    item[\"properties\"][\"zcta_prec\"] = float(value.iloc[0][\"zcta_cum.perc_pos\"])\n",
    "    print(item[\"properties\"])\n",
    "\n",
    "\n",
    "# with open('data/nyctop.json', 'w+') as f:\n",
    "#     json.dump(jsondata, f)\n",
    "    "
   ]
  },
  {
   "cell_type": "code",
   "execution_count": null,
   "metadata": {},
   "outputs": [],
   "source": [
    "with open('data/nyctop.json', 'w+') as f:\n",
    "    json.dump(jsondata, f)\n",
    "    "
   ]
  },
  {
   "cell_type": "code",
   "execution_count": 106,
   "metadata": {},
   "outputs": [],
   "source": [
    "import folium\n",
    "\n",
    "with open('data/zip.geojson') as f:\n",
    "  polygon = json.load(f)\n",
    "\n",
    "zcta_map = folium.Map(\n",
    "    location=[40.693943, -73.985880],\n",
    "    zoom_start=10,\n",
    "    tiles='cartodbpositron',\n",
    "    min_zoom = 9,\n",
    "    control_scale = True\n",
    ")\n",
    "\n",
    "\n",
    "folium.Choropleth(\n",
    "    geo_data=polygon,\n",
    "    data=zdata,\n",
    "    name='choropleth',\n",
    "    columns=['MODZCTA', 'Positive'],\n",
    "    key_on='properties.postalCode',\n",
    "    fill_color='YlOrRd',\n",
    "    fill_opacity=0.7,\n",
    "    line_opacity=0.5,\n",
    "    legend_name='Positive Cases by ZIP Code',\n",
    "    nan_fill_color='white',\n",
    "\n",
    ").add_to(zcta_map)\n",
    "\n",
    "zcta_map.save('map.html')"
   ]
  }
 ],
 "metadata": {
  "kernelspec": {
   "display_name": "Python 3",
   "language": "python",
   "name": "python3"
  },
  "language_info": {
   "codemirror_mode": {
    "name": "ipython",
    "version": 2
   },
   "file_extension": ".py",
   "mimetype": "text/x-python",
   "name": "python",
   "nbconvert_exporter": "python",
   "pygments_lexer": "ipython2",
   "version": "2.7.16"
  }
 },
 "nbformat": 4,
 "nbformat_minor": 4
}
