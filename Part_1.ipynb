{
 "cells": [
  {
   "cell_type": "code",
   "execution_count": 1,
   "metadata": {},
   "outputs": [],
   "source": [
    "import pyspark\n",
    "import pandas as pd\n",
    "from pyspark.sql.functions import *\n",
    "from pyspark.sql import SparkSession\n",
    "import pyspark.sql.functions as f\n",
    "# plese type ur file location for filepath.\n",
    "\n",
    "spark = SparkSession.builder.appName(\"bigdata\")\\\n",
    "                    .config(\"spark.some.config.option\", \"some-value\")\\\n",
    "                    .getOrCreate()"
   ]
  },
  {
   "cell_type": "code",
   "execution_count": 120,
   "metadata": {},
   "outputs": [],
   "source": [
    "import matplotlib.pyplot as plt\n",
    "import numpy as np\n",
    "import datetime\n",
    "import seaborn as sns\n",
    "import warnings\n",
    "warnings.filterwarnings(\"ignore\")  # ignore warnings"
   ]
  },
  {
   "cell_type": "code",
   "execution_count": 24,
   "metadata": {},
   "outputs": [],
   "source": [
    "%run data.py"
   ]
  },
  {
   "cell_type": "code",
   "execution_count": 100,
   "metadata": {},
   "outputs": [
    {
     "data": {
      "text/html": [
       "<div>\n",
       "<style scoped>\n",
       "    .dataframe tbody tr th:only-of-type {\n",
       "        vertical-align: middle;\n",
       "    }\n",
       "\n",
       "    .dataframe tbody tr th {\n",
       "        vertical-align: top;\n",
       "    }\n",
       "\n",
       "    .dataframe thead th {\n",
       "        text-align: right;\n",
       "    }\n",
       "</style>\n",
       "<table border=\"1\" class=\"dataframe\">\n",
       "  <thead>\n",
       "    <tr style=\"text-align: right;\">\n",
       "      <th></th>\n",
       "      <th>timestamp</th>\n",
       "      <th>type</th>\n",
       "      <th>bronx</th>\n",
       "      <th>brooklyn</th>\n",
       "      <th>manhattan</th>\n",
       "      <th>queens</th>\n",
       "      <th>staten_island</th>\n",
       "      <th>unknown</th>\n",
       "      <th>total</th>\n",
       "    </tr>\n",
       "  </thead>\n",
       "  <tbody>\n",
       "    <tr>\n",
       "      <th>0</th>\n",
       "      <td>2020-03-12T04:00:00Z</td>\n",
       "      <td>cases</td>\n",
       "      <td>10</td>\n",
       "      <td>24</td>\n",
       "      <td>25</td>\n",
       "      <td>17</td>\n",
       "      <td>5</td>\n",
       "      <td>7</td>\n",
       "      <td>88</td>\n",
       "    </tr>\n",
       "    <tr>\n",
       "      <th>1</th>\n",
       "      <td>2020-03-13T04:00:00Z</td>\n",
       "      <td>cases</td>\n",
       "      <td>13</td>\n",
       "      <td>24</td>\n",
       "      <td>35</td>\n",
       "      <td>26</td>\n",
       "      <td>5</td>\n",
       "      <td>34</td>\n",
       "      <td>137</td>\n",
       "    </tr>\n",
       "    <tr>\n",
       "      <th>2</th>\n",
       "      <td>2020-03-15T04:00:00Z</td>\n",
       "      <td>cases</td>\n",
       "      <td>21</td>\n",
       "      <td>53</td>\n",
       "      <td>72</td>\n",
       "      <td>78</td>\n",
       "      <td>16</td>\n",
       "      <td>29</td>\n",
       "      <td>269</td>\n",
       "    </tr>\n",
       "    <tr>\n",
       "      <th>3</th>\n",
       "      <td>2020-03-16T04:00:00Z</td>\n",
       "      <td>cases</td>\n",
       "      <td>34</td>\n",
       "      <td>62</td>\n",
       "      <td>111</td>\n",
       "      <td>118</td>\n",
       "      <td>19</td>\n",
       "      <td>120</td>\n",
       "      <td>464</td>\n",
       "    </tr>\n",
       "    <tr>\n",
       "      <th>4</th>\n",
       "      <td>2020-03-17T22:00:00Z</td>\n",
       "      <td>cases</td>\n",
       "      <td>106</td>\n",
       "      <td>236</td>\n",
       "      <td>290</td>\n",
       "      <td>248</td>\n",
       "      <td>42</td>\n",
       "      <td>1</td>\n",
       "      <td>923</td>\n",
       "    </tr>\n",
       "    <tr>\n",
       "      <th>5</th>\n",
       "      <td>2020-03-18T21:30:00Z</td>\n",
       "      <td>cases</td>\n",
       "      <td>303</td>\n",
       "      <td>505</td>\n",
       "      <td>590</td>\n",
       "      <td>533</td>\n",
       "      <td>77</td>\n",
       "      <td>1</td>\n",
       "      <td>2009</td>\n",
       "    </tr>\n",
       "    <tr>\n",
       "      <th>6</th>\n",
       "      <td>2020-03-19T21:30:00Z</td>\n",
       "      <td>cases</td>\n",
       "      <td>496</td>\n",
       "      <td>1195</td>\n",
       "      <td>1038</td>\n",
       "      <td>1042</td>\n",
       "      <td>179</td>\n",
       "      <td>4</td>\n",
       "      <td>3954</td>\n",
       "    </tr>\n",
       "    <tr>\n",
       "      <th>7</th>\n",
       "      <td>2020-03-20T21:30:00Z</td>\n",
       "      <td>cases</td>\n",
       "      <td>736</td>\n",
       "      <td>1740</td>\n",
       "      <td>1402</td>\n",
       "      <td>1514</td>\n",
       "      <td>285</td>\n",
       "      <td>6</td>\n",
       "      <td>5683</td>\n",
       "    </tr>\n",
       "    <tr>\n",
       "      <th>8</th>\n",
       "      <td>2020-03-21T21:30:00Z</td>\n",
       "      <td>cases</td>\n",
       "      <td>1071</td>\n",
       "      <td>2484</td>\n",
       "      <td>1863</td>\n",
       "      <td>2254</td>\n",
       "      <td>437</td>\n",
       "      <td>6</td>\n",
       "      <td>8115</td>\n",
       "    </tr>\n",
       "    <tr>\n",
       "      <th>9</th>\n",
       "      <td>2020-03-22T13:54:00Z</td>\n",
       "      <td>deaths</td>\n",
       "      <td>14</td>\n",
       "      <td>14</td>\n",
       "      <td>10</td>\n",
       "      <td>21</td>\n",
       "      <td>4</td>\n",
       "      <td>0</td>\n",
       "      <td>63</td>\n",
       "    </tr>\n",
       "  </tbody>\n",
       "</table>\n",
       "</div>"
      ],
      "text/plain": [
       "              timestamp    type  bronx  brooklyn  manhattan  queens  \\\n",
       "0  2020-03-12T04:00:00Z   cases     10        24         25      17   \n",
       "1  2020-03-13T04:00:00Z   cases     13        24         35      26   \n",
       "2  2020-03-15T04:00:00Z   cases     21        53         72      78   \n",
       "3  2020-03-16T04:00:00Z   cases     34        62        111     118   \n",
       "4  2020-03-17T22:00:00Z   cases    106       236        290     248   \n",
       "5  2020-03-18T21:30:00Z   cases    303       505        590     533   \n",
       "6  2020-03-19T21:30:00Z   cases    496      1195       1038    1042   \n",
       "7  2020-03-20T21:30:00Z   cases    736      1740       1402    1514   \n",
       "8  2020-03-21T21:30:00Z   cases   1071      2484       1863    2254   \n",
       "9  2020-03-22T13:54:00Z  deaths     14        14         10      21   \n",
       "\n",
       "   staten_island  unknown  total  \n",
       "0              5        7     88  \n",
       "1              5       34    137  \n",
       "2             16       29    269  \n",
       "3             19      120    464  \n",
       "4             42        1    923  \n",
       "5             77        1   2009  \n",
       "6            179        4   3954  \n",
       "7            285        6   5683  \n",
       "8            437        6   8115  \n",
       "9              4        0     63  "
      ]
     },
     "execution_count": 100,
     "metadata": {},
     "output_type": "execute_result"
    }
   ],
   "source": [
    "# filter the dataframe, just leave the cases, deaths and ever-hospitalized\n",
    "nycBorough = fetchData(nyc_his_boro_url)\n",
    "borough = nycBorough[(nycBorough.type == \"cases\") | (nycBorough.type == \"deaths\") | (nycBorough.type == \"ever-hospitalized\")]\n",
    "borough.head(10)"
   ]
  },
  {
   "cell_type": "code",
   "execution_count": 101,
   "metadata": {},
   "outputs": [],
   "source": [
    "# change the timestamp to date and rearrange the columns\n",
    "borough[[\"date\",\"time\"]] = borough[\"timestamp\"].str.split(\"T\", expand = True)\n",
    "borough = borough[[\"date\",\"type\",\"bronx\",\"brooklyn\",\"manhattan\",\"queens\",\"staten_island\",\"unknown\",\"total\"]]\n",
    "borough[\"date\"] = pd.to_datetime(borough['date'])"
   ]
  },
  {
   "cell_type": "code",
   "execution_count": 102,
   "metadata": {},
   "outputs": [
    {
     "data": {
      "text/html": [
       "<div>\n",
       "<style scoped>\n",
       "    .dataframe tbody tr th:only-of-type {\n",
       "        vertical-align: middle;\n",
       "    }\n",
       "\n",
       "    .dataframe tbody tr th {\n",
       "        vertical-align: top;\n",
       "    }\n",
       "\n",
       "    .dataframe thead th {\n",
       "        text-align: right;\n",
       "    }\n",
       "</style>\n",
       "<table border=\"1\" class=\"dataframe\">\n",
       "  <thead>\n",
       "    <tr style=\"text-align: right;\">\n",
       "      <th></th>\n",
       "      <th>date</th>\n",
       "      <th>type</th>\n",
       "      <th>bronx</th>\n",
       "      <th>brooklyn</th>\n",
       "      <th>manhattan</th>\n",
       "      <th>queens</th>\n",
       "      <th>staten_island</th>\n",
       "      <th>unknown</th>\n",
       "      <th>total</th>\n",
       "    </tr>\n",
       "  </thead>\n",
       "  <tbody>\n",
       "    <tr>\n",
       "      <th>0</th>\n",
       "      <td>2020-03-12</td>\n",
       "      <td>cases</td>\n",
       "      <td>10</td>\n",
       "      <td>24</td>\n",
       "      <td>25</td>\n",
       "      <td>17</td>\n",
       "      <td>5</td>\n",
       "      <td>7</td>\n",
       "      <td>88</td>\n",
       "    </tr>\n",
       "    <tr>\n",
       "      <th>1</th>\n",
       "      <td>2020-03-13</td>\n",
       "      <td>cases</td>\n",
       "      <td>13</td>\n",
       "      <td>24</td>\n",
       "      <td>35</td>\n",
       "      <td>26</td>\n",
       "      <td>5</td>\n",
       "      <td>34</td>\n",
       "      <td>137</td>\n",
       "    </tr>\n",
       "    <tr>\n",
       "      <th>2</th>\n",
       "      <td>2020-03-15</td>\n",
       "      <td>cases</td>\n",
       "      <td>21</td>\n",
       "      <td>53</td>\n",
       "      <td>72</td>\n",
       "      <td>78</td>\n",
       "      <td>16</td>\n",
       "      <td>29</td>\n",
       "      <td>269</td>\n",
       "    </tr>\n",
       "  </tbody>\n",
       "</table>\n",
       "</div>"
      ],
      "text/plain": [
       "        date   type  bronx  brooklyn  manhattan  queens  staten_island  \\\n",
       "0 2020-03-12  cases     10        24         25      17              5   \n",
       "1 2020-03-13  cases     13        24         35      26              5   \n",
       "2 2020-03-15  cases     21        53         72      78             16   \n",
       "\n",
       "   unknown  total  \n",
       "0        7     88  \n",
       "1       34    137  \n",
       "2       29    269  "
      ]
     },
     "execution_count": 102,
     "metadata": {},
     "output_type": "execute_result"
    }
   ],
   "source": [
    "borough.head(3)"
   ]
  },
  {
   "cell_type": "code",
   "execution_count": 155,
   "metadata": {},
   "outputs": [
    {
     "name": "stdout",
     "output_type": "stream",
     "text": [
      "First date: 2020.03.12\tLatest date: 2020.05.04\n"
     ]
    }
   ],
   "source": [
    "# save the first date and latest date \n",
    "firstRow = borough.head(1)\n",
    "start_date = firstRow.iloc[[0],[0]].values[0][0]\n",
    "start_date = pd.to_datetime(str(start_date)).strftime(\"%Y.%m.%d\")\n",
    "\n",
    "lastRow = borough.tail(1)\n",
    "latest_date = lastRow.iloc[[0],[0]].values[0][0]\n",
    "latest_date = pd.to_datetime(str(latest_date)).strftime(\"%Y.%m.%d\")\n",
    "print(\"First date: \"+ start_date + \"\\tLatest date: \" + latest_date)"
   ]
  },
  {
   "cell_type": "code",
   "execution_count": 99,
   "metadata": {},
   "outputs": [],
   "source": [
    "# change the index from default to date\n",
    "#boroughData = pd.DataFrame(borough)\n",
    "#boroughData.set_index([\"date\"], inplace = True) \n",
    "#boroughData.head(10)"
   ]
  },
  {
   "cell_type": "code",
   "execution_count": 33,
   "metadata": {},
   "outputs": [
    {
     "data": {
      "text/html": [
       "<div>\n",
       "<style scoped>\n",
       "    .dataframe tbody tr th:only-of-type {\n",
       "        vertical-align: middle;\n",
       "    }\n",
       "\n",
       "    .dataframe tbody tr th {\n",
       "        vertical-align: top;\n",
       "    }\n",
       "\n",
       "    .dataframe thead th {\n",
       "        text-align: right;\n",
       "    }\n",
       "</style>\n",
       "<table border=\"1\" class=\"dataframe\">\n",
       "  <thead>\n",
       "    <tr style=\"text-align: right;\">\n",
       "      <th></th>\n",
       "      <th>bronx</th>\n",
       "      <th>brooklyn</th>\n",
       "      <th>manhattan</th>\n",
       "      <th>queens</th>\n",
       "      <th>staten_island</th>\n",
       "      <th>unknown</th>\n",
       "      <th>total</th>\n",
       "    </tr>\n",
       "    <tr>\n",
       "      <th>type</th>\n",
       "      <th></th>\n",
       "      <th></th>\n",
       "      <th></th>\n",
       "      <th></th>\n",
       "      <th></th>\n",
       "      <th></th>\n",
       "      <th></th>\n",
       "    </tr>\n",
       "  </thead>\n",
       "  <tbody>\n",
       "    <tr>\n",
       "      <th>cases</th>\n",
       "      <td>39239</td>\n",
       "      <td>45637</td>\n",
       "      <td>21287</td>\n",
       "      <td>53243</td>\n",
       "      <td>12235</td>\n",
       "      <td>82</td>\n",
       "      <td>171723</td>\n",
       "    </tr>\n",
       "    <tr>\n",
       "      <th>deaths</th>\n",
       "      <td>2997</td>\n",
       "      <td>4127</td>\n",
       "      <td>1797</td>\n",
       "      <td>4149</td>\n",
       "      <td>646</td>\n",
       "      <td>8</td>\n",
       "      <td>13724</td>\n",
       "    </tr>\n",
       "    <tr>\n",
       "      <th>ever-hospitalized</th>\n",
       "      <td>10084</td>\n",
       "      <td>11565</td>\n",
       "      <td>5869</td>\n",
       "      <td>13915</td>\n",
       "      <td>1931</td>\n",
       "      <td>19</td>\n",
       "      <td>43383</td>\n",
       "    </tr>\n",
       "  </tbody>\n",
       "</table>\n",
       "</div>"
      ],
      "text/plain": [
       "                   bronx  brooklyn  manhattan  queens  staten_island  unknown  \\\n",
       "type                                                                            \n",
       "cases              39239     45637      21287   53243          12235       82   \n",
       "deaths              2997      4127       1797    4149            646        8   \n",
       "ever-hospitalized  10084     11565       5869   13915           1931       19   \n",
       "\n",
       "                    total  \n",
       "type                       \n",
       "cases              171723  \n",
       "deaths              13724  \n",
       "ever-hospitalized   43383  "
      ]
     },
     "execution_count": 33,
     "metadata": {},
     "output_type": "execute_result"
    }
   ],
   "source": [
    "# get the latest data for condirmed cases, deaths and hospitalized\n",
    "update = borough.tail(3)\n",
    "update.set_index([\"type\"], inplace = True) \n",
    "update"
   ]
  },
  {
   "cell_type": "markdown",
   "metadata": {},
   "source": [
    "# NYC COVID-19 Summary"
   ]
  },
  {
   "cell_type": "code",
   "execution_count": 80,
   "metadata": {},
   "outputs": [
    {
     "name": "stdout",
     "output_type": "stream",
     "text": [
      "Update: 2020.05.04 (from 2020.03.12) \n"
     ]
    }
   ],
   "source": [
    "# data updated date\n",
    "print(\"Update: \" + latest_date + \" (from 2020.03.12) \")"
   ]
  },
  {
   "cell_type": "code",
   "execution_count": 35,
   "metadata": {},
   "outputs": [
    {
     "data": {
      "text/html": [
       "<style  type=\"text/css\" >\n",
       "    #T_aaf968ba_8fd0_11ea_b281_acde48001122row0_col0 {\n",
       "            background-color:  #cdeeee;\n",
       "            color:  #000000;\n",
       "        }    #T_aaf968ba_8fd0_11ea_b281_acde48001122row0_col1 {\n",
       "            background-color:  #cfefef;\n",
       "            color:  #000000;\n",
       "        }    #T_aaf968ba_8fd0_11ea_b281_acde48001122row0_col2 {\n",
       "            background-color:  #cdeeee;\n",
       "            color:  #000000;\n",
       "        }    #T_aaf968ba_8fd0_11ea_b281_acde48001122row1_col0 {\n",
       "            background-color:  #c9eded;\n",
       "            color:  #000000;\n",
       "        }    #T_aaf968ba_8fd0_11ea_b281_acde48001122row1_col1 {\n",
       "            background-color:  #c4ebeb;\n",
       "            color:  #000000;\n",
       "        }    #T_aaf968ba_8fd0_11ea_b281_acde48001122row1_col2 {\n",
       "            background-color:  #c8eded;\n",
       "            color:  #000000;\n",
       "        }    #T_aaf968ba_8fd0_11ea_b281_acde48001122row2_col0 {\n",
       "            background-color:  #dcf3f3;\n",
       "            color:  #000000;\n",
       "        }    #T_aaf968ba_8fd0_11ea_b281_acde48001122row2_col1 {\n",
       "            background-color:  #dbf3f3;\n",
       "            color:  #000000;\n",
       "        }    #T_aaf968ba_8fd0_11ea_b281_acde48001122row2_col2 {\n",
       "            background-color:  #daf3f3;\n",
       "            color:  #000000;\n",
       "        }    #T_aaf968ba_8fd0_11ea_b281_acde48001122row3_col0 {\n",
       "            background-color:  #c2ebeb;\n",
       "            color:  #000000;\n",
       "        }    #T_aaf968ba_8fd0_11ea_b281_acde48001122row3_col1 {\n",
       "            background-color:  #c3ebeb;\n",
       "            color:  #000000;\n",
       "        }    #T_aaf968ba_8fd0_11ea_b281_acde48001122row3_col2 {\n",
       "            background-color:  #c1eaea;\n",
       "            color:  #000000;\n",
       "        }    #T_aaf968ba_8fd0_11ea_b281_acde48001122row4_col0 {\n",
       "            background-color:  #e2f5f5;\n",
       "            color:  #000000;\n",
       "        }    #T_aaf968ba_8fd0_11ea_b281_acde48001122row4_col1 {\n",
       "            background-color:  #e6f7f7;\n",
       "            color:  #000000;\n",
       "        }    #T_aaf968ba_8fd0_11ea_b281_acde48001122row4_col2 {\n",
       "            background-color:  #e6f7f7;\n",
       "            color:  #000000;\n",
       "        }    #T_aaf968ba_8fd0_11ea_b281_acde48001122row5_col0 {\n",
       "            background-color:  #ecf9f9;\n",
       "            color:  #000000;\n",
       "        }    #T_aaf968ba_8fd0_11ea_b281_acde48001122row5_col1 {\n",
       "            background-color:  #ecf9f9;\n",
       "            color:  #000000;\n",
       "        }    #T_aaf968ba_8fd0_11ea_b281_acde48001122row5_col2 {\n",
       "            background-color:  #ecf9f9;\n",
       "            color:  #000000;\n",
       "        }    #T_aaf968ba_8fd0_11ea_b281_acde48001122row6_col0 {\n",
       "            background-color:  #66cccc;\n",
       "            color:  #000000;\n",
       "        }    #T_aaf968ba_8fd0_11ea_b281_acde48001122row6_col1 {\n",
       "            background-color:  #66cccc;\n",
       "            color:  #000000;\n",
       "        }    #T_aaf968ba_8fd0_11ea_b281_acde48001122row6_col2 {\n",
       "            background-color:  #66cccc;\n",
       "            color:  #000000;\n",
       "        }</style><table id=\"T_aaf968ba_8fd0_11ea_b281_acde48001122\" ><thead>    <tr>        <th class=\"index_name level0\" >type</th>        <th class=\"col_heading level0 col0\" >cases</th>        <th class=\"col_heading level0 col1\" >deaths</th>        <th class=\"col_heading level0 col2\" >ever-hospitalized</th>    </tr></thead><tbody>\n",
       "                <tr>\n",
       "                        <th id=\"T_aaf968ba_8fd0_11ea_b281_acde48001122level0_row0\" class=\"row_heading level0 row0\" >bronx</th>\n",
       "                        <td id=\"T_aaf968ba_8fd0_11ea_b281_acde48001122row0_col0\" class=\"data row0 col0\" >39239</td>\n",
       "                        <td id=\"T_aaf968ba_8fd0_11ea_b281_acde48001122row0_col1\" class=\"data row0 col1\" >2997</td>\n",
       "                        <td id=\"T_aaf968ba_8fd0_11ea_b281_acde48001122row0_col2\" class=\"data row0 col2\" >10084</td>\n",
       "            </tr>\n",
       "            <tr>\n",
       "                        <th id=\"T_aaf968ba_8fd0_11ea_b281_acde48001122level0_row1\" class=\"row_heading level0 row1\" >brooklyn</th>\n",
       "                        <td id=\"T_aaf968ba_8fd0_11ea_b281_acde48001122row1_col0\" class=\"data row1 col0\" >45637</td>\n",
       "                        <td id=\"T_aaf968ba_8fd0_11ea_b281_acde48001122row1_col1\" class=\"data row1 col1\" >4127</td>\n",
       "                        <td id=\"T_aaf968ba_8fd0_11ea_b281_acde48001122row1_col2\" class=\"data row1 col2\" >11565</td>\n",
       "            </tr>\n",
       "            <tr>\n",
       "                        <th id=\"T_aaf968ba_8fd0_11ea_b281_acde48001122level0_row2\" class=\"row_heading level0 row2\" >manhattan</th>\n",
       "                        <td id=\"T_aaf968ba_8fd0_11ea_b281_acde48001122row2_col0\" class=\"data row2 col0\" >21287</td>\n",
       "                        <td id=\"T_aaf968ba_8fd0_11ea_b281_acde48001122row2_col1\" class=\"data row2 col1\" >1797</td>\n",
       "                        <td id=\"T_aaf968ba_8fd0_11ea_b281_acde48001122row2_col2\" class=\"data row2 col2\" >5869</td>\n",
       "            </tr>\n",
       "            <tr>\n",
       "                        <th id=\"T_aaf968ba_8fd0_11ea_b281_acde48001122level0_row3\" class=\"row_heading level0 row3\" >queens</th>\n",
       "                        <td id=\"T_aaf968ba_8fd0_11ea_b281_acde48001122row3_col0\" class=\"data row3 col0\" >53243</td>\n",
       "                        <td id=\"T_aaf968ba_8fd0_11ea_b281_acde48001122row3_col1\" class=\"data row3 col1\" >4149</td>\n",
       "                        <td id=\"T_aaf968ba_8fd0_11ea_b281_acde48001122row3_col2\" class=\"data row3 col2\" >13915</td>\n",
       "            </tr>\n",
       "            <tr>\n",
       "                        <th id=\"T_aaf968ba_8fd0_11ea_b281_acde48001122level0_row4\" class=\"row_heading level0 row4\" >staten_island</th>\n",
       "                        <td id=\"T_aaf968ba_8fd0_11ea_b281_acde48001122row4_col0\" class=\"data row4 col0\" >12235</td>\n",
       "                        <td id=\"T_aaf968ba_8fd0_11ea_b281_acde48001122row4_col1\" class=\"data row4 col1\" >646</td>\n",
       "                        <td id=\"T_aaf968ba_8fd0_11ea_b281_acde48001122row4_col2\" class=\"data row4 col2\" >1931</td>\n",
       "            </tr>\n",
       "            <tr>\n",
       "                        <th id=\"T_aaf968ba_8fd0_11ea_b281_acde48001122level0_row5\" class=\"row_heading level0 row5\" >unknown</th>\n",
       "                        <td id=\"T_aaf968ba_8fd0_11ea_b281_acde48001122row5_col0\" class=\"data row5 col0\" >82</td>\n",
       "                        <td id=\"T_aaf968ba_8fd0_11ea_b281_acde48001122row5_col1\" class=\"data row5 col1\" >8</td>\n",
       "                        <td id=\"T_aaf968ba_8fd0_11ea_b281_acde48001122row5_col2\" class=\"data row5 col2\" >19</td>\n",
       "            </tr>\n",
       "            <tr>\n",
       "                        <th id=\"T_aaf968ba_8fd0_11ea_b281_acde48001122level0_row6\" class=\"row_heading level0 row6\" >total</th>\n",
       "                        <td id=\"T_aaf968ba_8fd0_11ea_b281_acde48001122row6_col0\" class=\"data row6 col0\" >171723</td>\n",
       "                        <td id=\"T_aaf968ba_8fd0_11ea_b281_acde48001122row6_col1\" class=\"data row6 col1\" >13724</td>\n",
       "                        <td id=\"T_aaf968ba_8fd0_11ea_b281_acde48001122row6_col2\" class=\"data row6 col2\" >43383</td>\n",
       "            </tr>\n",
       "    </tbody></table>"
      ],
      "text/plain": [
       "<pandas.io.formats.style.Styler at 0x1a175accd0>"
      ]
     },
     "execution_count": 35,
     "metadata": {},
     "output_type": "execute_result"
    }
   ],
   "source": [
    "# summary visulization\n",
    "cm = sns.light_palette(\"#66cccc\", as_cmap = True)\n",
    "df1 = update.stack()\n",
    "df2 = df1.unstack(0)\n",
    "df2.style.background_gradient(cmap = cm)"
   ]
  },
  {
   "cell_type": "code",
   "execution_count": null,
   "metadata": {},
   "outputs": [],
   "source": [
    "# Cases / Deaths / Hosplitalized Data for Each Borough"
   ]
  },
  {
   "cell_type": "code",
   "execution_count": 158,
   "metadata": {},
   "outputs": [],
   "source": [
    "# regional all data generalize function\n",
    "def regionData (regionSourceData, region):\n",
    "    case = regionSourceData[(regionSourceData.type == \"cases\")]\n",
    "    death = regionSourceData[(regionSourceData.type == \"deaths\")]\n",
    "    hosp = regionSourceData[(regionSourceData.type == \"ever-hospitalized\")]\n",
    "    \n",
    "    case.rename(columns = {region:\"cases\"}, inplace = True)\n",
    "    case.drop(columns = [\"type\"], inplace = True)\n",
    "    \n",
    "    death.rename(columns = {region:\"deaths\"}, inplace= True)\n",
    "    death.drop(columns = [\"type\"], inplace = True)\n",
    "\n",
    "    hosp.rename(columns = {region:\"ever-hospitalized\"}, inplace = True)\n",
    "    hosp.drop(columns = [\"type\"], inplace = True)\n",
    "    \n",
    "    mergeHelper = pd.merge(case, hosp, how = \"outer\", on = [\"date\"])\n",
    "    regionAllData = pd.merge(mergeHelper, death, how = \"outer\", on = [\"date\"])\n",
    "    \n",
    "    return regionAllData"
   ]
  },
  {
   "cell_type": "code",
   "execution_count": 163,
   "metadata": {},
   "outputs": [],
   "source": [
    "# regional plot generalize function\n",
    "def regionPlot (regionAllData, region):\n",
    "    df = bronxAllData\n",
    "    df[\"date\"] = df[\"date\"].astype(np.str_)\n",
    "    df[\"date\"] = pd.to_datetime(df[\"date\"])\n",
    "    df=df.set_index(\"date\")\n",
    "\n",
    "    df[[\"cases\",\"ever-hospitalized\",\"deaths\"]].plot.area(stacked = False,cmap = \"tab10_r\")\n",
    "    plt.title(region.capitalize() + \" COVID-19 Data\", fontsize = 20)\n",
    "    plt.legend()\n",
    "    plt.show()"
   ]
  },
  {
   "cell_type": "markdown",
   "metadata": {},
   "source": [
    "# Data for Each Borough"
   ]
  },
  {
   "cell_type": "code",
   "execution_count": 169,
   "metadata": {},
   "outputs": [
    {
     "data": {
      "text/html": [
       "<div>\n",
       "<style scoped>\n",
       "    .dataframe tbody tr th:only-of-type {\n",
       "        vertical-align: middle;\n",
       "    }\n",
       "\n",
       "    .dataframe tbody tr th {\n",
       "        vertical-align: top;\n",
       "    }\n",
       "\n",
       "    .dataframe thead th {\n",
       "        text-align: right;\n",
       "    }\n",
       "</style>\n",
       "<table border=\"1\" class=\"dataframe\">\n",
       "  <thead>\n",
       "    <tr style=\"text-align: right;\">\n",
       "      <th></th>\n",
       "      <th>date</th>\n",
       "      <th>cases</th>\n",
       "      <th>ever-hospitalized</th>\n",
       "      <th>deaths</th>\n",
       "    </tr>\n",
       "  </thead>\n",
       "  <tbody>\n",
       "    <tr>\n",
       "      <th>0</th>\n",
       "      <td>2020-03-12</td>\n",
       "      <td>10</td>\n",
       "      <td>NaN</td>\n",
       "      <td>NaN</td>\n",
       "    </tr>\n",
       "    <tr>\n",
       "      <th>1</th>\n",
       "      <td>2020-03-13</td>\n",
       "      <td>13</td>\n",
       "      <td>NaN</td>\n",
       "      <td>NaN</td>\n",
       "    </tr>\n",
       "    <tr>\n",
       "      <th>2</th>\n",
       "      <td>2020-03-15</td>\n",
       "      <td>21</td>\n",
       "      <td>NaN</td>\n",
       "      <td>NaN</td>\n",
       "    </tr>\n",
       "    <tr>\n",
       "      <th>3</th>\n",
       "      <td>2020-03-16</td>\n",
       "      <td>34</td>\n",
       "      <td>NaN</td>\n",
       "      <td>NaN</td>\n",
       "    </tr>\n",
       "    <tr>\n",
       "      <th>4</th>\n",
       "      <td>2020-03-17</td>\n",
       "      <td>106</td>\n",
       "      <td>NaN</td>\n",
       "      <td>NaN</td>\n",
       "    </tr>\n",
       "  </tbody>\n",
       "</table>\n",
       "</div>"
      ],
      "text/plain": [
       "        date  cases  ever-hospitalized  deaths\n",
       "0 2020-03-12     10                NaN     NaN\n",
       "1 2020-03-13     13                NaN     NaN\n",
       "2 2020-03-15     21                NaN     NaN\n",
       "3 2020-03-16     34                NaN     NaN\n",
       "4 2020-03-17    106                NaN     NaN"
      ]
     },
     "execution_count": 169,
     "metadata": {},
     "output_type": "execute_result"
    }
   ],
   "source": [
    "# case, death, haspitalized data for bronx \n",
    "bronxData = borough[[\"date\",\"type\",\"bronx\"]] \n",
    "region = \"bronx\"\n",
    "bronxAllData = regionData (bronxData, region)\n",
    "bronxAllData.head(5)"
   ]
  },
  {
   "cell_type": "code",
   "execution_count": 170,
   "metadata": {},
   "outputs": [
    {
     "data": {
      "image/png": "[encoded data removed]",
      "text/plain": [
       "<Figure size 432x288 with 1 Axes>"
      ]
     },
     "metadata": {
      "needs_background": "light"
     },
     "output_type": "display_data"
    }
   ],
   "source": [
    "regionPlot (bronxAllData, region)"
   ]
  },
  {
   "cell_type": "code",
   "execution_count": 171,
   "metadata": {},
   "outputs": [
    {
     "data": {
      "text/html": [
       "<div>\n",
       "<style scoped>\n",
       "    .dataframe tbody tr th:only-of-type {\n",
       "        vertical-align: middle;\n",
       "    }\n",
       "\n",
       "    .dataframe tbody tr th {\n",
       "        vertical-align: top;\n",
       "    }\n",
       "\n",
       "    .dataframe thead th {\n",
       "        text-align: right;\n",
       "    }\n",
       "</style>\n",
       "<table border=\"1\" class=\"dataframe\">\n",
       "  <thead>\n",
       "    <tr style=\"text-align: right;\">\n",
       "      <th></th>\n",
       "      <th>date</th>\n",
       "      <th>cases</th>\n",
       "      <th>ever-hospitalized</th>\n",
       "      <th>deaths</th>\n",
       "    </tr>\n",
       "  </thead>\n",
       "  <tbody>\n",
       "    <tr>\n",
       "      <th>0</th>\n",
       "      <td>2020-03-12</td>\n",
       "      <td>24</td>\n",
       "      <td>NaN</td>\n",
       "      <td>NaN</td>\n",
       "    </tr>\n",
       "    <tr>\n",
       "      <th>1</th>\n",
       "      <td>2020-03-13</td>\n",
       "      <td>24</td>\n",
       "      <td>NaN</td>\n",
       "      <td>NaN</td>\n",
       "    </tr>\n",
       "    <tr>\n",
       "      <th>2</th>\n",
       "      <td>2020-03-15</td>\n",
       "      <td>53</td>\n",
       "      <td>NaN</td>\n",
       "      <td>NaN</td>\n",
       "    </tr>\n",
       "    <tr>\n",
       "      <th>3</th>\n",
       "      <td>2020-03-16</td>\n",
       "      <td>62</td>\n",
       "      <td>NaN</td>\n",
       "      <td>NaN</td>\n",
       "    </tr>\n",
       "    <tr>\n",
       "      <th>4</th>\n",
       "      <td>2020-03-17</td>\n",
       "      <td>236</td>\n",
       "      <td>NaN</td>\n",
       "      <td>NaN</td>\n",
       "    </tr>\n",
       "  </tbody>\n",
       "</table>\n",
       "</div>"
      ],
      "text/plain": [
       "        date  cases  ever-hospitalized  deaths\n",
       "0 2020-03-12     24                NaN     NaN\n",
       "1 2020-03-13     24                NaN     NaN\n",
       "2 2020-03-15     53                NaN     NaN\n",
       "3 2020-03-16     62                NaN     NaN\n",
       "4 2020-03-17    236                NaN     NaN"
      ]
     },
     "execution_count": 171,
     "metadata": {},
     "output_type": "execute_result"
    }
   ],
   "source": [
    "# case, death, haspitalized data for brooklyn\n",
    "brooklynData = borough[[\"date\",\"type\",\"brooklyn\"]] \n",
    "region = \"brooklyn\"\n",
    "brooklynAllData = regionData (brooklynData, region)\n",
    "brooklynAllData.head(5)"
   ]
  },
  {
   "cell_type": "code",
   "execution_count": 150,
   "metadata": {},
   "outputs": [
    {
     "data": {
      "image/png": "[encoded data removed]",
      "text/plain": [
       "<Figure size 432x288 with 1 Axes>"
      ]
     },
     "metadata": {
      "needs_background": "light"
     },
     "output_type": "display_data"
    }
   ],
   "source": [
    "regionPlot (brooklynAllData, region)"
   ]
  },
  {
   "cell_type": "code",
   "execution_count": 172,
   "metadata": {},
   "outputs": [
    {
     "data": {
      "text/html": [
       "<div>\n",
       "<style scoped>\n",
       "    .dataframe tbody tr th:only-of-type {\n",
       "        vertical-align: middle;\n",
       "    }\n",
       "\n",
       "    .dataframe tbody tr th {\n",
       "        vertical-align: top;\n",
       "    }\n",
       "\n",
       "    .dataframe thead th {\n",
       "        text-align: right;\n",
       "    }\n",
       "</style>\n",
       "<table border=\"1\" class=\"dataframe\">\n",
       "  <thead>\n",
       "    <tr style=\"text-align: right;\">\n",
       "      <th></th>\n",
       "      <th>date</th>\n",
       "      <th>cases</th>\n",
       "      <th>ever-hospitalized</th>\n",
       "      <th>deaths</th>\n",
       "    </tr>\n",
       "  </thead>\n",
       "  <tbody>\n",
       "    <tr>\n",
       "      <th>0</th>\n",
       "      <td>2020-03-12</td>\n",
       "      <td>25</td>\n",
       "      <td>NaN</td>\n",
       "      <td>NaN</td>\n",
       "    </tr>\n",
       "    <tr>\n",
       "      <th>1</th>\n",
       "      <td>2020-03-13</td>\n",
       "      <td>35</td>\n",
       "      <td>NaN</td>\n",
       "      <td>NaN</td>\n",
       "    </tr>\n",
       "    <tr>\n",
       "      <th>2</th>\n",
       "      <td>2020-03-15</td>\n",
       "      <td>72</td>\n",
       "      <td>NaN</td>\n",
       "      <td>NaN</td>\n",
       "    </tr>\n",
       "    <tr>\n",
       "      <th>3</th>\n",
       "      <td>2020-03-16</td>\n",
       "      <td>111</td>\n",
       "      <td>NaN</td>\n",
       "      <td>NaN</td>\n",
       "    </tr>\n",
       "    <tr>\n",
       "      <th>4</th>\n",
       "      <td>2020-03-17</td>\n",
       "      <td>290</td>\n",
       "      <td>NaN</td>\n",
       "      <td>NaN</td>\n",
       "    </tr>\n",
       "  </tbody>\n",
       "</table>\n",
       "</div>"
      ],
      "text/plain": [
       "        date  cases  ever-hospitalized  deaths\n",
       "0 2020-03-12     25                NaN     NaN\n",
       "1 2020-03-13     35                NaN     NaN\n",
       "2 2020-03-15     72                NaN     NaN\n",
       "3 2020-03-16    111                NaN     NaN\n",
       "4 2020-03-17    290                NaN     NaN"
      ]
     },
     "execution_count": 172,
     "metadata": {},
     "output_type": "execute_result"
    }
   ],
   "source": [
    "# case, death, haspitalized data for manhattan\n",
    "manhattanData = borough[[\"date\",\"type\",\"manhattan\"]]\n",
    "region = \"manhattan\"\n",
    "manhattanAllData = regionData (manhattanData, region)\n",
    "manhattanAllData.head(5)"
   ]
  },
  {
   "cell_type": "code",
   "execution_count": 166,
   "metadata": {},
   "outputs": [
    {
     "data": {
      "image/png": "[encoded data removed]",
      "text/plain": [
       "<Figure size 432x288 with 1 Axes>"
      ]
     },
     "metadata": {
      "needs_background": "light"
     },
     "output_type": "display_data"
    }
   ],
   "source": [
    "regionPlot (manhattanAllData, region)"
   ]
  },
  {
   "cell_type": "code",
   "execution_count": 173,
   "metadata": {},
   "outputs": [
    {
     "data": {
      "text/html": [
       "<div>\n",
       "<style scoped>\n",
       "    .dataframe tbody tr th:only-of-type {\n",
       "        vertical-align: middle;\n",
       "    }\n",
       "\n",
       "    .dataframe tbody tr th {\n",
       "        vertical-align: top;\n",
       "    }\n",
       "\n",
       "    .dataframe thead th {\n",
       "        text-align: right;\n",
       "    }\n",
       "</style>\n",
       "<table border=\"1\" class=\"dataframe\">\n",
       "  <thead>\n",
       "    <tr style=\"text-align: right;\">\n",
       "      <th></th>\n",
       "      <th>date</th>\n",
       "      <th>cases</th>\n",
       "      <th>ever-hospitalized</th>\n",
       "      <th>deaths</th>\n",
       "    </tr>\n",
       "  </thead>\n",
       "  <tbody>\n",
       "    <tr>\n",
       "      <th>0</th>\n",
       "      <td>2020-03-12</td>\n",
       "      <td>17</td>\n",
       "      <td>NaN</td>\n",
       "      <td>NaN</td>\n",
       "    </tr>\n",
       "    <tr>\n",
       "      <th>1</th>\n",
       "      <td>2020-03-13</td>\n",
       "      <td>26</td>\n",
       "      <td>NaN</td>\n",
       "      <td>NaN</td>\n",
       "    </tr>\n",
       "    <tr>\n",
       "      <th>2</th>\n",
       "      <td>2020-03-15</td>\n",
       "      <td>78</td>\n",
       "      <td>NaN</td>\n",
       "      <td>NaN</td>\n",
       "    </tr>\n",
       "    <tr>\n",
       "      <th>3</th>\n",
       "      <td>2020-03-16</td>\n",
       "      <td>118</td>\n",
       "      <td>NaN</td>\n",
       "      <td>NaN</td>\n",
       "    </tr>\n",
       "    <tr>\n",
       "      <th>4</th>\n",
       "      <td>2020-03-17</td>\n",
       "      <td>248</td>\n",
       "      <td>NaN</td>\n",
       "      <td>NaN</td>\n",
       "    </tr>\n",
       "  </tbody>\n",
       "</table>\n",
       "</div>"
      ],
      "text/plain": [
       "        date  cases  ever-hospitalized  deaths\n",
       "0 2020-03-12     17                NaN     NaN\n",
       "1 2020-03-13     26                NaN     NaN\n",
       "2 2020-03-15     78                NaN     NaN\n",
       "3 2020-03-16    118                NaN     NaN\n",
       "4 2020-03-17    248                NaN     NaN"
      ]
     },
     "execution_count": 173,
     "metadata": {},
     "output_type": "execute_result"
    }
   ],
   "source": [
    "# case, death, haspitalized data for queens\n",
    "queensData = borough[[\"date\",\"type\",\"queens\"]] \n",
    "region = \"queens\"\n",
    "queensAllData = regionData (queensData, region)\n",
    "queensAllData.head(5)"
   ]
  },
  {
   "cell_type": "code",
   "execution_count": 152,
   "metadata": {},
   "outputs": [
    {
     "data": {
      "image/png": "[encoded data removed]",
      "text/plain": [
       "<Figure size 432x288 with 1 Axes>"
      ]
     },
     "metadata": {
      "needs_background": "light"
     },
     "output_type": "display_data"
    }
   ],
   "source": [
    "regionPlot (queensAllData, region)"
   ]
  },
  {
   "cell_type": "code",
   "execution_count": 174,
   "metadata": {},
   "outputs": [
    {
     "data": {
      "text/html": [
       "<div>\n",
       "<style scoped>\n",
       "    .dataframe tbody tr th:only-of-type {\n",
       "        vertical-align: middle;\n",
       "    }\n",
       "\n",
       "    .dataframe tbody tr th {\n",
       "        vertical-align: top;\n",
       "    }\n",
       "\n",
       "    .dataframe thead th {\n",
       "        text-align: right;\n",
       "    }\n",
       "</style>\n",
       "<table border=\"1\" class=\"dataframe\">\n",
       "  <thead>\n",
       "    <tr style=\"text-align: right;\">\n",
       "      <th></th>\n",
       "      <th>date</th>\n",
       "      <th>cases</th>\n",
       "      <th>ever-hospitalized</th>\n",
       "      <th>deaths</th>\n",
       "    </tr>\n",
       "  </thead>\n",
       "  <tbody>\n",
       "    <tr>\n",
       "      <th>0</th>\n",
       "      <td>2020-03-12</td>\n",
       "      <td>5</td>\n",
       "      <td>NaN</td>\n",
       "      <td>NaN</td>\n",
       "    </tr>\n",
       "    <tr>\n",
       "      <th>1</th>\n",
       "      <td>2020-03-13</td>\n",
       "      <td>5</td>\n",
       "      <td>NaN</td>\n",
       "      <td>NaN</td>\n",
       "    </tr>\n",
       "    <tr>\n",
       "      <th>2</th>\n",
       "      <td>2020-03-15</td>\n",
       "      <td>16</td>\n",
       "      <td>NaN</td>\n",
       "      <td>NaN</td>\n",
       "    </tr>\n",
       "    <tr>\n",
       "      <th>3</th>\n",
       "      <td>2020-03-16</td>\n",
       "      <td>19</td>\n",
       "      <td>NaN</td>\n",
       "      <td>NaN</td>\n",
       "    </tr>\n",
       "    <tr>\n",
       "      <th>4</th>\n",
       "      <td>2020-03-17</td>\n",
       "      <td>42</td>\n",
       "      <td>NaN</td>\n",
       "      <td>NaN</td>\n",
       "    </tr>\n",
       "  </tbody>\n",
       "</table>\n",
       "</div>"
      ],
      "text/plain": [
       "        date  cases  ever-hospitalized  deaths\n",
       "0 2020-03-12      5                NaN     NaN\n",
       "1 2020-03-13      5                NaN     NaN\n",
       "2 2020-03-15     16                NaN     NaN\n",
       "3 2020-03-16     19                NaN     NaN\n",
       "4 2020-03-17     42                NaN     NaN"
      ]
     },
     "execution_count": 174,
     "metadata": {},
     "output_type": "execute_result"
    }
   ],
   "source": [
    "# case, death, haspitalized data for staten_island\n",
    "staten_islandData = borough[[\"date\",\"type\",\"staten_island\"]] \n",
    "region = \"staten_island\"\n",
    "staten_islandAllData = regionData (staten_islandData, region)\n",
    "staten_islandAllData.head(5)"
   ]
  },
  {
   "cell_type": "code",
   "execution_count": 175,
   "metadata": {},
   "outputs": [
    {
     "data": {
      "image/png": "[encoded data removed]",
      "text/plain": [
       "<Figure size 432x288 with 1 Axes>"
      ]
     },
     "metadata": {
      "needs_background": "light"
     },
     "output_type": "display_data"
    }
   ],
   "source": [
    "regionPlot (staten_islandAllData, region)"
   ]
  },
  {
   "cell_type": "code",
   "execution_count": null,
   "metadata": {},
   "outputs": [],
   "source": []
  },
  {
   "cell_type": "code",
   "execution_count": null,
   "metadata": {},
   "outputs": [],
   "source": []
  },
  {
   "cell_type": "code",
   "execution_count": null,
   "metadata": {},
   "outputs": [],
   "source": []
  }
 ],
 "metadata": {
  "@deathbeds/jupyterlab-fonts": {
   "styles": {
    ":root": {
     "--jp-code-font-size": "17px",
     "--jp-code-line-height": "1.5"
    }
   }
  },
  "kernelspec": {
   "display_name": "Python 3",
   "language": "python",
   "name": "python3"
  },
  "language_info": {
   "codemirror_mode": {
    "name": "ipython",
    "version": 2
   },
   "file_extension": ".py",
   "mimetype": "text/x-python",
   "name": "python",
   "nbconvert_exporter": "python",
   "pygments_lexer": "ipython2",
   "version": "2.7.16"
  }
 },
 "nbformat": 4,
 "nbformat_minor": 2
}
