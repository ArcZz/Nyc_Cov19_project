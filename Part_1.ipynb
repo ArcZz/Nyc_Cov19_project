{
 "cells": [
  {
   "cell_type": "code",
   "execution_count": 1,
   "metadata": {},
   "outputs": [],
   "source": [
    "import pyspark\n",
    "import pandas as pd\n",
    "from pyspark.sql.functions import *\n",
    "from pyspark.sql import SparkSession\n",
    "import pyspark.sql.functions as f\n",
    "\n",
    "import matplotlib.pyplot as plt\n",
    "from scipy.optimize import curve_fit\n",
    "import numpy as np\n",
    "import math\n",
    "import datetime\n",
    "import seaborn as sns\n",
    "import warnings\n",
    "\n",
    "spark = SparkSession.builder.appName(\"bigdata\")\\\n",
    "                    .config(\"spark.some.config.option\", \"some-value\")\\\n",
    "                    .getOrCreate()"
   ]
  },
  {
   "cell_type": "code",
   "execution_count": 2,
   "metadata": {},
   "outputs": [],
   "source": [
    "%run data.py\n",
    "warnings.filterwarnings(\"ignore\")  # ignore warnings"
   ]
  },
  {
   "cell_type": "code",
   "execution_count": 3,
   "metadata": {},
   "outputs": [
    {
     "data": {
      "text/html": [
       "<div>\n",
       "<style scoped>\n",
       "    .dataframe tbody tr th:only-of-type {\n",
       "        vertical-align: middle;\n",
       "    }\n",
       "\n",
       "    .dataframe tbody tr th {\n",
       "        vertical-align: top;\n",
       "    }\n",
       "\n",
       "    .dataframe thead th {\n",
       "        text-align: right;\n",
       "    }\n",
       "</style>\n",
       "<table border=\"1\" class=\"dataframe\">\n",
       "  <thead>\n",
       "    <tr style=\"text-align: right;\">\n",
       "      <th></th>\n",
       "      <th>date</th>\n",
       "      <th>type</th>\n",
       "      <th>bronx</th>\n",
       "      <th>brooklyn</th>\n",
       "      <th>manhattan</th>\n",
       "      <th>queens</th>\n",
       "      <th>staten_island</th>\n",
       "      <th>unknown</th>\n",
       "      <th>total</th>\n",
       "    </tr>\n",
       "  </thead>\n",
       "  <tbody>\n",
       "    <tr>\n",
       "      <th>0</th>\n",
       "      <td>2020-03-12</td>\n",
       "      <td>cases</td>\n",
       "      <td>10</td>\n",
       "      <td>24</td>\n",
       "      <td>25</td>\n",
       "      <td>17</td>\n",
       "      <td>5</td>\n",
       "      <td>7</td>\n",
       "      <td>88</td>\n",
       "    </tr>\n",
       "    <tr>\n",
       "      <th>1</th>\n",
       "      <td>2020-03-13</td>\n",
       "      <td>cases</td>\n",
       "      <td>13</td>\n",
       "      <td>24</td>\n",
       "      <td>35</td>\n",
       "      <td>26</td>\n",
       "      <td>5</td>\n",
       "      <td>34</td>\n",
       "      <td>137</td>\n",
       "    </tr>\n",
       "    <tr>\n",
       "      <th>2</th>\n",
       "      <td>2020-03-15</td>\n",
       "      <td>cases</td>\n",
       "      <td>21</td>\n",
       "      <td>53</td>\n",
       "      <td>72</td>\n",
       "      <td>78</td>\n",
       "      <td>16</td>\n",
       "      <td>29</td>\n",
       "      <td>269</td>\n",
       "    </tr>\n",
       "  </tbody>\n",
       "</table>\n",
       "</div>"
      ],
      "text/plain": [
       "        date   type  bronx  brooklyn  manhattan  queens  staten_island  \\\n",
       "0 2020-03-12  cases     10        24         25      17              5   \n",
       "1 2020-03-13  cases     13        24         35      26              5   \n",
       "2 2020-03-15  cases     21        53         72      78             16   \n",
       "\n",
       "   unknown  total  \n",
       "0        7     88  \n",
       "1       34    137  \n",
       "2       29    269  "
      ]
     },
     "execution_count": 3,
     "metadata": {},
     "output_type": "execute_result"
    }
   ],
   "source": [
    "# filter the dataframe, just leave the cases, deaths and ever-hospitalized\n",
    "nycBorough = fetchData(nyc_his_boro_url)\n",
    "borough = nycBorough[(nycBorough.type == \"cases\") | (nycBorough.type == \"deaths\") | (nycBorough.type == \"ever-hospitalized\")]\n",
    "\n",
    "# change the timestamp to date and rearrange the columns\n",
    "borough[[\"date\",\"time\"]] = borough[\"timestamp\"].str.split(\"T\", expand = True)\n",
    "borough = borough[[\"date\",\"type\",\"bronx\",\"brooklyn\",\"manhattan\",\"queens\",\"staten_island\",\"unknown\",\"total\"]]\n",
    "borough[\"date\"] = pd.to_datetime(borough['date'])\n",
    "borough.head(3)"
   ]
  },
  {
   "cell_type": "code",
   "execution_count": 4,
   "metadata": {},
   "outputs": [
    {
     "data": {
      "text/html": [
       "<div>\n",
       "<style scoped>\n",
       "    .dataframe tbody tr th:only-of-type {\n",
       "        vertical-align: middle;\n",
       "    }\n",
       "\n",
       "    .dataframe tbody tr th {\n",
       "        vertical-align: top;\n",
       "    }\n",
       "\n",
       "    .dataframe thead th {\n",
       "        text-align: right;\n",
       "    }\n",
       "</style>\n",
       "<table border=\"1\" class=\"dataframe\">\n",
       "  <thead>\n",
       "    <tr style=\"text-align: right;\">\n",
       "      <th></th>\n",
       "      <th>date</th>\n",
       "      <th>bronx</th>\n",
       "      <th>brooklyn</th>\n",
       "      <th>manhattan</th>\n",
       "      <th>queens</th>\n",
       "      <th>staten_island</th>\n",
       "      <th>unknown</th>\n",
       "      <th>total</th>\n",
       "    </tr>\n",
       "    <tr>\n",
       "      <th>type</th>\n",
       "      <th></th>\n",
       "      <th></th>\n",
       "      <th></th>\n",
       "      <th></th>\n",
       "      <th></th>\n",
       "      <th></th>\n",
       "      <th></th>\n",
       "      <th></th>\n",
       "    </tr>\n",
       "  </thead>\n",
       "  <tbody>\n",
       "    <tr>\n",
       "      <th>cases</th>\n",
       "      <td>2020-05-05</td>\n",
       "      <td>39587</td>\n",
       "      <td>46139</td>\n",
       "      <td>21470</td>\n",
       "      <td>53692</td>\n",
       "      <td>12311</td>\n",
       "      <td>89</td>\n",
       "      <td>173288</td>\n",
       "    </tr>\n",
       "    <tr>\n",
       "      <th>deaths</th>\n",
       "      <td>2020-05-05</td>\n",
       "      <td>3046</td>\n",
       "      <td>4194</td>\n",
       "      <td>1822</td>\n",
       "      <td>4213</td>\n",
       "      <td>655</td>\n",
       "      <td>8</td>\n",
       "      <td>13938</td>\n",
       "    </tr>\n",
       "    <tr>\n",
       "      <th>ever-hospitalized</th>\n",
       "      <td>2020-05-05</td>\n",
       "      <td>10147</td>\n",
       "      <td>11641</td>\n",
       "      <td>5917</td>\n",
       "      <td>14003</td>\n",
       "      <td>1948</td>\n",
       "      <td>20</td>\n",
       "      <td>43676</td>\n",
       "    </tr>\n",
       "  </tbody>\n",
       "</table>\n",
       "</div>"
      ],
      "text/plain": [
       "                        date  bronx  brooklyn  manhattan  queens  \\\n",
       "type                                                               \n",
       "cases             2020-05-05  39587     46139      21470   53692   \n",
       "deaths            2020-05-05   3046      4194       1822    4213   \n",
       "ever-hospitalized 2020-05-05  10147     11641       5917   14003   \n",
       "\n",
       "                   staten_island  unknown   total  \n",
       "type                                               \n",
       "cases                      12311       89  173288  \n",
       "deaths                       655        8   13938  \n",
       "ever-hospitalized           1948       20   43676  "
      ]
     },
     "execution_count": 4,
     "metadata": {},
     "output_type": "execute_result"
    }
   ],
   "source": [
    "# get the latest data for condirmed cases, deaths and hospitalized\n",
    "update = borough.tail(3)\n",
    "update.set_index([\"type\"], inplace = True) \n",
    "update"
   ]
  },
  {
   "cell_type": "code",
   "execution_count": 5,
   "metadata": {},
   "outputs": [],
   "source": [
    "def getTimeRange(inputeData):\n",
    "    firstRow = inputeData.head(1)\n",
    "    start_date = firstRow.iloc[[0],[0]].values[0][0]\n",
    "    start_date = pd.to_datetime(str(start_date)).strftime(\"%Y.%m.%d\")\n",
    "\n",
    "    lastRow = inputeData.tail(1)\n",
    "    latest_date = lastRow.iloc[[0],[0]].values[0][0]\n",
    "    latest_date = pd.to_datetime(str(latest_date)).strftime(\"%Y.%m.%d\")\n",
    "\n",
    "    print(\"Update: \" + latest_date + \" (from \" + latest_date + \")\")"
   ]
  },
  {
   "cell_type": "code",
   "execution_count": 6,
   "metadata": {},
   "outputs": [],
   "source": [
    "# regional all data generalize function\n",
    "def regionData (regionSourceData, region):\n",
    "    case = regionSourceData[(regionSourceData.type == \"cases\")]\n",
    "    death = regionSourceData[(regionSourceData.type == \"deaths\")]\n",
    "    hosp = regionSourceData[(regionSourceData.type == \"ever-hospitalized\")]\n",
    "    \n",
    "    case.rename(columns = {region:\"cases\"}, inplace = True)\n",
    "    case.drop(columns = [\"type\"], inplace = True)\n",
    "    \n",
    "    death.rename(columns = {region:\"deaths\"}, inplace= True)\n",
    "    death.drop(columns = [\"type\"], inplace = True)\n",
    "\n",
    "    hosp.rename(columns = {region:\"ever-hospitalized\"}, inplace = True)\n",
    "    hosp.drop(columns = [\"type\"], inplace = True)\n",
    "    \n",
    "    mergeHelper = pd.merge(case, hosp, how = \"outer\", on = [\"date\"])\n",
    "    regionAllData = pd.merge(mergeHelper, death, how = \"outer\", on = [\"date\"])\n",
    "    regionAllData = regionAllData.fillna(0)\n",
    "    regionAllData[[\"cases\", \"ever-hospitalized\", \"deaths\"]] \\\n",
    "                    = regionAllData[[\"cases\", \"ever-hospitalized\", \"deaths\"]].astype(int)\n",
    "    \n",
    "    return regionAllData"
   ]
  },
  {
   "cell_type": "code",
   "execution_count": 7,
   "metadata": {},
   "outputs": [],
   "source": [
    "# regional plot generalize function\n",
    "def regionPlot (regionAllData, region):\n",
    "    df = regionAllData\n",
    "    df[\"date\"] = df[\"date\"].astype(np.str_)\n",
    "    df[\"date\"] = pd.to_datetime(df[\"date\"])\n",
    "    df=df.set_index(\"date\")\n",
    "\n",
    "    df[[\"cases\",\"ever-hospitalized\",\"deaths\"]].plot.area(stacked = False,cmap = \"tab10_r\")\n",
    "    plt.title(region.capitalize() + \" COVID-19 Data\", fontsize = 20)\n",
    "    plt.legend()\n",
    "    plt.show()"
   ]
  },
  {
   "cell_type": "markdown",
   "metadata": {},
   "source": [
    "# NYC COVID-19 Summary"
   ]
  },
  {
   "cell_type": "code",
   "execution_count": 8,
   "metadata": {},
   "outputs": [
    {
     "name": "stdout",
     "output_type": "stream",
     "text": [
      "Update: 2020.05.05 (from 2020.05.05)\n"
     ]
    }
   ],
   "source": [
    "# Summary data updated date \n",
    "getTimeRange(borough)"
   ]
  },
  {
   "cell_type": "code",
   "execution_count": 9,
   "metadata": {},
   "outputs": [
    {
     "data": {
      "text/html": [
       "<style  type=\"text/css\" >\n",
       "    #T_4aefcdf3_9042_11ea_8d99_acde48001122row0_col0 {\n",
       "            background-color:  #cdeeee;\n",
       "            color:  #000000;\n",
       "        }    #T_4aefcdf3_9042_11ea_8d99_acde48001122row0_col1 {\n",
       "            background-color:  #cfefef;\n",
       "            color:  #000000;\n",
       "        }    #T_4aefcdf3_9042_11ea_8d99_acde48001122row0_col2 {\n",
       "            background-color:  #cdeeee;\n",
       "            color:  #000000;\n",
       "        }    #T_4aefcdf3_9042_11ea_8d99_acde48001122row1_col0 {\n",
       "            background-color:  #c8eded;\n",
       "            color:  #000000;\n",
       "        }    #T_4aefcdf3_9042_11ea_8d99_acde48001122row1_col1 {\n",
       "            background-color:  #c4ebeb;\n",
       "            color:  #000000;\n",
       "        }    #T_4aefcdf3_9042_11ea_8d99_acde48001122row1_col2 {\n",
       "            background-color:  #c8eded;\n",
       "            color:  #000000;\n",
       "        }    #T_4aefcdf3_9042_11ea_8d99_acde48001122row2_col0 {\n",
       "            background-color:  #dcf3f3;\n",
       "            color:  #000000;\n",
       "        }    #T_4aefcdf3_9042_11ea_8d99_acde48001122row2_col1 {\n",
       "            background-color:  #dbf3f3;\n",
       "            color:  #000000;\n",
       "        }    #T_4aefcdf3_9042_11ea_8d99_acde48001122row2_col2 {\n",
       "            background-color:  #daf3f3;\n",
       "            color:  #000000;\n",
       "        }    #T_4aefcdf3_9042_11ea_8d99_acde48001122row3_col0 {\n",
       "            background-color:  #c2ebeb;\n",
       "            color:  #000000;\n",
       "        }    #T_4aefcdf3_9042_11ea_8d99_acde48001122row3_col1 {\n",
       "            background-color:  #c3ebeb;\n",
       "            color:  #000000;\n",
       "        }    #T_4aefcdf3_9042_11ea_8d99_acde48001122row3_col2 {\n",
       "            background-color:  #c1eaea;\n",
       "            color:  #000000;\n",
       "        }    #T_4aefcdf3_9042_11ea_8d99_acde48001122row4_col0 {\n",
       "            background-color:  #e2f5f5;\n",
       "            color:  #000000;\n",
       "        }    #T_4aefcdf3_9042_11ea_8d99_acde48001122row4_col1 {\n",
       "            background-color:  #e6f7f7;\n",
       "            color:  #000000;\n",
       "        }    #T_4aefcdf3_9042_11ea_8d99_acde48001122row4_col2 {\n",
       "            background-color:  #e6f7f7;\n",
       "            color:  #000000;\n",
       "        }    #T_4aefcdf3_9042_11ea_8d99_acde48001122row5_col0 {\n",
       "            background-color:  #ecf9f9;\n",
       "            color:  #000000;\n",
       "        }    #T_4aefcdf3_9042_11ea_8d99_acde48001122row5_col1 {\n",
       "            background-color:  #ecf9f9;\n",
       "            color:  #000000;\n",
       "        }    #T_4aefcdf3_9042_11ea_8d99_acde48001122row5_col2 {\n",
       "            background-color:  #ecf9f9;\n",
       "            color:  #000000;\n",
       "        }    #T_4aefcdf3_9042_11ea_8d99_acde48001122row6_col0 {\n",
       "            background-color:  #66cccc;\n",
       "            color:  #000000;\n",
       "        }    #T_4aefcdf3_9042_11ea_8d99_acde48001122row6_col1 {\n",
       "            background-color:  #66cccc;\n",
       "            color:  #000000;\n",
       "        }    #T_4aefcdf3_9042_11ea_8d99_acde48001122row6_col2 {\n",
       "            background-color:  #66cccc;\n",
       "            color:  #000000;\n",
       "        }</style><table id=\"T_4aefcdf3_9042_11ea_8d99_acde48001122\" ><thead>    <tr>        <th class=\"index_name level0\" >type</th>        <th class=\"col_heading level0 col0\" >cases</th>        <th class=\"col_heading level0 col1\" >deaths</th>        <th class=\"col_heading level0 col2\" >ever-hospitalized</th>    </tr></thead><tbody>\n",
       "                <tr>\n",
       "                        <th id=\"T_4aefcdf3_9042_11ea_8d99_acde48001122level0_row0\" class=\"row_heading level0 row0\" >bronx</th>\n",
       "                        <td id=\"T_4aefcdf3_9042_11ea_8d99_acde48001122row0_col0\" class=\"data row0 col0\" >39587</td>\n",
       "                        <td id=\"T_4aefcdf3_9042_11ea_8d99_acde48001122row0_col1\" class=\"data row0 col1\" >3046</td>\n",
       "                        <td id=\"T_4aefcdf3_9042_11ea_8d99_acde48001122row0_col2\" class=\"data row0 col2\" >10147</td>\n",
       "            </tr>\n",
       "            <tr>\n",
       "                        <th id=\"T_4aefcdf3_9042_11ea_8d99_acde48001122level0_row1\" class=\"row_heading level0 row1\" >brooklyn</th>\n",
       "                        <td id=\"T_4aefcdf3_9042_11ea_8d99_acde48001122row1_col0\" class=\"data row1 col0\" >46139</td>\n",
       "                        <td id=\"T_4aefcdf3_9042_11ea_8d99_acde48001122row1_col1\" class=\"data row1 col1\" >4194</td>\n",
       "                        <td id=\"T_4aefcdf3_9042_11ea_8d99_acde48001122row1_col2\" class=\"data row1 col2\" >11641</td>\n",
       "            </tr>\n",
       "            <tr>\n",
       "                        <th id=\"T_4aefcdf3_9042_11ea_8d99_acde48001122level0_row2\" class=\"row_heading level0 row2\" >manhattan</th>\n",
       "                        <td id=\"T_4aefcdf3_9042_11ea_8d99_acde48001122row2_col0\" class=\"data row2 col0\" >21470</td>\n",
       "                        <td id=\"T_4aefcdf3_9042_11ea_8d99_acde48001122row2_col1\" class=\"data row2 col1\" >1822</td>\n",
       "                        <td id=\"T_4aefcdf3_9042_11ea_8d99_acde48001122row2_col2\" class=\"data row2 col2\" >5917</td>\n",
       "            </tr>\n",
       "            <tr>\n",
       "                        <th id=\"T_4aefcdf3_9042_11ea_8d99_acde48001122level0_row3\" class=\"row_heading level0 row3\" >queens</th>\n",
       "                        <td id=\"T_4aefcdf3_9042_11ea_8d99_acde48001122row3_col0\" class=\"data row3 col0\" >53692</td>\n",
       "                        <td id=\"T_4aefcdf3_9042_11ea_8d99_acde48001122row3_col1\" class=\"data row3 col1\" >4213</td>\n",
       "                        <td id=\"T_4aefcdf3_9042_11ea_8d99_acde48001122row3_col2\" class=\"data row3 col2\" >14003</td>\n",
       "            </tr>\n",
       "            <tr>\n",
       "                        <th id=\"T_4aefcdf3_9042_11ea_8d99_acde48001122level0_row4\" class=\"row_heading level0 row4\" >staten_island</th>\n",
       "                        <td id=\"T_4aefcdf3_9042_11ea_8d99_acde48001122row4_col0\" class=\"data row4 col0\" >12311</td>\n",
       "                        <td id=\"T_4aefcdf3_9042_11ea_8d99_acde48001122row4_col1\" class=\"data row4 col1\" >655</td>\n",
       "                        <td id=\"T_4aefcdf3_9042_11ea_8d99_acde48001122row4_col2\" class=\"data row4 col2\" >1948</td>\n",
       "            </tr>\n",
       "            <tr>\n",
       "                        <th id=\"T_4aefcdf3_9042_11ea_8d99_acde48001122level0_row5\" class=\"row_heading level0 row5\" >unknown</th>\n",
       "                        <td id=\"T_4aefcdf3_9042_11ea_8d99_acde48001122row5_col0\" class=\"data row5 col0\" >89</td>\n",
       "                        <td id=\"T_4aefcdf3_9042_11ea_8d99_acde48001122row5_col1\" class=\"data row5 col1\" >8</td>\n",
       "                        <td id=\"T_4aefcdf3_9042_11ea_8d99_acde48001122row5_col2\" class=\"data row5 col2\" >20</td>\n",
       "            </tr>\n",
       "            <tr>\n",
       "                        <th id=\"T_4aefcdf3_9042_11ea_8d99_acde48001122level0_row6\" class=\"row_heading level0 row6\" >total</th>\n",
       "                        <td id=\"T_4aefcdf3_9042_11ea_8d99_acde48001122row6_col0\" class=\"data row6 col0\" >173288</td>\n",
       "                        <td id=\"T_4aefcdf3_9042_11ea_8d99_acde48001122row6_col1\" class=\"data row6 col1\" >13938</td>\n",
       "                        <td id=\"T_4aefcdf3_9042_11ea_8d99_acde48001122row6_col2\" class=\"data row6 col2\" >43676</td>\n",
       "            </tr>\n",
       "    </tbody></table>"
      ],
      "text/plain": [
       "<pandas.io.formats.style.Styler at 0x1a1e809050>"
      ]
     },
     "execution_count": 9,
     "metadata": {},
     "output_type": "execute_result"
    }
   ],
   "source": [
    "# NYC summary \n",
    "# rearrange col and row\n",
    "nycSummary = update.drop(columns = [\"date\"])\n",
    "cm = sns.light_palette(\"#66cccc\", as_cmap = True)\n",
    "df1 = nycSummary.stack()\n",
    "df2 = df1.unstack(0)\n",
    "df2.style.background_gradient(cmap = cm)"
   ]
  },
  {
   "cell_type": "markdown",
   "metadata": {},
   "source": [
    "# NYC COVID-19 Summary by Date"
   ]
  },
  {
   "cell_type": "code",
   "execution_count": 10,
   "metadata": {},
   "outputs": [
    {
     "data": {
      "image/png": "[encoded data removed]",
      "text/plain": [
       "<Figure size 432x288 with 1 Axes>"
      ]
     },
     "metadata": {
      "needs_background": "light"
     },
     "output_type": "display_data"
    }
   ],
   "source": [
    "# case, death, haspitalized data for NYC \n",
    "nycData = borough[[\"date\",\"type\",\"total\"]] \n",
    "region = \"total\"\n",
    "nycAllData = regionData (nycData, region)\n",
    "regionPlot (nycAllData, region)"
   ]
  },
  {
   "cell_type": "markdown",
   "metadata": {},
   "source": [
    "# Data for Each Borough"
   ]
  },
  {
   "cell_type": "code",
   "execution_count": 11,
   "metadata": {},
   "outputs": [],
   "source": [
    "# Cases / Deaths / Hosplitalized Data for Each Borough"
   ]
  },
  {
   "cell_type": "markdown",
   "metadata": {},
   "source": [
    "# Bronx Data"
   ]
  },
  {
   "cell_type": "code",
   "execution_count": 12,
   "metadata": {},
   "outputs": [
    {
     "data": {
      "text/html": [
       "<div>\n",
       "<style scoped>\n",
       "    .dataframe tbody tr th:only-of-type {\n",
       "        vertical-align: middle;\n",
       "    }\n",
       "\n",
       "    .dataframe tbody tr th {\n",
       "        vertical-align: top;\n",
       "    }\n",
       "\n",
       "    .dataframe thead th {\n",
       "        text-align: right;\n",
       "    }\n",
       "</style>\n",
       "<table border=\"1\" class=\"dataframe\">\n",
       "  <thead>\n",
       "    <tr style=\"text-align: right;\">\n",
       "      <th></th>\n",
       "      <th>date</th>\n",
       "      <th>cases</th>\n",
       "      <th>ever-hospitalized</th>\n",
       "      <th>deaths</th>\n",
       "    </tr>\n",
       "  </thead>\n",
       "  <tbody>\n",
       "    <tr>\n",
       "      <th>111</th>\n",
       "      <td>2020-05-01</td>\n",
       "      <td>38099</td>\n",
       "      <td>9873</td>\n",
       "      <td>2868</td>\n",
       "    </tr>\n",
       "    <tr>\n",
       "      <th>112</th>\n",
       "      <td>2020-05-02</td>\n",
       "      <td>38599</td>\n",
       "      <td>9941</td>\n",
       "      <td>2886</td>\n",
       "    </tr>\n",
       "    <tr>\n",
       "      <th>113</th>\n",
       "      <td>2020-05-03</td>\n",
       "      <td>38973</td>\n",
       "      <td>10007</td>\n",
       "      <td>2936</td>\n",
       "    </tr>\n",
       "    <tr>\n",
       "      <th>114</th>\n",
       "      <td>2020-05-04</td>\n",
       "      <td>39239</td>\n",
       "      <td>10084</td>\n",
       "      <td>2997</td>\n",
       "    </tr>\n",
       "    <tr>\n",
       "      <th>115</th>\n",
       "      <td>2020-05-05</td>\n",
       "      <td>39587</td>\n",
       "      <td>10147</td>\n",
       "      <td>3046</td>\n",
       "    </tr>\n",
       "  </tbody>\n",
       "</table>\n",
       "</div>"
      ],
      "text/plain": [
       "          date  cases  ever-hospitalized  deaths\n",
       "111 2020-05-01  38099               9873    2868\n",
       "112 2020-05-02  38599               9941    2886\n",
       "113 2020-05-03  38973              10007    2936\n",
       "114 2020-05-04  39239              10084    2997\n",
       "115 2020-05-05  39587              10147    3046"
      ]
     },
     "execution_count": 12,
     "metadata": {},
     "output_type": "execute_result"
    }
   ],
   "source": [
    "# case, death, haspitalized data for bronx \n",
    "bronxData = borough[[\"date\",\"type\",\"bronx\"]] \n",
    "region = \"bronx\"\n",
    "bronxAllData = regionData (bronxData, region)\n",
    "bronxAllData.tail(5)"
   ]
  },
  {
   "cell_type": "code",
   "execution_count": 13,
   "metadata": {},
   "outputs": [
    {
     "data": {
      "image/png": "[encoded data removed]",
      "text/plain": [
       "<Figure size 432x288 with 1 Axes>"
      ]
     },
     "metadata": {
      "needs_background": "light"
     },
     "output_type": "display_data"
    }
   ],
   "source": [
    "regionPlot (bronxAllData, region)"
   ]
  },
  {
   "cell_type": "markdown",
   "metadata": {},
   "source": [
    "# Brooklyn Data"
   ]
  },
  {
   "cell_type": "code",
   "execution_count": 14,
   "metadata": {},
   "outputs": [
    {
     "data": {
      "text/html": [
       "<div>\n",
       "<style scoped>\n",
       "    .dataframe tbody tr th:only-of-type {\n",
       "        vertical-align: middle;\n",
       "    }\n",
       "\n",
       "    .dataframe tbody tr th {\n",
       "        vertical-align: top;\n",
       "    }\n",
       "\n",
       "    .dataframe thead th {\n",
       "        text-align: right;\n",
       "    }\n",
       "</style>\n",
       "<table border=\"1\" class=\"dataframe\">\n",
       "  <thead>\n",
       "    <tr style=\"text-align: right;\">\n",
       "      <th></th>\n",
       "      <th>date</th>\n",
       "      <th>cases</th>\n",
       "      <th>ever-hospitalized</th>\n",
       "      <th>deaths</th>\n",
       "    </tr>\n",
       "  </thead>\n",
       "  <tbody>\n",
       "    <tr>\n",
       "      <th>111</th>\n",
       "      <td>2020-05-01</td>\n",
       "      <td>44303</td>\n",
       "      <td>11400</td>\n",
       "      <td>3952</td>\n",
       "    </tr>\n",
       "    <tr>\n",
       "      <th>112</th>\n",
       "      <td>2020-05-02</td>\n",
       "      <td>44867</td>\n",
       "      <td>11437</td>\n",
       "      <td>4014</td>\n",
       "    </tr>\n",
       "    <tr>\n",
       "      <th>113</th>\n",
       "      <td>2020-05-03</td>\n",
       "      <td>45341</td>\n",
       "      <td>11469</td>\n",
       "      <td>4080</td>\n",
       "    </tr>\n",
       "    <tr>\n",
       "      <th>114</th>\n",
       "      <td>2020-05-04</td>\n",
       "      <td>45637</td>\n",
       "      <td>11565</td>\n",
       "      <td>4127</td>\n",
       "    </tr>\n",
       "    <tr>\n",
       "      <th>115</th>\n",
       "      <td>2020-05-05</td>\n",
       "      <td>46139</td>\n",
       "      <td>11641</td>\n",
       "      <td>4194</td>\n",
       "    </tr>\n",
       "  </tbody>\n",
       "</table>\n",
       "</div>"
      ],
      "text/plain": [
       "          date  cases  ever-hospitalized  deaths\n",
       "111 2020-05-01  44303              11400    3952\n",
       "112 2020-05-02  44867              11437    4014\n",
       "113 2020-05-03  45341              11469    4080\n",
       "114 2020-05-04  45637              11565    4127\n",
       "115 2020-05-05  46139              11641    4194"
      ]
     },
     "execution_count": 14,
     "metadata": {},
     "output_type": "execute_result"
    }
   ],
   "source": [
    "# case, death, haspitalized data for brooklyn\n",
    "brooklynData = borough[[\"date\",\"type\",\"brooklyn\"]] \n",
    "region = \"brooklyn\"\n",
    "brooklynAllData = regionData (brooklynData, region)\n",
    "brooklynAllData.tail(5)"
   ]
  },
  {
   "cell_type": "code",
   "execution_count": 15,
   "metadata": {},
   "outputs": [
    {
     "data": {
      "image/png": "[encoded data removed]",
      "text/plain": [
       "<Figure size 432x288 with 1 Axes>"
      ]
     },
     "metadata": {
      "needs_background": "light"
     },
     "output_type": "display_data"
    }
   ],
   "source": [
    "regionPlot (brooklynAllData, region)"
   ]
  },
  {
   "cell_type": "markdown",
   "metadata": {},
   "source": [
    "# Manhattan Data"
   ]
  },
  {
   "cell_type": "code",
   "execution_count": 16,
   "metadata": {},
   "outputs": [
    {
     "data": {
      "text/html": [
       "<div>\n",
       "<style scoped>\n",
       "    .dataframe tbody tr th:only-of-type {\n",
       "        vertical-align: middle;\n",
       "    }\n",
       "\n",
       "    .dataframe tbody tr th {\n",
       "        vertical-align: top;\n",
       "    }\n",
       "\n",
       "    .dataframe thead th {\n",
       "        text-align: right;\n",
       "    }\n",
       "</style>\n",
       "<table border=\"1\" class=\"dataframe\">\n",
       "  <thead>\n",
       "    <tr style=\"text-align: right;\">\n",
       "      <th></th>\n",
       "      <th>date</th>\n",
       "      <th>cases</th>\n",
       "      <th>ever-hospitalized</th>\n",
       "      <th>deaths</th>\n",
       "    </tr>\n",
       "  </thead>\n",
       "  <tbody>\n",
       "    <tr>\n",
       "      <th>111</th>\n",
       "      <td>2020-05-01</td>\n",
       "      <td>20693</td>\n",
       "      <td>5787</td>\n",
       "      <td>1722</td>\n",
       "    </tr>\n",
       "    <tr>\n",
       "      <th>112</th>\n",
       "      <td>2020-05-02</td>\n",
       "      <td>20892</td>\n",
       "      <td>5825</td>\n",
       "      <td>1752</td>\n",
       "    </tr>\n",
       "    <tr>\n",
       "      <th>113</th>\n",
       "      <td>2020-05-03</td>\n",
       "      <td>21125</td>\n",
       "      <td>5836</td>\n",
       "      <td>1774</td>\n",
       "    </tr>\n",
       "    <tr>\n",
       "      <th>114</th>\n",
       "      <td>2020-05-04</td>\n",
       "      <td>21287</td>\n",
       "      <td>5869</td>\n",
       "      <td>1797</td>\n",
       "    </tr>\n",
       "    <tr>\n",
       "      <th>115</th>\n",
       "      <td>2020-05-05</td>\n",
       "      <td>21470</td>\n",
       "      <td>5917</td>\n",
       "      <td>1822</td>\n",
       "    </tr>\n",
       "  </tbody>\n",
       "</table>\n",
       "</div>"
      ],
      "text/plain": [
       "          date  cases  ever-hospitalized  deaths\n",
       "111 2020-05-01  20693               5787    1722\n",
       "112 2020-05-02  20892               5825    1752\n",
       "113 2020-05-03  21125               5836    1774\n",
       "114 2020-05-04  21287               5869    1797\n",
       "115 2020-05-05  21470               5917    1822"
      ]
     },
     "execution_count": 16,
     "metadata": {},
     "output_type": "execute_result"
    }
   ],
   "source": [
    "# case, death, haspitalized data for manhattan\n",
    "manhattanData = borough[[\"date\",\"type\",\"manhattan\"]]\n",
    "region = \"manhattan\"\n",
    "manhattanAllData = regionData (manhattanData, region)\n",
    "manhattanAllData.tail(5)"
   ]
  },
  {
   "cell_type": "code",
   "execution_count": 17,
   "metadata": {},
   "outputs": [
    {
     "data": {
      "image/png": "[encoded data removed]",
      "text/plain": [
       "<Figure size 432x288 with 1 Axes>"
      ]
     },
     "metadata": {
      "needs_background": "light"
     },
     "output_type": "display_data"
    }
   ],
   "source": [
    "regionPlot (manhattanAllData, region)"
   ]
  },
  {
   "cell_type": "markdown",
   "metadata": {},
   "source": [
    "# Queens Data"
   ]
  },
  {
   "cell_type": "code",
   "execution_count": 18,
   "metadata": {},
   "outputs": [
    {
     "data": {
      "text/html": [
       "<div>\n",
       "<style scoped>\n",
       "    .dataframe tbody tr th:only-of-type {\n",
       "        vertical-align: middle;\n",
       "    }\n",
       "\n",
       "    .dataframe tbody tr th {\n",
       "        vertical-align: top;\n",
       "    }\n",
       "\n",
       "    .dataframe thead th {\n",
       "        text-align: right;\n",
       "    }\n",
       "</style>\n",
       "<table border=\"1\" class=\"dataframe\">\n",
       "  <thead>\n",
       "    <tr style=\"text-align: right;\">\n",
       "      <th></th>\n",
       "      <th>date</th>\n",
       "      <th>cases</th>\n",
       "      <th>ever-hospitalized</th>\n",
       "      <th>deaths</th>\n",
       "    </tr>\n",
       "  </thead>\n",
       "  <tbody>\n",
       "    <tr>\n",
       "      <th>111</th>\n",
       "      <td>2020-05-01</td>\n",
       "      <td>51709</td>\n",
       "      <td>13738</td>\n",
       "      <td>3993</td>\n",
       "    </tr>\n",
       "    <tr>\n",
       "      <th>112</th>\n",
       "      <td>2020-05-02</td>\n",
       "      <td>52305</td>\n",
       "      <td>13782</td>\n",
       "      <td>4035</td>\n",
       "    </tr>\n",
       "    <tr>\n",
       "      <th>113</th>\n",
       "      <td>2020-05-03</td>\n",
       "      <td>52845</td>\n",
       "      <td>13805</td>\n",
       "      <td>4102</td>\n",
       "    </tr>\n",
       "    <tr>\n",
       "      <th>114</th>\n",
       "      <td>2020-05-04</td>\n",
       "      <td>53243</td>\n",
       "      <td>13915</td>\n",
       "      <td>4149</td>\n",
       "    </tr>\n",
       "    <tr>\n",
       "      <th>115</th>\n",
       "      <td>2020-05-05</td>\n",
       "      <td>53692</td>\n",
       "      <td>14003</td>\n",
       "      <td>4213</td>\n",
       "    </tr>\n",
       "  </tbody>\n",
       "</table>\n",
       "</div>"
      ],
      "text/plain": [
       "          date  cases  ever-hospitalized  deaths\n",
       "111 2020-05-01  51709              13738    3993\n",
       "112 2020-05-02  52305              13782    4035\n",
       "113 2020-05-03  52845              13805    4102\n",
       "114 2020-05-04  53243              13915    4149\n",
       "115 2020-05-05  53692              14003    4213"
      ]
     },
     "execution_count": 18,
     "metadata": {},
     "output_type": "execute_result"
    }
   ],
   "source": [
    "# case, death, haspitalized data for queens\n",
    "queensData = borough[[\"date\",\"type\",\"queens\"]] \n",
    "region = \"queens\"\n",
    "queensAllData = regionData (queensData, region)\n",
    "queensAllData.tail(5)"
   ]
  },
  {
   "cell_type": "code",
   "execution_count": 19,
   "metadata": {},
   "outputs": [
    {
     "data": {
      "image/png": "[encoded data removed]",
      "text/plain": [
       "<Figure size 432x288 with 1 Axes>"
      ]
     },
     "metadata": {
      "needs_background": "light"
     },
     "output_type": "display_data"
    }
   ],
   "source": [
    "regionPlot (queensAllData, region)"
   ]
  },
  {
   "cell_type": "markdown",
   "metadata": {},
   "source": [
    "# Staten Island Data"
   ]
  },
  {
   "cell_type": "code",
   "execution_count": 20,
   "metadata": {},
   "outputs": [
    {
     "data": {
      "text/html": [
       "<div>\n",
       "<style scoped>\n",
       "    .dataframe tbody tr th:only-of-type {\n",
       "        vertical-align: middle;\n",
       "    }\n",
       "\n",
       "    .dataframe tbody tr th {\n",
       "        vertical-align: top;\n",
       "    }\n",
       "\n",
       "    .dataframe thead th {\n",
       "        text-align: right;\n",
       "    }\n",
       "</style>\n",
       "<table border=\"1\" class=\"dataframe\">\n",
       "  <thead>\n",
       "    <tr style=\"text-align: right;\">\n",
       "      <th></th>\n",
       "      <th>date</th>\n",
       "      <th>cases</th>\n",
       "      <th>ever-hospitalized</th>\n",
       "      <th>deaths</th>\n",
       "    </tr>\n",
       "  </thead>\n",
       "  <tbody>\n",
       "    <tr>\n",
       "      <th>111</th>\n",
       "      <td>2020-05-01</td>\n",
       "      <td>11999</td>\n",
       "      <td>1898</td>\n",
       "      <td>613</td>\n",
       "    </tr>\n",
       "    <tr>\n",
       "      <th>112</th>\n",
       "      <td>2020-05-02</td>\n",
       "      <td>12101</td>\n",
       "      <td>1905</td>\n",
       "      <td>624</td>\n",
       "    </tr>\n",
       "    <tr>\n",
       "      <th>113</th>\n",
       "      <td>2020-05-03</td>\n",
       "      <td>12169</td>\n",
       "      <td>1909</td>\n",
       "      <td>636</td>\n",
       "    </tr>\n",
       "    <tr>\n",
       "      <th>114</th>\n",
       "      <td>2020-05-04</td>\n",
       "      <td>12235</td>\n",
       "      <td>1931</td>\n",
       "      <td>646</td>\n",
       "    </tr>\n",
       "    <tr>\n",
       "      <th>115</th>\n",
       "      <td>2020-05-05</td>\n",
       "      <td>12311</td>\n",
       "      <td>1948</td>\n",
       "      <td>655</td>\n",
       "    </tr>\n",
       "  </tbody>\n",
       "</table>\n",
       "</div>"
      ],
      "text/plain": [
       "          date  cases  ever-hospitalized  deaths\n",
       "111 2020-05-01  11999               1898     613\n",
       "112 2020-05-02  12101               1905     624\n",
       "113 2020-05-03  12169               1909     636\n",
       "114 2020-05-04  12235               1931     646\n",
       "115 2020-05-05  12311               1948     655"
      ]
     },
     "execution_count": 20,
     "metadata": {},
     "output_type": "execute_result"
    }
   ],
   "source": [
    "# case, death, haspitalized data for staten_island\n",
    "staten_islandData = borough[[\"date\",\"type\",\"staten_island\"]] \n",
    "region = \"staten_island\"\n",
    "staten_islandAllData = regionData (staten_islandData, region)\n",
    "staten_islandAllData.tail(5)"
   ]
  },
  {
   "cell_type": "code",
   "execution_count": 21,
   "metadata": {},
   "outputs": [
    {
     "data": {
      "image/png": "[encoded data removed]",
      "text/plain": [
       "<Figure size 432x288 with 1 Axes>"
      ]
     },
     "metadata": {
      "needs_background": "light"
     },
     "output_type": "display_data"
    }
   ],
   "source": [
    "regionPlot (staten_islandAllData, region)"
   ]
  },
  {
   "cell_type": "markdown",
   "metadata": {},
   "source": [
    "# NYC Cases and Tasted Data"
   ]
  },
  {
   "cell_type": "code",
   "execution_count": 22,
   "metadata": {},
   "outputs": [
    {
     "name": "stdout",
     "output_type": "stream",
     "text": [
      "Update: 2020.05.06 (from 2020.05.06)\n"
     ]
    }
   ],
   "source": [
    "# filter the dataframe, just leave the date and number of tasted\n",
    "nycTestSource = fetchData(nyc_his_state_url)\n",
    "nycTest = nycTestSource[[\"timestamp\",\"nyc_tested\",\"nyc_cases\"]]\n",
    "nycTest = nycTest.fillna(0)\n",
    "nycTest[[\"nyc_tested\",\"nyc_cases\"]] = nycTest[[\"nyc_tested\",\"nyc_cases\"]].astype(int)\n",
    "\n",
    "nycTest[[\"date\",\"time\"]] = nycTest[\"timestamp\"].str.split(\"T\", expand = True)\n",
    "nycTest = nycTest[[\"date\",\"nyc_tested\",\"nyc_cases\"]]\n",
    "nycTest[\"date\"] = pd.to_datetime(nycTest[\"date\"])\n",
    "\n",
    "# NYC test data update date\n",
    "getTimeRange(nycTest)"
   ]
  },
  {
   "cell_type": "code",
   "execution_count": 23,
   "metadata": {},
   "outputs": [
    {
     "data": {
      "image/png": "[encoded data removed]",
      "text/plain": [
       "<Figure size 432x288 with 1 Axes>"
      ]
     },
     "metadata": {
      "needs_background": "light"
     },
     "output_type": "display_data"
    }
   ],
   "source": [
    "df = nycTest\n",
    "df[\"date\"] = df[\"date\"].astype(np.str_)\n",
    "df[\"date\"] = pd.to_datetime(df[\"date\"])\n",
    "df = df.set_index(\"date\")\n",
    "\n",
    "df[[\"nyc_tested\",\"nyc_cases\"]].plot.area(stacked = False,cmap = \"Spectral_r\")\n",
    "plt.title(\"NYC Cases & Tasts Data\", fontsize = 20)\n",
    "plt.legend()\n",
    "plt.show()"
   ]
  },
  {
   "cell_type": "code",
   "execution_count": 184,
   "metadata": {},
   "outputs": [],
   "source": [
    "# cases by age\n",
    "casesAge = fetchData(nyc_his_age_url)\n",
    "\n",
    "# filter the dataframe, just leave the date and number of tasted\n",
    "ageGroup = casesAge[[\"timestamp\",\"type\",\"ages_0_17\",\"ages_18_44\",\"ages_45_64\",\"ages_65_74\",\"ages_75_older\",\"unknown\"]]\n",
    "ageGroup[[\"date\",\"time\"]] = ageGroup[\"timestamp\"].str.split(\"T\", expand = True)\n",
    "ageGroup = ageGroup[[\"date\",\"type\",\"ages_0_17\",\"ages_18_44\",\"ages_45_64\",\"ages_65_74\",\"ages_75_older\",\"unknown\"]]\n",
    "ageGroup[\"date\"] = pd.to_datetime(ageGroup[\"date\"])\n",
    "\n",
    "# summary of age group\n",
    "ageGroupCase = ageGroup[(ageGroup.type == \"cases\")]\n",
    "ageGroupCaseUpdate = ageGroupCase.tail(1)\n",
    "\n",
    "ageGroupDeath = ageGroup[(ageGroup.type == \"deaths\")]\n",
    "ageGroupDeathUpdate = ageGroupDeath.tail(1)\n",
    "\n",
    "frames = [ageGroupCaseUpdate, ageGroupDeathUpdate]\n",
    "ageGroupUpdate = pd.concat(frames).drop(columns=[\"date\"])\n",
    "ageGroupUpdate.set_index([\"type\"], inplace = True) "
   ]
  },
  {
   "cell_type": "markdown",
   "metadata": {},
   "source": [
    "# Cases by Age Group"
   ]
  },
  {
   "cell_type": "code",
   "execution_count": 25,
   "metadata": {},
   "outputs": [
    {
     "data": {
      "text/html": [
       "<style  type=\"text/css\" >\n",
       "    #T_4d191aca_9042_11ea_9def_acde48001122row0_col0 {\n",
       "            background-color:  #f7e3e1;\n",
       "            color:  #000000;\n",
       "        }    #T_4d191aca_9042_11ea_9def_acde48001122row0_col1 {\n",
       "            background-color:  #faeceb;\n",
       "            color:  #000000;\n",
       "        }    #T_4d191aca_9042_11ea_9def_acde48001122row1_col0 {\n",
       "            background-color:  #d1574c;\n",
       "            color:  #000000;\n",
       "        }    #T_4d191aca_9042_11ea_9def_acde48001122row1_col1 {\n",
       "            background-color:  #f7e0de;\n",
       "            color:  #000000;\n",
       "        }    #T_4d191aca_9042_11ea_9def_acde48001122row2_col0 {\n",
       "            background-color:  #d1574c;\n",
       "            color:  #000000;\n",
       "        }    #T_4d191aca_9042_11ea_9def_acde48001122row2_col1 {\n",
       "            background-color:  #e7a8a2;\n",
       "            color:  #000000;\n",
       "        }    #T_4d191aca_9042_11ea_9def_acde48001122row3_col0 {\n",
       "            background-color:  #ecbab6;\n",
       "            color:  #000000;\n",
       "        }    #T_4d191aca_9042_11ea_9def_acde48001122row3_col1 {\n",
       "            background-color:  #e5a09a;\n",
       "            color:  #000000;\n",
       "        }    #T_4d191aca_9042_11ea_9def_acde48001122row4_col0 {\n",
       "            background-color:  #edbeba;\n",
       "            color:  #000000;\n",
       "        }    #T_4d191aca_9042_11ea_9def_acde48001122row4_col1 {\n",
       "            background-color:  #d1574c;\n",
       "            color:  #000000;\n",
       "        }    #T_4d191aca_9042_11ea_9def_acde48001122row5_col0 {\n",
       "            background-color:  #faeceb;\n",
       "            color:  #000000;\n",
       "        }    #T_4d191aca_9042_11ea_9def_acde48001122row5_col1 {\n",
       "            background-color:  #faeceb;\n",
       "            color:  #000000;\n",
       "        }</style><table id=\"T_4d191aca_9042_11ea_9def_acde48001122\" ><thead>    <tr>        <th class=\"index_name level0\" >type</th>        <th class=\"col_heading level0 col0\" >cases</th>        <th class=\"col_heading level0 col1\" >deaths</th>    </tr></thead><tbody>\n",
       "                <tr>\n",
       "                        <th id=\"T_4d191aca_9042_11ea_9def_acde48001122level0_row0\" class=\"row_heading level0 row0\" >ages_0_17</th>\n",
       "                        <td id=\"T_4d191aca_9042_11ea_9def_acde48001122row0_col0\" class=\"data row0 col0\" >4188</td>\n",
       "                        <td id=\"T_4d191aca_9042_11ea_9def_acde48001122row0_col1\" class=\"data row0 col1\" >6</td>\n",
       "            </tr>\n",
       "            <tr>\n",
       "                        <th id=\"T_4d191aca_9042_11ea_9def_acde48001122level0_row1\" class=\"row_heading level0 row1\" >ages_18_44</th>\n",
       "                        <td id=\"T_4d191aca_9042_11ea_9def_acde48001122row1_col0\" class=\"data row1 col0\" >63726</td>\n",
       "                        <td id=\"T_4d191aca_9042_11ea_9def_acde48001122row1_col1\" class=\"data row1 col1\" >557</td>\n",
       "            </tr>\n",
       "            <tr>\n",
       "                        <th id=\"T_4d191aca_9042_11ea_9def_acde48001122level0_row2\" class=\"row_heading level0 row2\" >ages_45_64</th>\n",
       "                        <td id=\"T_4d191aca_9042_11ea_9def_acde48001122row2_col0\" class=\"data row2 col0\" >63670</td>\n",
       "                        <td id=\"T_4d191aca_9042_11ea_9def_acde48001122row2_col1\" class=\"data row2 col1\" >3119</td>\n",
       "            </tr>\n",
       "            <tr>\n",
       "                        <th id=\"T_4d191aca_9042_11ea_9def_acde48001122level0_row3\" class=\"row_heading level0 row3\" >ages_65_74</th>\n",
       "                        <td id=\"T_4d191aca_9042_11ea_9def_acde48001122row3_col0\" class=\"data row3 col0\" >21590</td>\n",
       "                        <td id=\"T_4d191aca_9042_11ea_9def_acde48001122row3_col1\" class=\"data row3 col1\" >3458</td>\n",
       "            </tr>\n",
       "            <tr>\n",
       "                        <th id=\"T_4d191aca_9042_11ea_9def_acde48001122level0_row4\" class=\"row_heading level0 row4\" >ages_75_older</th>\n",
       "                        <td id=\"T_4d191aca_9042_11ea_9def_acde48001122row4_col0\" class=\"data row4 col0\" >19779</td>\n",
       "                        <td id=\"T_4d191aca_9042_11ea_9def_acde48001122row4_col1\" class=\"data row4 col1\" >6797</td>\n",
       "            </tr>\n",
       "            <tr>\n",
       "                        <th id=\"T_4d191aca_9042_11ea_9def_acde48001122level0_row5\" class=\"row_heading level0 row5\" >unknown</th>\n",
       "                        <td id=\"T_4d191aca_9042_11ea_9def_acde48001122row5_col0\" class=\"data row5 col0\" >335</td>\n",
       "                        <td id=\"T_4d191aca_9042_11ea_9def_acde48001122row5_col1\" class=\"data row5 col1\" >1</td>\n",
       "            </tr>\n",
       "    </tbody></table>"
      ],
      "text/plain": [
       "<pandas.io.formats.style.Styler at 0x1a1d68a150>"
      ]
     },
     "execution_count": 25,
     "metadata": {},
     "output_type": "execute_result"
    }
   ],
   "source": [
    "# cases and deaths for age group\n",
    "# rearrange col and row\n",
    "cm = sns.light_palette(\"#d1574c\", as_cmap = True)\n",
    "df1 = ageGroupUpdate.stack()\n",
    "df2 = df1.unstack(0)\n",
    "df2.style.background_gradient(cmap = cm)"
   ]
  },
  {
   "cell_type": "code",
   "execution_count": null,
   "metadata": {},
   "outputs": [],
   "source": [
    "# test"
   ]
  },
  {
   "cell_type": "code",
   "execution_count": 80,
   "metadata": {},
   "outputs": [
    {
     "data": {
      "text/html": [
       "<div>\n",
       "<style scoped>\n",
       "    .dataframe tbody tr th:only-of-type {\n",
       "        vertical-align: middle;\n",
       "    }\n",
       "\n",
       "    .dataframe tbody tr th {\n",
       "        vertical-align: top;\n",
       "    }\n",
       "\n",
       "    .dataframe thead th {\n",
       "        text-align: right;\n",
       "    }\n",
       "</style>\n",
       "<table border=\"1\" class=\"dataframe\">\n",
       "  <thead>\n",
       "    <tr style=\"text-align: right;\">\n",
       "      <th></th>\n",
       "      <th>date</th>\n",
       "      <th>cases</th>\n",
       "    </tr>\n",
       "  </thead>\n",
       "  <tbody>\n",
       "    <tr>\n",
       "      <th>0</th>\n",
       "      <td>2020-03-12</td>\n",
       "      <td>88</td>\n",
       "    </tr>\n",
       "    <tr>\n",
       "      <th>1</th>\n",
       "      <td>2020-03-13</td>\n",
       "      <td>137</td>\n",
       "    </tr>\n",
       "    <tr>\n",
       "      <th>2</th>\n",
       "      <td>2020-03-15</td>\n",
       "      <td>269</td>\n",
       "    </tr>\n",
       "    <tr>\n",
       "      <th>3</th>\n",
       "      <td>2020-03-16</td>\n",
       "      <td>464</td>\n",
       "    </tr>\n",
       "    <tr>\n",
       "      <th>4</th>\n",
       "      <td>2020-03-17</td>\n",
       "      <td>923</td>\n",
       "    </tr>\n",
       "  </tbody>\n",
       "</table>\n",
       "</div>"
      ],
      "text/plain": [
       "        date  cases\n",
       "0 2020-03-12     88\n",
       "1 2020-03-13    137\n",
       "2 2020-03-15    269\n",
       "3 2020-03-16    464\n",
       "4 2020-03-17    923"
      ]
     },
     "execution_count": 80,
     "metadata": {},
     "output_type": "execute_result"
    }
   ],
   "source": [
    "test = nycAllData[[\"date\",\"cases\"]]\n",
    "test.head(5)"
   ]
  },
  {
   "cell_type": "code",
   "execution_count": 183,
   "metadata": {},
   "outputs": [],
   "source": [
    "# t:time   t0:initial time    P0:initial_value    K:capacity  r:increase_rate\n",
    "def logistic_increase_function(t,K,P0,r):\n",
    "    t0 = 0\n",
    "    exp_value=np.exp(r*(t-t0))\n",
    "    return (K*exp_value*P0)/(K+(exp_value-1)*P0)\n",
    " \n",
    "fast_r=0.02\n",
    "slow_r=0.03\n",
    "\n",
    "def faster_logistic_increase_function(t,K,P0,):\n",
    "    return logistic_increase_function(t,K,P0,r=fast_r)\n",
    " \n",
    "def slower_logistic_increase_function(t,K,P0,):\n",
    "    return logistic_increase_function(t,K,P0,r=slow_r)"
   ]
  },
  {
   "cell_type": "code",
   "execution_count": 180,
   "metadata": {},
   "outputs": [
    {
     "data": {
      "text/plain": [
       "116"
      ]
     },
     "execution_count": 180,
     "metadata": {},
     "output_type": "execute_result"
    }
   ],
   "source": [
    "days = len(test)\n",
    "t = np.arange(0,days)\n",
    "P = np.array(test[\"cases\"])\n",
    "days"
   ]
  },
  {
   "cell_type": "code",
   "execution_count": 181,
   "metadata": {},
   "outputs": [],
   "source": [
    "popt_fast, pcov_fast = curve_fit(faster_logistic_increase_function, t, P)\n",
    "popt_slow, pcov_slow = curve_fit(slower_logistic_increase_function, t, P)\n",
    "\n",
    "P_predict_fast= faster_logistic_increase_function(t,popt_fast[0],popt_fast[1])\n",
    "P_predict_slow = slower_logistic_increase_function(t,popt_slow[0],popt_slow[1])\n",
    "\n",
    "tomorrow= np.arange(days,days+10)\n",
    "tomorrow_predict_fast=logistic_increase_function(tomorrow,popt_fast[0],popt_fast[1],r=fast_r)\n",
    "tomorrow_predict_slow=logistic_increase_function(tomorrow,popt_slow[0],popt_slow[1],r=slow_r)"
   ]
  },
  {
   "cell_type": "code",
   "execution_count": 182,
   "metadata": {},
   "outputs": [
    {
     "name": "stdout",
     "output_type": "stream",
     "text": [
      "test:\n",
      "117\n",
      "188706.2948489351\n",
      "174417.7157651312\n",
      "118\n",
      "192518.41310941768\n",
      "176556.91612563498\n"
     ]
    },
    {
     "data": {
      "image/png": "[encoded data removed]",
      "text/plain": [
       "<Figure size 432x288 with 1 Axes>"
      ]
     },
     "metadata": {
      "needs_background": "light"
     },
     "output_type": "display_data"
    }
   ],
   "source": [
    "plot1 = plt.plot(t, P, 's',label=\"confimed infected people number\")\n",
    "plot2 = plt.plot(tomorrow, tomorrow_predict_fast, 's',label='predict infected people number fast')\n",
    "plot3 = plt.plot(tomorrow, tomorrow_predict_fast, 'r')\n",
    "plot4 = plt.plot(tomorrow, tomorrow_predict_slow, 's',label='predict infected people number slow')\n",
    "plot5 = plt.plot(tomorrow, tomorrow_predict_slow, 'g')\n",
    "plot6 = plt.plot(t, P_predict_fast, 'b',label='confirmed infected people number')\n",
    " \n",
    "plt.xlabel('time')\n",
    "plt.ylabel('confimed infected people number')\n",
    " \n",
    "plt.legend(loc=0)\n",
    " \n",
    "day2 = days +1\n",
    "day3 = days +2\n",
    "\n",
    "print(\"test:\")\n",
    "print(day2)\n",
    "print(faster_logistic_increase_function(np.array(day2),popt_fast[0],popt_fast[1]))\n",
    "print(slower_logistic_increase_function(np.array(day2),popt_slow[0],popt_slow[1]))\n",
    " \n",
    "print(day3)\n",
    "print(faster_logistic_increase_function(np.array(day3),popt_fast[0],popt_fast[1]))\n",
    "print(slower_logistic_increase_function(np.array(day3),popt_slow[0],popt_slow[1]))\n",
    " \n",
    "plt.show()\n"
   ]
  },
  {
   "cell_type": "code",
   "execution_count": null,
   "metadata": {},
   "outputs": [],
   "source": []
  },
  {
   "cell_type": "code",
   "execution_count": null,
   "metadata": {},
   "outputs": [],
   "source": []
  }
 ],
 "metadata": {
  "@deathbeds/jupyterlab-fonts": {
   "styles": {
    ":root": {
     "--jp-code-font-size": "17px",
     "--jp-code-line-height": "1.5"
    }
   }
  },
  "kernelspec": {
   "display_name": "Python 3",
   "language": "python",
   "name": "python3"
  },
  "language_info": {
   "codemirror_mode": {
    "name": "ipython",
    "version": 2
   },
   "file_extension": ".py",
   "mimetype": "text/x-python",
   "name": "python",
   "nbconvert_exporter": "python",
   "pygments_lexer": "ipython2",
   "version": "2.7.16"
  }
 },
 "nbformat": 4,
 "nbformat_minor": 2
}
