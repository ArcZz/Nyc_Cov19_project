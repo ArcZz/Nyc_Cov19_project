{
 "cells": [
  {
   "cell_type": "code",
   "execution_count": 950,
   "metadata": {},
   "outputs": [],
   "source": [
    "import pyspark\n",
    "import pandas as pd\n",
    "from pyspark.sql.functions import *\n",
    "from pyspark.sql import SparkSession\n",
    "import pyspark.sql.functions as f\n",
    "\n",
    "import matplotlib.pyplot as plt\n",
    "from scipy.optimize import curve_fit\n",
    "import numpy as np\n",
    "import math\n",
    "import datetime\n",
    "from datetime import timedelta\n",
    "import seaborn as sns\n",
    "import warnings\n",
    "\n",
    "spark = SparkSession.builder.appName(\"bigdata\")\\\n",
    "                    .config(\"spark.some.config.option\", \"some-value\")\\\n",
    "                    .getOrCreate()"
   ]
  },
  {
   "cell_type": "code",
   "execution_count": 951,
   "metadata": {},
   "outputs": [],
   "source": [
    "%run data.py\n",
    "warnings.filterwarnings(\"ignore\")  # ignore warnings"
   ]
  },
  {
   "cell_type": "code",
   "execution_count": 952,
   "metadata": {},
   "outputs": [
    {
     "data": {
      "text/html": [
       "<div>\n",
       "<style scoped>\n",
       "    .dataframe tbody tr th:only-of-type {\n",
       "        vertical-align: middle;\n",
       "    }\n",
       "\n",
       "    .dataframe tbody tr th {\n",
       "        vertical-align: top;\n",
       "    }\n",
       "\n",
       "    .dataframe thead th {\n",
       "        text-align: right;\n",
       "    }\n",
       "</style>\n",
       "<table border=\"1\" class=\"dataframe\">\n",
       "  <thead>\n",
       "    <tr style=\"text-align: right;\">\n",
       "      <th></th>\n",
       "      <th>date</th>\n",
       "      <th>bronx</th>\n",
       "      <th>brooklyn</th>\n",
       "      <th>manhattan</th>\n",
       "      <th>queens</th>\n",
       "      <th>staten_island</th>\n",
       "      <th>unknown</th>\n",
       "      <th>total</th>\n",
       "    </tr>\n",
       "    <tr>\n",
       "      <th>type</th>\n",
       "      <th></th>\n",
       "      <th></th>\n",
       "      <th></th>\n",
       "      <th></th>\n",
       "      <th></th>\n",
       "      <th></th>\n",
       "      <th></th>\n",
       "      <th></th>\n",
       "    </tr>\n",
       "  </thead>\n",
       "  <tbody>\n",
       "    <tr>\n",
       "      <th>cases</th>\n",
       "      <td>2020-05-06</td>\n",
       "      <td>39878</td>\n",
       "      <td>46579</td>\n",
       "      <td>21662</td>\n",
       "      <td>54121</td>\n",
       "      <td>12380</td>\n",
       "      <td>89</td>\n",
       "      <td>174709</td>\n",
       "    </tr>\n",
       "    <tr>\n",
       "      <th>deaths</th>\n",
       "      <td>2020-05-06</td>\n",
       "      <td>3082</td>\n",
       "      <td>4260</td>\n",
       "      <td>1874</td>\n",
       "      <td>4269</td>\n",
       "      <td>669</td>\n",
       "      <td>8</td>\n",
       "      <td>14162</td>\n",
       "    </tr>\n",
       "    <tr>\n",
       "      <th>ever-hospitalized</th>\n",
       "      <td>2020-05-06</td>\n",
       "      <td>10186</td>\n",
       "      <td>11660</td>\n",
       "      <td>5919</td>\n",
       "      <td>14011</td>\n",
       "      <td>1948</td>\n",
       "      <td>20</td>\n",
       "      <td>43744</td>\n",
       "    </tr>\n",
       "  </tbody>\n",
       "</table>\n",
       "</div>"
      ],
      "text/plain": [
       "                        date  bronx  brooklyn  manhattan  queens  \\\n",
       "type                                                               \n",
       "cases             2020-05-06  39878     46579      21662   54121   \n",
       "deaths            2020-05-06   3082      4260       1874    4269   \n",
       "ever-hospitalized 2020-05-06  10186     11660       5919   14011   \n",
       "\n",
       "                   staten_island  unknown   total  \n",
       "type                                               \n",
       "cases                      12380       89  174709  \n",
       "deaths                       669        8   14162  \n",
       "ever-hospitalized           1948       20   43744  "
      ]
     },
     "execution_count": 952,
     "metadata": {},
     "output_type": "execute_result"
    }
   ],
   "source": [
    "# filter the dataframe, just leave the cases, deaths and ever-hospitalized\n",
    "nycBorough = fetchData(nyc_his_boro_url)\n",
    "borough = nycBorough[(nycBorough.type == \"cases\") | (nycBorough.type == \"deaths\") | (nycBorough.type == \"ever-hospitalized\")]\n",
    "\n",
    "# change the timestamp to date and rearrange the columns\n",
    "borough[[\"date\",\"time\"]] = borough[\"timestamp\"].str.split(\"T\", expand = True)\n",
    "borough = borough[[\"date\",\"type\",\"bronx\",\"brooklyn\",\"manhattan\",\"queens\",\"staten_island\",\"unknown\",\"total\"]]\n",
    "borough[\"date\"] = pd.to_datetime(borough['date'])\n",
    "#borough.head(5)\n",
    "\n",
    "# get the latest data for condirmed cases, deaths and hospitalized\n",
    "update = borough.tail(3)\n",
    "update.set_index([\"type\"], inplace = True) \n",
    "update"
   ]
  },
  {
   "cell_type": "code",
   "execution_count": 953,
   "metadata": {},
   "outputs": [],
   "source": [
    "# function for getting start/end date and time range of dataframe\n",
    "def getStartDate(inputeData):\n",
    "    firstRow = inputeData.head(1)\n",
    "    start_date = firstRow.iloc[[0],[0]].values[0][0]\n",
    "    start_date = pd.to_datetime(str(start_date)).strftime(\"%Y-%m-%d\")\n",
    "    return start_date\n",
    "\n",
    "def getLastDate(inputeData):\n",
    "    lastRow = inputeData.tail(1)\n",
    "    latest_date = lastRow.iloc[[0],[0]].values[0][0]\n",
    "    latest_date = pd.to_datetime(str(latest_date)).strftime(\"%Y-%m-%d\")\n",
    "    return latest_date\n",
    "\n",
    "def getTimeRange(inputeData):\n",
    "    print(\"Update: \" + getLastDate(inputeData) + \"\\t(from \" + getStartDate(inputeData) + \")\")"
   ]
  },
  {
   "cell_type": "code",
   "execution_count": 954,
   "metadata": {},
   "outputs": [],
   "source": [
    "# regional all data generalize function\n",
    "def regionData (regionSourceData, region):\n",
    "    case = regionSourceData[(regionSourceData.type == \"cases\")]\n",
    "    death = regionSourceData[(regionSourceData.type == \"deaths\")]\n",
    "    hosp = regionSourceData[(regionSourceData.type == \"ever-hospitalized\")]\n",
    "    \n",
    "    case.rename(columns = {region:\"cases\"}, inplace = True)\n",
    "    case.drop_duplicates(subset = \"date\", keep = \"last\", inplace = True)\n",
    "    case.drop(columns = [\"type\"], inplace = True)\n",
    "    \n",
    "    death.rename(columns = {region:\"deaths\"}, inplace= True)\n",
    "    death.drop_duplicates(subset = \"date\", keep = \"last\", inplace = True)\n",
    "    death.drop(columns = [\"type\"], inplace = True)\n",
    "\n",
    "    hosp.rename(columns = {region:\"ever-hospitalized\"}, inplace = True)\n",
    "    hosp.drop_duplicates(subset = \"date\", keep = \"last\", inplace = True)\n",
    "    hosp.drop(columns = [\"type\"], inplace = True)\n",
    "    \n",
    "    mergeHelper = pd.merge(case, hosp, how = \"outer\", on = [\"date\"])\n",
    "    regionAllData = pd.merge(mergeHelper, death, how = \"outer\", on = [\"date\"])\n",
    "    regionAllData = regionAllData.fillna(0)\n",
    "    regionAllData[[\"cases\", \"ever-hospitalized\", \"deaths\"]] \\\n",
    "                    = regionAllData[[\"cases\", \"ever-hospitalized\", \"deaths\"]].astype(int)\n",
    "    return regionAllData"
   ]
  },
  {
   "cell_type": "code",
   "execution_count": 955,
   "metadata": {},
   "outputs": [],
   "source": [
    "# regional plot generalize function\n",
    "def regionPlot (regionAllData, region):\n",
    "    df = regionAllData\n",
    "    #df[\"date\"] = df[\"date\"].astype(np.str_)\n",
    "    #df[\"date\"] = pd.to_datetime(df[\"date\"])\n",
    "    df = df.set_index(\"date\")\n",
    "\n",
    "    df[[\"cases\",\"ever-hospitalized\",\"deaths\"]].plot.area(stacked = False, cmap = \"tab10_r\")\n",
    "    plt.title(region.capitalize() + \" COVID-19 Data\", fontsize = 20)\n",
    "    plt.legend()\n",
    "    plt.show()"
   ]
  },
  {
   "cell_type": "markdown",
   "metadata": {},
   "source": [
    "# NYC COVID-19 Summary"
   ]
  },
  {
   "cell_type": "code",
   "execution_count": 956,
   "metadata": {},
   "outputs": [
    {
     "name": "stdout",
     "output_type": "stream",
     "text": [
      "Update: 2020-05-06\t(from 2020-03-12)\n"
     ]
    }
   ],
   "source": [
    "# Summary data updated date \n",
    "getTimeRange(borough)"
   ]
  },
  {
   "cell_type": "code",
   "execution_count": 957,
   "metadata": {},
   "outputs": [
    {
     "data": {
      "text/html": [
       "<style  type=\"text/css\" >\n",
       "    #T_4bc850f0_90ea_11ea_97de_acde48001122row0_col0 {\n",
       "            background-color:  #cdeeee;\n",
       "            color:  #000000;\n",
       "        }    #T_4bc850f0_90ea_11ea_97de_acde48001122row0_col1 {\n",
       "            background-color:  #cfefef;\n",
       "            color:  #000000;\n",
       "        }    #T_4bc850f0_90ea_11ea_97de_acde48001122row0_col2 {\n",
       "            background-color:  #cdeeee;\n",
       "            color:  #000000;\n",
       "        }    #T_4bc850f0_90ea_11ea_97de_acde48001122row1_col0 {\n",
       "            background-color:  #c8eded;\n",
       "            color:  #000000;\n",
       "        }    #T_4bc850f0_90ea_11ea_97de_acde48001122row1_col1 {\n",
       "            background-color:  #c4ebeb;\n",
       "            color:  #000000;\n",
       "        }    #T_4bc850f0_90ea_11ea_97de_acde48001122row1_col2 {\n",
       "            background-color:  #c8eded;\n",
       "            color:  #000000;\n",
       "        }    #T_4bc850f0_90ea_11ea_97de_acde48001122row2_col0 {\n",
       "            background-color:  #dcf3f3;\n",
       "            color:  #000000;\n",
       "        }    #T_4bc850f0_90ea_11ea_97de_acde48001122row2_col1 {\n",
       "            background-color:  #dbf3f3;\n",
       "            color:  #000000;\n",
       "        }    #T_4bc850f0_90ea_11ea_97de_acde48001122row2_col2 {\n",
       "            background-color:  #daf3f3;\n",
       "            color:  #000000;\n",
       "        }    #T_4bc850f0_90ea_11ea_97de_acde48001122row3_col0 {\n",
       "            background-color:  #c2ebeb;\n",
       "            color:  #000000;\n",
       "        }    #T_4bc850f0_90ea_11ea_97de_acde48001122row3_col1 {\n",
       "            background-color:  #c3ebeb;\n",
       "            color:  #000000;\n",
       "        }    #T_4bc850f0_90ea_11ea_97de_acde48001122row3_col2 {\n",
       "            background-color:  #c1eaea;\n",
       "            color:  #000000;\n",
       "        }    #T_4bc850f0_90ea_11ea_97de_acde48001122row4_col0 {\n",
       "            background-color:  #e2f5f5;\n",
       "            color:  #000000;\n",
       "        }    #T_4bc850f0_90ea_11ea_97de_acde48001122row4_col1 {\n",
       "            background-color:  #e6f7f7;\n",
       "            color:  #000000;\n",
       "        }    #T_4bc850f0_90ea_11ea_97de_acde48001122row4_col2 {\n",
       "            background-color:  #e6f7f7;\n",
       "            color:  #000000;\n",
       "        }    #T_4bc850f0_90ea_11ea_97de_acde48001122row5_col0 {\n",
       "            background-color:  #ecf9f9;\n",
       "            color:  #000000;\n",
       "        }    #T_4bc850f0_90ea_11ea_97de_acde48001122row5_col1 {\n",
       "            background-color:  #ecf9f9;\n",
       "            color:  #000000;\n",
       "        }    #T_4bc850f0_90ea_11ea_97de_acde48001122row5_col2 {\n",
       "            background-color:  #ecf9f9;\n",
       "            color:  #000000;\n",
       "        }    #T_4bc850f0_90ea_11ea_97de_acde48001122row6_col0 {\n",
       "            background-color:  #66cccc;\n",
       "            color:  #000000;\n",
       "        }    #T_4bc850f0_90ea_11ea_97de_acde48001122row6_col1 {\n",
       "            background-color:  #66cccc;\n",
       "            color:  #000000;\n",
       "        }    #T_4bc850f0_90ea_11ea_97de_acde48001122row6_col2 {\n",
       "            background-color:  #66cccc;\n",
       "            color:  #000000;\n",
       "        }</style><table id=\"T_4bc850f0_90ea_11ea_97de_acde48001122\" ><thead>    <tr>        <th class=\"index_name level0\" >type</th>        <th class=\"col_heading level0 col0\" >cases</th>        <th class=\"col_heading level0 col1\" >deaths</th>        <th class=\"col_heading level0 col2\" >ever-hospitalized</th>    </tr></thead><tbody>\n",
       "                <tr>\n",
       "                        <th id=\"T_4bc850f0_90ea_11ea_97de_acde48001122level0_row0\" class=\"row_heading level0 row0\" >bronx</th>\n",
       "                        <td id=\"T_4bc850f0_90ea_11ea_97de_acde48001122row0_col0\" class=\"data row0 col0\" >39878</td>\n",
       "                        <td id=\"T_4bc850f0_90ea_11ea_97de_acde48001122row0_col1\" class=\"data row0 col1\" >3082</td>\n",
       "                        <td id=\"T_4bc850f0_90ea_11ea_97de_acde48001122row0_col2\" class=\"data row0 col2\" >10186</td>\n",
       "            </tr>\n",
       "            <tr>\n",
       "                        <th id=\"T_4bc850f0_90ea_11ea_97de_acde48001122level0_row1\" class=\"row_heading level0 row1\" >brooklyn</th>\n",
       "                        <td id=\"T_4bc850f0_90ea_11ea_97de_acde48001122row1_col0\" class=\"data row1 col0\" >46579</td>\n",
       "                        <td id=\"T_4bc850f0_90ea_11ea_97de_acde48001122row1_col1\" class=\"data row1 col1\" >4260</td>\n",
       "                        <td id=\"T_4bc850f0_90ea_11ea_97de_acde48001122row1_col2\" class=\"data row1 col2\" >11660</td>\n",
       "            </tr>\n",
       "            <tr>\n",
       "                        <th id=\"T_4bc850f0_90ea_11ea_97de_acde48001122level0_row2\" class=\"row_heading level0 row2\" >manhattan</th>\n",
       "                        <td id=\"T_4bc850f0_90ea_11ea_97de_acde48001122row2_col0\" class=\"data row2 col0\" >21662</td>\n",
       "                        <td id=\"T_4bc850f0_90ea_11ea_97de_acde48001122row2_col1\" class=\"data row2 col1\" >1874</td>\n",
       "                        <td id=\"T_4bc850f0_90ea_11ea_97de_acde48001122row2_col2\" class=\"data row2 col2\" >5919</td>\n",
       "            </tr>\n",
       "            <tr>\n",
       "                        <th id=\"T_4bc850f0_90ea_11ea_97de_acde48001122level0_row3\" class=\"row_heading level0 row3\" >queens</th>\n",
       "                        <td id=\"T_4bc850f0_90ea_11ea_97de_acde48001122row3_col0\" class=\"data row3 col0\" >54121</td>\n",
       "                        <td id=\"T_4bc850f0_90ea_11ea_97de_acde48001122row3_col1\" class=\"data row3 col1\" >4269</td>\n",
       "                        <td id=\"T_4bc850f0_90ea_11ea_97de_acde48001122row3_col2\" class=\"data row3 col2\" >14011</td>\n",
       "            </tr>\n",
       "            <tr>\n",
       "                        <th id=\"T_4bc850f0_90ea_11ea_97de_acde48001122level0_row4\" class=\"row_heading level0 row4\" >staten_island</th>\n",
       "                        <td id=\"T_4bc850f0_90ea_11ea_97de_acde48001122row4_col0\" class=\"data row4 col0\" >12380</td>\n",
       "                        <td id=\"T_4bc850f0_90ea_11ea_97de_acde48001122row4_col1\" class=\"data row4 col1\" >669</td>\n",
       "                        <td id=\"T_4bc850f0_90ea_11ea_97de_acde48001122row4_col2\" class=\"data row4 col2\" >1948</td>\n",
       "            </tr>\n",
       "            <tr>\n",
       "                        <th id=\"T_4bc850f0_90ea_11ea_97de_acde48001122level0_row5\" class=\"row_heading level0 row5\" >unknown</th>\n",
       "                        <td id=\"T_4bc850f0_90ea_11ea_97de_acde48001122row5_col0\" class=\"data row5 col0\" >89</td>\n",
       "                        <td id=\"T_4bc850f0_90ea_11ea_97de_acde48001122row5_col1\" class=\"data row5 col1\" >8</td>\n",
       "                        <td id=\"T_4bc850f0_90ea_11ea_97de_acde48001122row5_col2\" class=\"data row5 col2\" >20</td>\n",
       "            </tr>\n",
       "            <tr>\n",
       "                        <th id=\"T_4bc850f0_90ea_11ea_97de_acde48001122level0_row6\" class=\"row_heading level0 row6\" >total</th>\n",
       "                        <td id=\"T_4bc850f0_90ea_11ea_97de_acde48001122row6_col0\" class=\"data row6 col0\" >174709</td>\n",
       "                        <td id=\"T_4bc850f0_90ea_11ea_97de_acde48001122row6_col1\" class=\"data row6 col1\" >14162</td>\n",
       "                        <td id=\"T_4bc850f0_90ea_11ea_97de_acde48001122row6_col2\" class=\"data row6 col2\" >43744</td>\n",
       "            </tr>\n",
       "    </tbody></table>"
      ],
      "text/plain": [
       "<pandas.io.formats.style.Styler at 0x1a174c8b50>"
      ]
     },
     "execution_count": 957,
     "metadata": {},
     "output_type": "execute_result"
    }
   ],
   "source": [
    "# NYC summary \n",
    "# rearrange col and row\n",
    "nycSummary = update.drop(columns = [\"date\"])\n",
    "cm = sns.light_palette(\"#66cccc\", as_cmap = True)\n",
    "df1 = nycSummary.stack()\n",
    "df2 = df1.unstack(0)\n",
    "df2.style.background_gradient(cmap = cm)"
   ]
  },
  {
   "cell_type": "markdown",
   "metadata": {},
   "source": [
    "# NYC COVID-19 Summary by Date"
   ]
  },
  {
   "cell_type": "code",
   "execution_count": 958,
   "metadata": {},
   "outputs": [
    {
     "data": {
      "image/png": "[encoded data removed]",
      "text/plain": [
       "<Figure size 432x288 with 1 Axes>"
      ]
     },
     "metadata": {
      "needs_background": "light"
     },
     "output_type": "display_data"
    }
   ],
   "source": [
    "# case, death, haspitalized data for NYC \n",
    "nycSourceData = borough[[\"date\",\"type\",\"total\"]] \n",
    "region = \"total\"\n",
    "nycAllData = regionData (nycSourceData, region)\n",
    "regionPlot (nycAllData, region)"
   ]
  },
  {
   "cell_type": "markdown",
   "metadata": {},
   "source": [
    "# Information for Each Borough"
   ]
  },
  {
   "cell_type": "code",
   "execution_count": 959,
   "metadata": {},
   "outputs": [],
   "source": [
    "# Cases / Deaths / Hosplitalized Data for Each Borough"
   ]
  },
  {
   "cell_type": "markdown",
   "metadata": {},
   "source": [
    "# Bronx Data"
   ]
  },
  {
   "cell_type": "code",
   "execution_count": 960,
   "metadata": {},
   "outputs": [
    {
     "data": {
      "text/html": [
       "<div>\n",
       "<style scoped>\n",
       "    .dataframe tbody tr th:only-of-type {\n",
       "        vertical-align: middle;\n",
       "    }\n",
       "\n",
       "    .dataframe tbody tr th {\n",
       "        vertical-align: top;\n",
       "    }\n",
       "\n",
       "    .dataframe thead th {\n",
       "        text-align: right;\n",
       "    }\n",
       "</style>\n",
       "<table border=\"1\" class=\"dataframe\">\n",
       "  <thead>\n",
       "    <tr style=\"text-align: right;\">\n",
       "      <th></th>\n",
       "      <th>date</th>\n",
       "      <th>cases</th>\n",
       "      <th>ever-hospitalized</th>\n",
       "      <th>deaths</th>\n",
       "    </tr>\n",
       "  </thead>\n",
       "  <tbody>\n",
       "    <tr>\n",
       "      <th>50</th>\n",
       "      <td>2020-05-02</td>\n",
       "      <td>38599</td>\n",
       "      <td>9941</td>\n",
       "      <td>2886</td>\n",
       "    </tr>\n",
       "    <tr>\n",
       "      <th>51</th>\n",
       "      <td>2020-05-03</td>\n",
       "      <td>38973</td>\n",
       "      <td>10007</td>\n",
       "      <td>2936</td>\n",
       "    </tr>\n",
       "    <tr>\n",
       "      <th>52</th>\n",
       "      <td>2020-05-04</td>\n",
       "      <td>39239</td>\n",
       "      <td>10084</td>\n",
       "      <td>2997</td>\n",
       "    </tr>\n",
       "    <tr>\n",
       "      <th>53</th>\n",
       "      <td>2020-05-05</td>\n",
       "      <td>39587</td>\n",
       "      <td>10147</td>\n",
       "      <td>3046</td>\n",
       "    </tr>\n",
       "    <tr>\n",
       "      <th>54</th>\n",
       "      <td>2020-05-06</td>\n",
       "      <td>39878</td>\n",
       "      <td>10186</td>\n",
       "      <td>3082</td>\n",
       "    </tr>\n",
       "  </tbody>\n",
       "</table>\n",
       "</div>"
      ],
      "text/plain": [
       "         date  cases  ever-hospitalized  deaths\n",
       "50 2020-05-02  38599               9941    2886\n",
       "51 2020-05-03  38973              10007    2936\n",
       "52 2020-05-04  39239              10084    2997\n",
       "53 2020-05-05  39587              10147    3046\n",
       "54 2020-05-06  39878              10186    3082"
      ]
     },
     "execution_count": 960,
     "metadata": {},
     "output_type": "execute_result"
    }
   ],
   "source": [
    "# case, death, haspitalized data for bronx \n",
    "bronxData = borough[[\"date\",\"type\",\"bronx\"]] \n",
    "region = \"bronx\"\n",
    "bronxAllData = regionData (bronxData, region)\n",
    "bronxAllData.tail(5)"
   ]
  },
  {
   "cell_type": "code",
   "execution_count": 961,
   "metadata": {},
   "outputs": [
    {
     "data": {
      "image/png": "[encoded data removed]",
      "text/plain": [
       "<Figure size 432x288 with 1 Axes>"
      ]
     },
     "metadata": {
      "needs_background": "light"
     },
     "output_type": "display_data"
    }
   ],
   "source": [
    "regionPlot (bronxAllData, region)"
   ]
  },
  {
   "cell_type": "markdown",
   "metadata": {},
   "source": [
    "# Brooklyn Data"
   ]
  },
  {
   "cell_type": "code",
   "execution_count": 962,
   "metadata": {},
   "outputs": [
    {
     "data": {
      "text/html": [
       "<div>\n",
       "<style scoped>\n",
       "    .dataframe tbody tr th:only-of-type {\n",
       "        vertical-align: middle;\n",
       "    }\n",
       "\n",
       "    .dataframe tbody tr th {\n",
       "        vertical-align: top;\n",
       "    }\n",
       "\n",
       "    .dataframe thead th {\n",
       "        text-align: right;\n",
       "    }\n",
       "</style>\n",
       "<table border=\"1\" class=\"dataframe\">\n",
       "  <thead>\n",
       "    <tr style=\"text-align: right;\">\n",
       "      <th></th>\n",
       "      <th>date</th>\n",
       "      <th>cases</th>\n",
       "      <th>ever-hospitalized</th>\n",
       "      <th>deaths</th>\n",
       "    </tr>\n",
       "  </thead>\n",
       "  <tbody>\n",
       "    <tr>\n",
       "      <th>50</th>\n",
       "      <td>2020-05-02</td>\n",
       "      <td>44867</td>\n",
       "      <td>11437</td>\n",
       "      <td>4014</td>\n",
       "    </tr>\n",
       "    <tr>\n",
       "      <th>51</th>\n",
       "      <td>2020-05-03</td>\n",
       "      <td>45341</td>\n",
       "      <td>11469</td>\n",
       "      <td>4080</td>\n",
       "    </tr>\n",
       "    <tr>\n",
       "      <th>52</th>\n",
       "      <td>2020-05-04</td>\n",
       "      <td>45637</td>\n",
       "      <td>11565</td>\n",
       "      <td>4127</td>\n",
       "    </tr>\n",
       "    <tr>\n",
       "      <th>53</th>\n",
       "      <td>2020-05-05</td>\n",
       "      <td>46139</td>\n",
       "      <td>11641</td>\n",
       "      <td>4194</td>\n",
       "    </tr>\n",
       "    <tr>\n",
       "      <th>54</th>\n",
       "      <td>2020-05-06</td>\n",
       "      <td>46579</td>\n",
       "      <td>11660</td>\n",
       "      <td>4260</td>\n",
       "    </tr>\n",
       "  </tbody>\n",
       "</table>\n",
       "</div>"
      ],
      "text/plain": [
       "         date  cases  ever-hospitalized  deaths\n",
       "50 2020-05-02  44867              11437    4014\n",
       "51 2020-05-03  45341              11469    4080\n",
       "52 2020-05-04  45637              11565    4127\n",
       "53 2020-05-05  46139              11641    4194\n",
       "54 2020-05-06  46579              11660    4260"
      ]
     },
     "execution_count": 962,
     "metadata": {},
     "output_type": "execute_result"
    }
   ],
   "source": [
    "# case, death, haspitalized data for brooklyn\n",
    "brooklynData = borough[[\"date\",\"type\",\"brooklyn\"]] \n",
    "region = \"brooklyn\"\n",
    "brooklynAllData = regionData (brooklynData, region)\n",
    "brooklynAllData.tail(5)"
   ]
  },
  {
   "cell_type": "code",
   "execution_count": 963,
   "metadata": {},
   "outputs": [
    {
     "data": {
      "image/png": "[encoded data removed]",
      "text/plain": [
       "<Figure size 432x288 with 1 Axes>"
      ]
     },
     "metadata": {
      "needs_background": "light"
     },
     "output_type": "display_data"
    }
   ],
   "source": [
    "regionPlot (brooklynAllData, region)"
   ]
  },
  {
   "cell_type": "markdown",
   "metadata": {},
   "source": [
    "# Manhattan Data"
   ]
  },
  {
   "cell_type": "code",
   "execution_count": 964,
   "metadata": {},
   "outputs": [
    {
     "data": {
      "text/html": [
       "<div>\n",
       "<style scoped>\n",
       "    .dataframe tbody tr th:only-of-type {\n",
       "        vertical-align: middle;\n",
       "    }\n",
       "\n",
       "    .dataframe tbody tr th {\n",
       "        vertical-align: top;\n",
       "    }\n",
       "\n",
       "    .dataframe thead th {\n",
       "        text-align: right;\n",
       "    }\n",
       "</style>\n",
       "<table border=\"1\" class=\"dataframe\">\n",
       "  <thead>\n",
       "    <tr style=\"text-align: right;\">\n",
       "      <th></th>\n",
       "      <th>date</th>\n",
       "      <th>cases</th>\n",
       "      <th>ever-hospitalized</th>\n",
       "      <th>deaths</th>\n",
       "    </tr>\n",
       "  </thead>\n",
       "  <tbody>\n",
       "    <tr>\n",
       "      <th>50</th>\n",
       "      <td>2020-05-02</td>\n",
       "      <td>20892</td>\n",
       "      <td>5825</td>\n",
       "      <td>1752</td>\n",
       "    </tr>\n",
       "    <tr>\n",
       "      <th>51</th>\n",
       "      <td>2020-05-03</td>\n",
       "      <td>21125</td>\n",
       "      <td>5836</td>\n",
       "      <td>1774</td>\n",
       "    </tr>\n",
       "    <tr>\n",
       "      <th>52</th>\n",
       "      <td>2020-05-04</td>\n",
       "      <td>21287</td>\n",
       "      <td>5869</td>\n",
       "      <td>1797</td>\n",
       "    </tr>\n",
       "    <tr>\n",
       "      <th>53</th>\n",
       "      <td>2020-05-05</td>\n",
       "      <td>21470</td>\n",
       "      <td>5917</td>\n",
       "      <td>1822</td>\n",
       "    </tr>\n",
       "    <tr>\n",
       "      <th>54</th>\n",
       "      <td>2020-05-06</td>\n",
       "      <td>21662</td>\n",
       "      <td>5919</td>\n",
       "      <td>1874</td>\n",
       "    </tr>\n",
       "  </tbody>\n",
       "</table>\n",
       "</div>"
      ],
      "text/plain": [
       "         date  cases  ever-hospitalized  deaths\n",
       "50 2020-05-02  20892               5825    1752\n",
       "51 2020-05-03  21125               5836    1774\n",
       "52 2020-05-04  21287               5869    1797\n",
       "53 2020-05-05  21470               5917    1822\n",
       "54 2020-05-06  21662               5919    1874"
      ]
     },
     "execution_count": 964,
     "metadata": {},
     "output_type": "execute_result"
    }
   ],
   "source": [
    "# case, death, haspitalized data for manhattan\n",
    "manhattanData = borough[[\"date\",\"type\",\"manhattan\"]]\n",
    "region = \"manhattan\"\n",
    "manhattanAllData = regionData (manhattanData, region)\n",
    "manhattanAllData.tail(5)"
   ]
  },
  {
   "cell_type": "code",
   "execution_count": 965,
   "metadata": {},
   "outputs": [
    {
     "data": {
      "image/png": "[encoded data removed]",
      "text/plain": [
       "<Figure size 432x288 with 1 Axes>"
      ]
     },
     "metadata": {
      "needs_background": "light"
     },
     "output_type": "display_data"
    }
   ],
   "source": [
    "regionPlot (manhattanAllData, region)"
   ]
  },
  {
   "cell_type": "markdown",
   "metadata": {},
   "source": [
    "# Queens Data"
   ]
  },
  {
   "cell_type": "code",
   "execution_count": 966,
   "metadata": {},
   "outputs": [
    {
     "data": {
      "text/html": [
       "<div>\n",
       "<style scoped>\n",
       "    .dataframe tbody tr th:only-of-type {\n",
       "        vertical-align: middle;\n",
       "    }\n",
       "\n",
       "    .dataframe tbody tr th {\n",
       "        vertical-align: top;\n",
       "    }\n",
       "\n",
       "    .dataframe thead th {\n",
       "        text-align: right;\n",
       "    }\n",
       "</style>\n",
       "<table border=\"1\" class=\"dataframe\">\n",
       "  <thead>\n",
       "    <tr style=\"text-align: right;\">\n",
       "      <th></th>\n",
       "      <th>date</th>\n",
       "      <th>cases</th>\n",
       "      <th>ever-hospitalized</th>\n",
       "      <th>deaths</th>\n",
       "    </tr>\n",
       "  </thead>\n",
       "  <tbody>\n",
       "    <tr>\n",
       "      <th>50</th>\n",
       "      <td>2020-05-02</td>\n",
       "      <td>52305</td>\n",
       "      <td>13782</td>\n",
       "      <td>4035</td>\n",
       "    </tr>\n",
       "    <tr>\n",
       "      <th>51</th>\n",
       "      <td>2020-05-03</td>\n",
       "      <td>52845</td>\n",
       "      <td>13805</td>\n",
       "      <td>4102</td>\n",
       "    </tr>\n",
       "    <tr>\n",
       "      <th>52</th>\n",
       "      <td>2020-05-04</td>\n",
       "      <td>53243</td>\n",
       "      <td>13915</td>\n",
       "      <td>4149</td>\n",
       "    </tr>\n",
       "    <tr>\n",
       "      <th>53</th>\n",
       "      <td>2020-05-05</td>\n",
       "      <td>53692</td>\n",
       "      <td>14003</td>\n",
       "      <td>4213</td>\n",
       "    </tr>\n",
       "    <tr>\n",
       "      <th>54</th>\n",
       "      <td>2020-05-06</td>\n",
       "      <td>54121</td>\n",
       "      <td>14011</td>\n",
       "      <td>4269</td>\n",
       "    </tr>\n",
       "  </tbody>\n",
       "</table>\n",
       "</div>"
      ],
      "text/plain": [
       "         date  cases  ever-hospitalized  deaths\n",
       "50 2020-05-02  52305              13782    4035\n",
       "51 2020-05-03  52845              13805    4102\n",
       "52 2020-05-04  53243              13915    4149\n",
       "53 2020-05-05  53692              14003    4213\n",
       "54 2020-05-06  54121              14011    4269"
      ]
     },
     "execution_count": 966,
     "metadata": {},
     "output_type": "execute_result"
    }
   ],
   "source": [
    "# case, death, haspitalized data for queens\n",
    "queensData = borough[[\"date\",\"type\",\"queens\"]] \n",
    "region = \"queens\"\n",
    "queensAllData = regionData (queensData, region)\n",
    "queensAllData.tail(5)"
   ]
  },
  {
   "cell_type": "code",
   "execution_count": 967,
   "metadata": {},
   "outputs": [
    {
     "data": {
      "image/png": "[encoded data removed]",
      "text/plain": [
       "<Figure size 432x288 with 1 Axes>"
      ]
     },
     "metadata": {
      "needs_background": "light"
     },
     "output_type": "display_data"
    }
   ],
   "source": [
    "regionPlot (queensAllData, region)"
   ]
  },
  {
   "cell_type": "markdown",
   "metadata": {},
   "source": [
    "# Staten Island Data"
   ]
  },
  {
   "cell_type": "code",
   "execution_count": 968,
   "metadata": {},
   "outputs": [
    {
     "data": {
      "text/html": [
       "<div>\n",
       "<style scoped>\n",
       "    .dataframe tbody tr th:only-of-type {\n",
       "        vertical-align: middle;\n",
       "    }\n",
       "\n",
       "    .dataframe tbody tr th {\n",
       "        vertical-align: top;\n",
       "    }\n",
       "\n",
       "    .dataframe thead th {\n",
       "        text-align: right;\n",
       "    }\n",
       "</style>\n",
       "<table border=\"1\" class=\"dataframe\">\n",
       "  <thead>\n",
       "    <tr style=\"text-align: right;\">\n",
       "      <th></th>\n",
       "      <th>date</th>\n",
       "      <th>cases</th>\n",
       "      <th>ever-hospitalized</th>\n",
       "      <th>deaths</th>\n",
       "    </tr>\n",
       "  </thead>\n",
       "  <tbody>\n",
       "    <tr>\n",
       "      <th>50</th>\n",
       "      <td>2020-05-02</td>\n",
       "      <td>12101</td>\n",
       "      <td>1905</td>\n",
       "      <td>624</td>\n",
       "    </tr>\n",
       "    <tr>\n",
       "      <th>51</th>\n",
       "      <td>2020-05-03</td>\n",
       "      <td>12169</td>\n",
       "      <td>1909</td>\n",
       "      <td>636</td>\n",
       "    </tr>\n",
       "    <tr>\n",
       "      <th>52</th>\n",
       "      <td>2020-05-04</td>\n",
       "      <td>12235</td>\n",
       "      <td>1931</td>\n",
       "      <td>646</td>\n",
       "    </tr>\n",
       "    <tr>\n",
       "      <th>53</th>\n",
       "      <td>2020-05-05</td>\n",
       "      <td>12311</td>\n",
       "      <td>1948</td>\n",
       "      <td>655</td>\n",
       "    </tr>\n",
       "    <tr>\n",
       "      <th>54</th>\n",
       "      <td>2020-05-06</td>\n",
       "      <td>12380</td>\n",
       "      <td>1948</td>\n",
       "      <td>669</td>\n",
       "    </tr>\n",
       "  </tbody>\n",
       "</table>\n",
       "</div>"
      ],
      "text/plain": [
       "         date  cases  ever-hospitalized  deaths\n",
       "50 2020-05-02  12101               1905     624\n",
       "51 2020-05-03  12169               1909     636\n",
       "52 2020-05-04  12235               1931     646\n",
       "53 2020-05-05  12311               1948     655\n",
       "54 2020-05-06  12380               1948     669"
      ]
     },
     "execution_count": 968,
     "metadata": {},
     "output_type": "execute_result"
    }
   ],
   "source": [
    "# case, death, haspitalized data for staten_island\n",
    "staten_islandData = borough[[\"date\",\"type\",\"staten_island\"]] \n",
    "region = \"staten_island\"\n",
    "staten_islandAllData = regionData (staten_islandData, region)\n",
    "staten_islandAllData.tail(5)"
   ]
  },
  {
   "cell_type": "code",
   "execution_count": 969,
   "metadata": {},
   "outputs": [
    {
     "data": {
      "image/png": "[encoded data removed]",
      "text/plain": [
       "<Figure size 432x288 with 1 Axes>"
      ]
     },
     "metadata": {
      "needs_background": "light"
     },
     "output_type": "display_data"
    }
   ],
   "source": [
    "regionPlot (staten_islandAllData, region)"
   ]
  },
  {
   "cell_type": "markdown",
   "metadata": {},
   "source": [
    "# NYC Cases and Tasted Data"
   ]
  },
  {
   "cell_type": "code",
   "execution_count": 970,
   "metadata": {},
   "outputs": [
    {
     "name": "stdout",
     "output_type": "stream",
     "text": [
      "Update: 2020-05-07\t(from 2020-03-16)\n"
     ]
    }
   ],
   "source": [
    "# filter the dataframe, just leave the date and number of tasted\n",
    "nycTestSource = fetchData(nyc_his_state_url)\n",
    "nycTest = nycTestSource[[\"timestamp\",\"nyc_tested\",\"nyc_cases\"]]\n",
    "nycTest = nycTest.fillna(0)\n",
    "nycTest[[\"nyc_tested\",\"nyc_cases\"]] = nycTest[[\"nyc_tested\",\"nyc_cases\"]].astype(int)\n",
    "\n",
    "nycTest[[\"date\",\"time\"]] = nycTest[\"timestamp\"].str.split(\"T\", expand = True)\n",
    "nycTest = nycTest[[\"date\",\"nyc_tested\",\"nyc_cases\"]]\n",
    "nycTest[\"date\"] = pd.to_datetime(nycTest[\"date\"])\n",
    "\n",
    "# NYC test data update date\n",
    "getTimeRange(nycTest)"
   ]
  },
  {
   "cell_type": "code",
   "execution_count": 971,
   "metadata": {},
   "outputs": [
    {
     "data": {
      "text/html": [
       "<div>\n",
       "<style scoped>\n",
       "    .dataframe tbody tr th:only-of-type {\n",
       "        vertical-align: middle;\n",
       "    }\n",
       "\n",
       "    .dataframe tbody tr th {\n",
       "        vertical-align: top;\n",
       "    }\n",
       "\n",
       "    .dataframe thead th {\n",
       "        text-align: right;\n",
       "    }\n",
       "</style>\n",
       "<table border=\"1\" class=\"dataframe\">\n",
       "  <thead>\n",
       "    <tr style=\"text-align: right;\">\n",
       "      <th></th>\n",
       "      <th>date</th>\n",
       "      <th>nyc_tested</th>\n",
       "      <th>nyc_cases</th>\n",
       "    </tr>\n",
       "  </thead>\n",
       "  <tbody>\n",
       "    <tr>\n",
       "      <th>48</th>\n",
       "      <td>2020-05-03</td>\n",
       "      <td>465803</td>\n",
       "      <td>174331</td>\n",
       "    </tr>\n",
       "    <tr>\n",
       "      <th>49</th>\n",
       "      <td>2020-05-04</td>\n",
       "      <td>474986</td>\n",
       "      <td>175651</td>\n",
       "    </tr>\n",
       "    <tr>\n",
       "      <th>50</th>\n",
       "      <td>2020-05-05</td>\n",
       "      <td>485803</td>\n",
       "      <td>176874</td>\n",
       "    </tr>\n",
       "    <tr>\n",
       "      <th>51</th>\n",
       "      <td>2020-05-06</td>\n",
       "      <td>498849</td>\n",
       "      <td>178351</td>\n",
       "    </tr>\n",
       "    <tr>\n",
       "      <th>52</th>\n",
       "      <td>2020-05-07</td>\n",
       "      <td>515218</td>\n",
       "      <td>180216</td>\n",
       "    </tr>\n",
       "  </tbody>\n",
       "</table>\n",
       "</div>"
      ],
      "text/plain": [
       "         date  nyc_tested  nyc_cases\n",
       "48 2020-05-03      465803     174331\n",
       "49 2020-05-04      474986     175651\n",
       "50 2020-05-05      485803     176874\n",
       "51 2020-05-06      498849     178351\n",
       "52 2020-05-07      515218     180216"
      ]
     },
     "execution_count": 971,
     "metadata": {},
     "output_type": "execute_result"
    }
   ],
   "source": [
    "nycTest.tail(5)"
   ]
  },
  {
   "cell_type": "code",
   "execution_count": 972,
   "metadata": {},
   "outputs": [
    {
     "data": {
      "image/png": "[encoded data removed]",
      "text/plain": [
       "<Figure size 432x288 with 1 Axes>"
      ]
     },
     "metadata": {
      "needs_background": "light"
     },
     "output_type": "display_data"
    }
   ],
   "source": [
    "nycTest = nycTest.set_index(\"date\")\n",
    "nycTest.plot.area(stacked = False, cmap = \"Spectral_r\")\n",
    "plt.title(\"NYC Cases & Tasts Data\", fontsize = 20)\n",
    "plt.legend()\n",
    "plt.show()"
   ]
  },
  {
   "cell_type": "markdown",
   "metadata": {},
   "source": [
    "# Cases by Age Group"
   ]
  },
  {
   "cell_type": "code",
   "execution_count": 973,
   "metadata": {},
   "outputs": [],
   "source": [
    "# cases by age\n",
    "casesAge = fetchData(nyc_his_age_url)\n",
    "\n",
    "# filter the dataframe, just leave the date and number of tasted\n",
    "ageGroup = casesAge[[\"timestamp\",\"type\",\"ages_0_17\",\"ages_18_44\",\"ages_45_64\",\"ages_65_74\",\"ages_75_older\",\"unknown\"]]\n",
    "ageGroup[[\"date\",\"time\"]] = ageGroup[\"timestamp\"].str.split(\"T\", expand = True)\n",
    "ageGroup = ageGroup[[\"date\",\"type\",\"ages_0_17\",\"ages_18_44\",\"ages_45_64\",\"ages_65_74\",\"ages_75_older\",\"unknown\"]]\n",
    "ageGroup[\"date\"] = pd.to_datetime(ageGroup[\"date\"])\n",
    "\n",
    "# summary of age group\n",
    "ageGroupCase = ageGroup[(ageGroup.type == \"cases\")]\n",
    "ageGroupCase.drop_duplicates(subset = \"date\", keep = \"last\", inplace = True)\n",
    "ageGroupCaseUpdate = ageGroupCase.tail(1)\n",
    "\n",
    "ageGroupDeath = ageGroup[(ageGroup.type == \"deaths\")]\n",
    "ageGroupDeath.drop_duplicates(subset = \"date\", keep = \"last\", inplace = True)\n",
    "ageGroupDeathUpdate = ageGroupDeath.tail(1)\n",
    "\n",
    "frames = [ageGroupCaseUpdate, ageGroupDeathUpdate]\n",
    "ageGroupUpdate = pd.concat(frames).drop(columns=[\"date\"])\n",
    "ageGroupUpdate.set_index([\"type\"], inplace = True) "
   ]
  },
  {
   "cell_type": "code",
   "execution_count": 974,
   "metadata": {},
   "outputs": [
    {
     "name": "stdout",
     "output_type": "stream",
     "text": [
      "Update: 2020-05-06\t(from 2020-03-22)\n"
     ]
    }
   ],
   "source": [
    "getTimeRange(ageGroup)"
   ]
  },
  {
   "cell_type": "code",
   "execution_count": 975,
   "metadata": {},
   "outputs": [
    {
     "data": {
      "text/html": [
       "<style  type=\"text/css\" >\n",
       "    #T_4e715db3_90ea_11ea_ba77_acde48001122row0_col0 {\n",
       "            background-color:  #ffe9d8;\n",
       "            color:  #000000;\n",
       "        }    #T_4e715db3_90ea_11ea_ba77_acde48001122row0_col1 {\n",
       "            background-color:  #fff1e5;\n",
       "            color:  #000000;\n",
       "        }    #T_4e715db3_90ea_11ea_ba77_acde48001122row1_col0 {\n",
       "            background-color:  #ff7000;\n",
       "            color:  #000000;\n",
       "        }    #T_4e715db3_90ea_11ea_ba77_acde48001122row1_col1 {\n",
       "            background-color:  #ffe7d3;\n",
       "            color:  #000000;\n",
       "        }    #T_4e715db3_90ea_11ea_ba77_acde48001122row2_col0 {\n",
       "            background-color:  #ff7000;\n",
       "            color:  #000000;\n",
       "        }    #T_4e715db3_90ea_11ea_ba77_acde48001122row2_col1 {\n",
       "            background-color:  #ffb67c;\n",
       "            color:  #000000;\n",
       "        }    #T_4e715db3_90ea_11ea_ba77_acde48001122row3_col0 {\n",
       "            background-color:  #ffc699;\n",
       "            color:  #000000;\n",
       "        }    #T_4e715db3_90ea_11ea_ba77_acde48001122row3_col1 {\n",
       "            background-color:  #ffaf70;\n",
       "            color:  #000000;\n",
       "        }    #T_4e715db3_90ea_11ea_ba77_acde48001122row4_col0 {\n",
       "            background-color:  #ffc99f;\n",
       "            color:  #000000;\n",
       "        }    #T_4e715db3_90ea_11ea_ba77_acde48001122row4_col1 {\n",
       "            background-color:  #ff7000;\n",
       "            color:  #000000;\n",
       "        }    #T_4e715db3_90ea_11ea_ba77_acde48001122row5_col0 {\n",
       "            background-color:  #fff1e5;\n",
       "            color:  #000000;\n",
       "        }    #T_4e715db3_90ea_11ea_ba77_acde48001122row5_col1 {\n",
       "            background-color:  #fff1e5;\n",
       "            color:  #000000;\n",
       "        }</style><table id=\"T_4e715db3_90ea_11ea_ba77_acde48001122\" ><thead>    <tr>        <th class=\"index_name level0\" >type</th>        <th class=\"col_heading level0 col0\" >cases</th>        <th class=\"col_heading level0 col1\" >deaths</th>    </tr></thead><tbody>\n",
       "                <tr>\n",
       "                        <th id=\"T_4e715db3_90ea_11ea_ba77_acde48001122level0_row0\" class=\"row_heading level0 row0\" >ages_0_17</th>\n",
       "                        <td id=\"T_4e715db3_90ea_11ea_ba77_acde48001122row0_col0\" class=\"data row0 col0\" >4246</td>\n",
       "                        <td id=\"T_4e715db3_90ea_11ea_ba77_acde48001122row0_col1\" class=\"data row0 col1\" >6</td>\n",
       "            </tr>\n",
       "            <tr>\n",
       "                        <th id=\"T_4e715db3_90ea_11ea_ba77_acde48001122level0_row1\" class=\"row_heading level0 row1\" >ages_18_44</th>\n",
       "                        <td id=\"T_4e715db3_90ea_11ea_ba77_acde48001122row1_col0\" class=\"data row1 col0\" >64244</td>\n",
       "                        <td id=\"T_4e715db3_90ea_11ea_ba77_acde48001122row1_col1\" class=\"data row1 col1\" >566</td>\n",
       "            </tr>\n",
       "            <tr>\n",
       "                        <th id=\"T_4e715db3_90ea_11ea_ba77_acde48001122level0_row2\" class=\"row_heading level0 row2\" >ages_45_64</th>\n",
       "                        <td id=\"T_4e715db3_90ea_11ea_ba77_acde48001122row2_col0\" class=\"data row2 col0\" >64143</td>\n",
       "                        <td id=\"T_4e715db3_90ea_11ea_ba77_acde48001122row2_col1\" class=\"data row2 col1\" >3170</td>\n",
       "            </tr>\n",
       "            <tr>\n",
       "                        <th id=\"T_4e715db3_90ea_11ea_ba77_acde48001122level0_row3\" class=\"row_heading level0 row3\" >ages_65_74</th>\n",
       "                        <td id=\"T_4e715db3_90ea_11ea_ba77_acde48001122row3_col0\" class=\"data row3 col0\" >21770</td>\n",
       "                        <td id=\"T_4e715db3_90ea_11ea_ba77_acde48001122row3_col1\" class=\"data row3 col1\" >3511</td>\n",
       "            </tr>\n",
       "            <tr>\n",
       "                        <th id=\"T_4e715db3_90ea_11ea_ba77_acde48001122level0_row4\" class=\"row_heading level0 row4\" >ages_75_older</th>\n",
       "                        <td id=\"T_4e715db3_90ea_11ea_ba77_acde48001122row4_col0\" class=\"data row4 col0\" >19971</td>\n",
       "                        <td id=\"T_4e715db3_90ea_11ea_ba77_acde48001122row4_col1\" class=\"data row4 col1\" >6907</td>\n",
       "            </tr>\n",
       "            <tr>\n",
       "                        <th id=\"T_4e715db3_90ea_11ea_ba77_acde48001122level0_row5\" class=\"row_heading level0 row5\" >unknown</th>\n",
       "                        <td id=\"T_4e715db3_90ea_11ea_ba77_acde48001122row5_col0\" class=\"data row5 col0\" >335</td>\n",
       "                        <td id=\"T_4e715db3_90ea_11ea_ba77_acde48001122row5_col1\" class=\"data row5 col1\" >2</td>\n",
       "            </tr>\n",
       "    </tbody></table>"
      ],
      "text/plain": [
       "<pandas.io.formats.style.Styler at 0x1a17d33e10>"
      ]
     },
     "execution_count": 975,
     "metadata": {},
     "output_type": "execute_result"
    }
   ],
   "source": [
    "# cases and deaths for age group\n",
    "# rearrange col and row\n",
    "cm = sns.light_palette(\"#ff7000\", as_cmap = True)\n",
    "df1 = ageGroupUpdate.stack()\n",
    "df2 = df1.unstack(0)\n",
    "df2.style.background_gradient(cmap = cm)"
   ]
  },
  {
   "cell_type": "markdown",
   "metadata": {},
   "source": [
    "# NYC COVID-19 Cases Prediction"
   ]
  },
  {
   "cell_type": "code",
   "execution_count": 976,
   "metadata": {},
   "outputs": [],
   "source": [
    "test = nycAllData[[\"date\",\"cases\"]]\n",
    "firstDay = getStartDate(test)\n",
    "lastDay = getLastDate(test)\n",
    "start = datetime.datetime.strptime(firstDay, \"%Y-%m-%d\")\n",
    "end = datetime.datetime.strptime(lastDay, \"%Y-%m-%d\")\n",
    "\n",
    "days = len(test)\n",
    "Time = np.arange(1,days+1)\n",
    "P = np.array(test[\"cases\"])"
   ]
  },
  {
   "cell_type": "code",
   "execution_count": 977,
   "metadata": {},
   "outputs": [],
   "source": [
    "# t:time t0:initial time P0:initial value K:capacity r:increase rate\n",
    "# greater r faster to K\n",
    "\n",
    "fast_r = 0.09\n",
    "slow_r = 0.11\n",
    "\n",
    "def logisticIncreaseFunction(t,K,P0,r):\n",
    "    t0 = 1\n",
    "    exp_value = np.exp(r*(t-t0))\n",
    "    return (K*exp_value*P0)/(K+(exp_value - 1)*P0)\n",
    "\n",
    "def fasterLIF(t,K,P0):\n",
    "    return logisticIncreaseFunction(t,K,P0,r = fast_r)\n",
    "\n",
    "def slowerLIF(t,K,P0):\n",
    "    return logisticIncreaseFunction(t,K,P0,r = slow_r)"
   ]
  },
  {
   "cell_type": "code",
   "execution_count": 978,
   "metadata": {},
   "outputs": [],
   "source": [
    "def nearFuture(startDate, num):\n",
    "    delta = datetime.timedelta(days = 1)\n",
    "    predict = pd.DataFrame(columns = [\"date\", \"fast growth\", \"slow growth\"])\n",
    "    for i in range(1, num+1):\n",
    "        curr = startDate + delta * (days+i) \n",
    "        currDate = curr.strftime(\"%Y-%m-%d\")\n",
    "        fast = int(fasterLIF(np.array(days+i),poptFast[0],poptFast[1]))\n",
    "        slow = int(slowerLIF(np.array(days+i),poptSlow[0],poptSlow[1]))\n",
    "        \n",
    "        predict = predict.append(pd.DataFrame({\"date\":[currDate], \"fast growth\":[fast], \"slow growth\":[slow]}),ignore_index = True) \n",
    "        \n",
    "    return predict"
   ]
  },
  {
   "cell_type": "code",
   "execution_count": 983,
   "metadata": {},
   "outputs": [
    {
     "data": {
      "image/png": "[encoded data removed]",
      "text/plain": [
       "<Figure size 432x288 with 1 Axes>"
      ]
     },
     "metadata": {
      "needs_background": "light"
     },
     "output_type": "display_data"
    }
   ],
   "source": [
    "# data fitting: least squares approximation \n",
    "# popt: coefficient pcov：covariance matrix\n",
    "poptFast, pcovFast = curve_fit(fasterLIF, Time, P)\n",
    "poptSlow, pcovSlow = curve_fit(slowerLIF, Time, P)\n",
    "\n",
    "# predict cases\n",
    "predictCasefast = fasterLIF(Time,poptFast[0],poptFast[1])\n",
    "predictCaseSlow = slowerLIF(Time,poptSlow[0],poptSlow[1])\n",
    "\n",
    "# near future predict cases\n",
    "nextDay = np.arange(days+1, days+16)\n",
    "nextDay_predictFast = logisticIncreaseFunction(nextDay,poptFast[0],poptFast[1],r = fast_r)\n",
    "nextDay_predictSlow = logisticIncreaseFunction(nextDay,poptSlow[0],poptSlow[1],r = slow_r)\n",
    "\n",
    "plot1 = plt.plot(Time, P, color = \"#49b9c2\", marker = \"o\", label = \"confimed cases\")\n",
    "plot2 = plt.plot(nextDay, nextDay_predictFast, color = \"#ff6500\", marker = \"^\", label = \"predict cases fast\")\n",
    "plot3 = plt.plot(Time, predictCasefast, color = \"#e17223\",label = \"predict cases fast\")\n",
    "plot4 = plt.plot(nextDay, nextDay_predictSlow, color = \"#009900\", marker = \"v\", label = \"predict cases slow\")\n",
    "plot5 = plt.plot(Time, predictCaseSlow, color = \"#008000\",label = \"predict cases slow\")\n",
    "\n",
    "plt.xlabel(\"Days from Outbreak\")\n",
    "plt.ylabel(\"Confimed Cases\")\n",
    "plt.title(\"NYC COVID-19 Cases Prediction\", fontsize = 20)\n",
    "plt.grid(axis = \"y\",linestyle = \"-.\") \n",
    "plt.legend()\n",
    "plt.show()"
   ]
  },
  {
   "cell_type": "markdown",
   "metadata": {},
   "source": [
    "# NYC COVID-19 Cases Prediction in A Week"
   ]
  },
  {
   "cell_type": "code",
   "execution_count": 984,
   "metadata": {},
   "outputs": [
    {
     "data": {
      "text/html": [
       "<div>\n",
       "<style scoped>\n",
       "    .dataframe tbody tr th:only-of-type {\n",
       "        vertical-align: middle;\n",
       "    }\n",
       "\n",
       "    .dataframe tbody tr th {\n",
       "        vertical-align: top;\n",
       "    }\n",
       "\n",
       "    .dataframe thead th {\n",
       "        text-align: right;\n",
       "    }\n",
       "</style>\n",
       "<table border=\"1\" class=\"dataframe\">\n",
       "  <thead>\n",
       "    <tr style=\"text-align: right;\">\n",
       "      <th></th>\n",
       "      <th>date</th>\n",
       "      <th>fast growth</th>\n",
       "      <th>slow growth</th>\n",
       "    </tr>\n",
       "  </thead>\n",
       "  <tbody>\n",
       "    <tr>\n",
       "      <th>0</th>\n",
       "      <td>2020-05-07</td>\n",
       "      <td>183620</td>\n",
       "      <td>176423</td>\n",
       "    </tr>\n",
       "    <tr>\n",
       "      <th>1</th>\n",
       "      <td>2020-05-08</td>\n",
       "      <td>185376</td>\n",
       "      <td>177423</td>\n",
       "    </tr>\n",
       "    <tr>\n",
       "      <th>2</th>\n",
       "      <td>2020-05-09</td>\n",
       "      <td>187011</td>\n",
       "      <td>178328</td>\n",
       "    </tr>\n",
       "    <tr>\n",
       "      <th>3</th>\n",
       "      <td>2020-05-10</td>\n",
       "      <td>188531</td>\n",
       "      <td>179147</td>\n",
       "    </tr>\n",
       "    <tr>\n",
       "      <th>4</th>\n",
       "      <td>2020-05-11</td>\n",
       "      <td>189941</td>\n",
       "      <td>179887</td>\n",
       "    </tr>\n",
       "    <tr>\n",
       "      <th>5</th>\n",
       "      <td>2020-05-12</td>\n",
       "      <td>191249</td>\n",
       "      <td>180556</td>\n",
       "    </tr>\n",
       "    <tr>\n",
       "      <th>6</th>\n",
       "      <td>2020-05-13</td>\n",
       "      <td>192460</td>\n",
       "      <td>181158</td>\n",
       "    </tr>\n",
       "  </tbody>\n",
       "</table>\n",
       "</div>"
      ],
      "text/plain": [
       "         date fast growth slow growth\n",
       "0  2020-05-07      183620      176423\n",
       "1  2020-05-08      185376      177423\n",
       "2  2020-05-09      187011      178328\n",
       "3  2020-05-10      188531      179147\n",
       "4  2020-05-11      189941      179887\n",
       "5  2020-05-12      191249      180556\n",
       "6  2020-05-13      192460      181158"
      ]
     },
     "execution_count": 984,
     "metadata": {},
     "output_type": "execute_result"
    }
   ],
   "source": [
    "nearFuture(start, 7)"
   ]
  },
  {
   "cell_type": "code",
   "execution_count": 981,
   "metadata": {},
   "outputs": [],
   "source": [
    "# end"
   ]
  }
 ],
 "metadata": {
  "@deathbeds/jupyterlab-fonts": {
   "styles": {
    ":root": {
     "--jp-code-font-size": "17px",
     "--jp-code-line-height": "1.5"
    }
   }
  },
  "kernelspec": {
   "display_name": "Python 3",
   "language": "python",
   "name": "python3"
  },
  "language_info": {
   "codemirror_mode": {
    "name": "ipython",
    "version": 3
   },
   "file_extension": ".py",
   "mimetype": "text/x-python",
   "name": "python",
   "nbconvert_exporter": "python",
   "pygments_lexer": "ipython3",
   "version": "3.7.6"
  }
 },
 "nbformat": 4,
 "nbformat_minor": 4
}
