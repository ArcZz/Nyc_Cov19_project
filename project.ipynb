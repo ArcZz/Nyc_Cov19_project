{
 "cells": [
  {
   "cell_type": "markdown",
   "metadata": {},
   "source": [
    "## NYC_COV19"
   ]
  },
  {
   "cell_type": "code",
   "execution_count": 1,
   "metadata": {},
   "outputs": [],
   "source": [
    "%run data.py"
   ]
  },
  {
   "cell_type": "code",
   "execution_count": 2,
   "metadata": {},
   "outputs": [
    {
     "data": {
      "text/html": [
       "<div>\n",
       "<style scoped>\n",
       "    .dataframe tbody tr th:only-of-type {\n",
       "        vertical-align: middle;\n",
       "    }\n",
       "\n",
       "    .dataframe tbody tr th {\n",
       "        vertical-align: top;\n",
       "    }\n",
       "\n",
       "    .dataframe thead th {\n",
       "        text-align: right;\n",
       "    }\n",
       "</style>\n",
       "<table border=\"1\" class=\"dataframe\">\n",
       "  <thead>\n",
       "    <tr style=\"text-align: right;\">\n",
       "      <th></th>\n",
       "      <th>timestamp</th>\n",
       "      <th>type</th>\n",
       "      <th>ages_0_17</th>\n",
       "      <th>ages_18_44</th>\n",
       "      <th>ages_45_64</th>\n",
       "      <th>ages_65_74</th>\n",
       "      <th>ages_75_older</th>\n",
       "      <th>unknown</th>\n",
       "      <th>total</th>\n",
       "    </tr>\n",
       "  </thead>\n",
       "  <tbody>\n",
       "    <tr>\n",
       "      <th>0</th>\n",
       "      <td>2020-03-22T13:54:00Z</td>\n",
       "      <td>deaths</td>\n",
       "      <td>0</td>\n",
       "      <td>0</td>\n",
       "      <td>17</td>\n",
       "      <td>12</td>\n",
       "      <td>34</td>\n",
       "      <td>0</td>\n",
       "      <td>63</td>\n",
       "    </tr>\n",
       "    <tr>\n",
       "      <th>1</th>\n",
       "      <td>2020-03-22T21:30:00Z</td>\n",
       "      <td>cases</td>\n",
       "      <td>300</td>\n",
       "      <td>4965</td>\n",
       "      <td>3519</td>\n",
       "      <td>1150</td>\n",
       "      <td>825</td>\n",
       "      <td>5</td>\n",
       "      <td>10764</td>\n",
       "    </tr>\n",
       "    <tr>\n",
       "      <th>2</th>\n",
       "      <td>2020-03-23T13:35:00Z</td>\n",
       "      <td>cases</td>\n",
       "      <td>323</td>\n",
       "      <td>5704</td>\n",
       "      <td>4069</td>\n",
       "      <td>1308</td>\n",
       "      <td>930</td>\n",
       "      <td>5</td>\n",
       "      <td>12339</td>\n",
       "    </tr>\n",
       "  </tbody>\n",
       "</table>\n",
       "</div>"
      ],
      "text/plain": [
       "              timestamp    type  ages_0_17  ages_18_44  ages_45_64  \\\n",
       "0  2020-03-22T13:54:00Z  deaths          0           0          17   \n",
       "1  2020-03-22T21:30:00Z   cases        300        4965        3519   \n",
       "2  2020-03-23T13:35:00Z   cases        323        5704        4069   \n",
       "\n",
       "   ages_65_74  ages_75_older  unknown  total  \n",
       "0          12             34        0     63  \n",
       "1        1150            825        5  10764  \n",
       "2        1308            930        5  12339  "
      ]
     },
     "execution_count": 2,
     "metadata": {},
     "output_type": "execute_result"
    }
   ],
   "source": [
    "a = fetchData(nyc_his_age_url)\n",
    "a.head(3)\n"
   ]
  },
  {
   "cell_type": "code",
   "execution_count": 4,
   "metadata": {},
   "outputs": [
    {
     "name": "stdout",
     "output_type": "stream",
     "text": [
      "+--------------------+------+-------------+------------------------------+---------------------+--------------------------+\n",
      "|           test_date|county|new_positives|cumulative_number_of_positives|total_number_of_tests|cumulative_number_of_tests|\n",
      "+--------------------+------+-------------+------------------------------+---------------------+--------------------------+\n",
      "|2020-05-04T00:00:...| Bronx|          253|                         39476|                 2001|                    103476|\n",
      "|2020-05-04T00:00:...| Kings|          396|                         47579|                 3364|                    129847|\n",
      "+--------------------+------+-------------+------------------------------+---------------------+--------------------------+\n",
      "only showing top 2 rows\n",
      "\n"
     ]
    }
   ],
   "source": [
    "spark = current_CovData()\n"
   ]
  }
 ],
 "metadata": {
  "kernelspec": {
   "display_name": "Python 3",
   "language": "python",
   "name": "python3"
  },
  "language_info": {
   "codemirror_mode": {
    "name": "ipython",
    "version": 2
   },
   "file_extension": ".py",
   "mimetype": "text/x-python",
   "name": "python",
   "nbconvert_exporter": "python",
   "pygments_lexer": "ipython2",
   "version": "2.7.16"
  }
 },
 "nbformat": 4,
 "nbformat_minor": 4
}
