{
 "cells": [
  {
   "cell_type": "code",
   "execution_count": 4,
   "metadata": {},
   "outputs": [],
   "source": [
    "%run data.py"
   ]
  },
  {
   "cell_type": "markdown",
   "metadata": {},
   "source": [
    "### Read data from NYC Open Data."
   ]
  },
  {
   "cell_type": "code",
   "execution_count": 5,
   "metadata": {},
   "outputs": [
    {
     "data": {
      "text/html": [
       "<div>\n",
       "<style scoped>\n",
       "    .dataframe tbody tr th:only-of-type {\n",
       "        vertical-align: middle;\n",
       "    }\n",
       "\n",
       "    .dataframe tbody tr th {\n",
       "        vertical-align: top;\n",
       "    }\n",
       "\n",
       "    .dataframe thead th {\n",
       "        text-align: right;\n",
       "    }\n",
       "</style>\n",
       "<table border=\"1\" class=\"dataframe\">\n",
       "  <thead>\n",
       "    <tr style=\"text-align: right;\">\n",
       "      <th></th>\n",
       "      <th>record_id</th>\n",
       "      <th>date_and_time</th>\n",
       "      <th>notificationtype</th>\n",
       "      <th>notification_title</th>\n",
       "      <th>email_body</th>\n",
       "    </tr>\n",
       "  </thead>\n",
       "  <tbody>\n",
       "    <tr>\n",
       "      <th>0</th>\n",
       "      <td>17077</td>\n",
       "      <td>2020-05-10T13:27:00.000</td>\n",
       "      <td>Road Closure</td>\n",
       "      <td>Traffic Delays- BQE at Cadman Plaza (BK)</td>\n",
       "      <td>Notification issued 05-10-2020 at 1:27 PM.    ...</td>\n",
       "    </tr>\n",
       "    <tr>\n",
       "      <th>1</th>\n",
       "      <td>17076</td>\n",
       "      <td>2020-05-10T09:43:00.000</td>\n",
       "      <td>Public Awareness</td>\n",
       "      <td>Police Activity (BK)</td>\n",
       "      <td>Notification issued 05-10-2020 at 9:43 AM.    ...</td>\n",
       "    </tr>\n",
       "    <tr>\n",
       "      <th>2</th>\n",
       "      <td>17075</td>\n",
       "      <td>2020-05-09T23:10:00.000</td>\n",
       "      <td>Mass Transit Restoration</td>\n",
       "      <td>MTA Restoration - 2 Train (BK)</td>\n",
       "      <td>Notification issued 5-9-2020 at 11:10 PM.    F...</td>\n",
       "    </tr>\n",
       "    <tr>\n",
       "      <th>3</th>\n",
       "      <td>17074</td>\n",
       "      <td>2020-05-09T22:58:00.000</td>\n",
       "      <td>Mass Transit Disruption</td>\n",
       "      <td>MTA Suspension - 2 Train (BK)</td>\n",
       "      <td>Notification issued 5-9-2020 at 10:58 PM.     ...</td>\n",
       "    </tr>\n",
       "    <tr>\n",
       "      <th>4</th>\n",
       "      <td>17073</td>\n",
       "      <td>2020-05-09T17:44:00.000</td>\n",
       "      <td>Road Closure</td>\n",
       "      <td>Traffic Delays- Van Wyck Expressway at Belt Pa...</td>\n",
       "      <td>Notification issued 05-09-2020 at 5:44 PM.    ...</td>\n",
       "    </tr>\n",
       "    <tr>\n",
       "      <th>5</th>\n",
       "      <td>17072</td>\n",
       "      <td>2020-05-09T15:34:00.000</td>\n",
       "      <td>Utility</td>\n",
       "      <td>Power Outage - Whitestone (QN)</td>\n",
       "      <td>Notification issued 05-09-2020 at 3:34 PM. Con...</td>\n",
       "    </tr>\n",
       "    <tr>\n",
       "      <th>6</th>\n",
       "      <td>17071</td>\n",
       "      <td>2020-05-09T08:15:00.000</td>\n",
       "      <td>Weather</td>\n",
       "      <td>Intermittent Wind Gusts - 5/9 (CW)</td>\n",
       "      <td>Notification issued 05-09-2020 at 8:15 AM.    ...</td>\n",
       "    </tr>\n",
       "    <tr>\n",
       "      <th>7</th>\n",
       "      <td>17070</td>\n",
       "      <td>2020-05-09T08:00:00.000</td>\n",
       "      <td>Environmental</td>\n",
       "      <td>Waterbody Advisory 5/9</td>\n",
       "      <td>The following Waterbody Advisories are reporte...</td>\n",
       "    </tr>\n",
       "    <tr>\n",
       "      <th>8</th>\n",
       "      <td>17069</td>\n",
       "      <td>2020-05-09T01:37:00.000</td>\n",
       "      <td>Weather</td>\n",
       "      <td>Special Weather Statement - 5/9 (CW)</td>\n",
       "      <td>NaN</td>\n",
       "    </tr>\n",
       "    <tr>\n",
       "      <th>9</th>\n",
       "      <td>17068</td>\n",
       "      <td>2020-05-08T21:34:00.000</td>\n",
       "      <td>Road Closure</td>\n",
       "      <td>Traffic Delays - CBE at Jerome Ave (BX)</td>\n",
       "      <td>Notification issued 05-08-2020 at 9:34 PM.    ...</td>\n",
       "    </tr>\n",
       "  </tbody>\n",
       "</table>\n",
       "</div>"
      ],
      "text/plain": [
       "  record_id            date_and_time          notificationtype  \\\n",
       "0     17077  2020-05-10T13:27:00.000              Road Closure   \n",
       "1     17076  2020-05-10T09:43:00.000          Public Awareness   \n",
       "2     17075  2020-05-09T23:10:00.000  Mass Transit Restoration   \n",
       "3     17074  2020-05-09T22:58:00.000   Mass Transit Disruption   \n",
       "4     17073  2020-05-09T17:44:00.000              Road Closure   \n",
       "5     17072  2020-05-09T15:34:00.000                   Utility   \n",
       "6     17071  2020-05-09T08:15:00.000                   Weather   \n",
       "7     17070  2020-05-09T08:00:00.000             Environmental   \n",
       "8     17069  2020-05-09T01:37:00.000                   Weather   \n",
       "9     17068  2020-05-08T21:34:00.000              Road Closure   \n",
       "\n",
       "                                  notification_title  \\\n",
       "0           Traffic Delays- BQE at Cadman Plaza (BK)   \n",
       "1                               Police Activity (BK)   \n",
       "2                     MTA Restoration - 2 Train (BK)   \n",
       "3                      MTA Suspension - 2 Train (BK)   \n",
       "4  Traffic Delays- Van Wyck Expressway at Belt Pa...   \n",
       "5                     Power Outage - Whitestone (QN)   \n",
       "6                 Intermittent Wind Gusts - 5/9 (CW)   \n",
       "7                             Waterbody Advisory 5/9   \n",
       "8               Special Weather Statement - 5/9 (CW)   \n",
       "9            Traffic Delays - CBE at Jerome Ave (BX)   \n",
       "\n",
       "                                          email_body  \n",
       "0  Notification issued 05-10-2020 at 1:27 PM.    ...  \n",
       "1  Notification issued 05-10-2020 at 9:43 AM.    ...  \n",
       "2  Notification issued 5-9-2020 at 11:10 PM.    F...  \n",
       "3  Notification issued 5-9-2020 at 10:58 PM.     ...  \n",
       "4  Notification issued 05-09-2020 at 5:44 PM.    ...  \n",
       "5  Notification issued 05-09-2020 at 3:34 PM. Con...  \n",
       "6  Notification issued 05-09-2020 at 8:15 AM.    ...  \n",
       "7  The following Waterbody Advisories are reporte...  \n",
       "8                                                NaN  \n",
       "9  Notification issued 05-08-2020 at 9:34 PM.    ...  "
      ]
     },
     "execution_count": 5,
     "metadata": {},
     "output_type": "execute_result"
    }
   ],
   "source": [
    "results_df = fetch_nycOpenData(nyc_publicHealthNoti, 100, 20000)\n",
    "results_df.head(10)"
   ]
  },
  {
   "cell_type": "code",
   "execution_count": 35,
   "metadata": {},
   "outputs": [],
   "source": [
    "df = pandas_to_spark(results_df)"
   ]
  },
  {
   "cell_type": "code",
   "execution_count": 36,
   "metadata": {},
   "outputs": [
    {
     "name": "stdout",
     "output_type": "stream",
     "text": [
      "+----------+----------------+\n",
      "|month_name|publicHealthNoti|\n",
      "+----------+----------------+\n",
      "|   2019-06|               2|\n",
      "|   2019-07|               7|\n",
      "|   2019-08|               7|\n",
      "|   2019-09|               5|\n",
      "|   2019-12|              19|\n",
      "|   2020-03|              48|\n",
      "|   2020-04|              65|\n",
      "+----------+----------------+\n",
      "\n"
     ]
    }
   ],
   "source": [
    "from pyspark.sql.functions import to_timestamp\n",
    "from pyspark.sql.functions import month, year\n",
    "\n",
    "#select notification type with \"public health\"\n",
    "df = df.filter(df[\"notificationtype\"] == \"Public Health\")\n",
    "\n",
    "# group table by month.\n",
    "#filter date and time from 06/2019\n",
    "df = df.withColumn(\"date\", to_timestamp(\"date_and_time\", \"yyyy-MM-dd'T'HH:mm:ss.SSS\"))\n",
    "df = df.filter(df[\"date\"] >= to_timestamp(f.lit('2019-06-01 00:00:00')).cast('timestamp'))\n",
    "df = df.groupBy(month(\"date\").alias(\"month\")).count()\n",
    "df = df.filter(df[\"month\"] != 5)\n",
    "\n",
    "df = df.withColumn(\"month_name\", \n",
    "                                            f.when(f.col('month') == 1, \"2020-01\")\\\n",
    "                                            .when(f.col('month') == 2, \"2020-02\")\\\n",
    "                                            .when(f.col('month') == 3, \"2020-03\")\\\n",
    "                                            .when(f.col('month') == 4, \"2020-04\")\\\n",
    "                                            .when(f.col('month') == 6, \"2019-06\")\\\n",
    "                                            .when(f.col('month') == 7, \"2019-07\")\\\n",
    "                                            .when(f.col('month') == 8, \"2019-08\")\\\n",
    "                                            .when(f.col('month') == 9, \"2019-09\")\\\n",
    "                                            .when(f.col('month') == 10, \"2019-10\")\\\n",
    "                                            .when(f.col('month') == 11, \"2019-11\")\\\n",
    "                                            .when(f.col('month') == 12, \"2019-12\"))\n",
    "\n",
    "df = df.orderBy(\"month_name\")\n",
    "df = df.select(df[\"month_name\"], df[\"count\"].alias(\"publicHealthNoti\"))\n",
    "df.show()"
   ]
  },
  {
   "cell_type": "code",
   "execution_count": 37,
   "metadata": {},
   "outputs": [
    {
     "name": "stdout",
     "output_type": "stream",
     "text": [
      "+----------+----------------+\n",
      "|month_name|publicHealthNoti|\n",
      "+----------+----------------+\n",
      "|   2019-06|               2|\n",
      "|   2019-07|               7|\n",
      "|   2019-08|               7|\n",
      "|   2019-09|               5|\n",
      "|   2019-10|               0|\n",
      "|   2019-11|               0|\n",
      "|   2019-12|              19|\n",
      "|   2020-01|               0|\n",
      "|   2020-02|               0|\n",
      "|   2020-03|              48|\n",
      "|   2020-04|              65|\n",
      "+----------+----------------+\n",
      "\n"
     ]
    }
   ],
   "source": [
    "newRow = spark.createDataFrame([(\"2019-10\", 0), (\"2019-11\", 0), (\"2020-01\", 0), (\"2020-02\", 0)])\n",
    "df = df.union(newRow)\n",
    "df = df.orderBy(\"month_name\")\n",
    "df.show()"
   ]
  },
  {
   "cell_type": "markdown",
   "metadata": {},
   "source": [
    "### Calculate the average license applications before March 2020. "
   ]
  },
  {
   "cell_type": "code",
   "execution_count": 38,
   "metadata": {},
   "outputs": [
    {
     "name": "stdout",
     "output_type": "stream",
     "text": [
      "+----------+----------------+\n",
      "|month_name|publicHealthNoti|\n",
      "+----------+----------------+\n",
      "|   2019-06|               2|\n",
      "|   2019-07|               7|\n",
      "|   2019-08|               7|\n",
      "|   2019-09|               5|\n",
      "|   2019-10|               0|\n",
      "|   2019-11|               0|\n",
      "|   2019-12|              19|\n",
      "|   2020-01|               0|\n",
      "|   2020-02|               0|\n",
      "+----------+----------------+\n",
      "\n"
     ]
    }
   ],
   "source": [
    "avg_data = df.filter(df[\"month_name\"] != \"2020-03\")\n",
    "avg_data = avg_data.filter(df[\"month_name\"] != \"2020-04\")\n",
    "avg_data.show()"
   ]
  },
  {
   "cell_type": "code",
   "execution_count": 40,
   "metadata": {},
   "outputs": [
    {
     "name": "stdout",
     "output_type": "stream",
     "text": [
      "Average public health notifications before March 2020 is:  4.444444444444445\n"
     ]
    }
   ],
   "source": [
    "avg_data.createOrReplaceTempView(\"avg_data\")\n",
    "avg_num = spark.sql(\"SELECT avg(publicHealthNoti) as avg_num FROM avg_data\")\n",
    "avg_num = avg_num.rdd.map(list)\n",
    "avg_number = avg_num.take(1)[0][0]\n",
    "print(\"Average public health notifications before March 2020 is: \", avg_number)"
   ]
  },
  {
   "cell_type": "markdown",
   "metadata": {},
   "source": [
    "### Calculate the rising rate."
   ]
  },
  {
   "cell_type": "code",
   "execution_count": 42,
   "metadata": {},
   "outputs": [
    {
     "name": "stdout",
     "output_type": "stream",
     "text": [
      "Rising rate is:  13.625\n"
     ]
    }
   ],
   "source": [
    "df.createOrReplaceTempView(\"latest_data\")\n",
    "latest_number = spark.sql(\"SELECT publicHealthNoti FROM latest_data WHERE month_name = \\\n",
    "                                     (SELECT max(month_name) FROM  latest_data)\")\n",
    "\n",
    "latest_number = latest_number.rdd.map(list)\n",
    "latest_number = latest_number.take(1)[0][0]\n",
    "rising_rate = (latest_number - avg_number) / avg_number\n",
    "print(\"Rising rate is: \", rising_rate)\n",
    "\n",
    "rising_rate = rising_rate * 100"
   ]
  },
  {
   "cell_type": "code",
   "execution_count": 43,
   "metadata": {},
   "outputs": [],
   "source": [
    "rising_rate_str = \"↑\" + str('%.2f' % rising_rate) + \"%\""
   ]
  },
  {
   "cell_type": "code",
   "execution_count": 46,
   "metadata": {},
   "outputs": [
    {
     "data": {
      "text/html": [
       "<div>\n",
       "<style scoped>\n",
       "    .dataframe tbody tr th:only-of-type {\n",
       "        vertical-align: middle;\n",
       "    }\n",
       "\n",
       "    .dataframe tbody tr th {\n",
       "        vertical-align: top;\n",
       "    }\n",
       "\n",
       "    .dataframe thead th {\n",
       "        text-align: right;\n",
       "    }\n",
       "</style>\n",
       "<table border=\"1\" class=\"dataframe\">\n",
       "  <thead>\n",
       "    <tr style=\"text-align: right;\">\n",
       "      <th></th>\n",
       "      <th>month_name</th>\n",
       "      <th>publicHealthNoti</th>\n",
       "    </tr>\n",
       "  </thead>\n",
       "  <tbody>\n",
       "    <tr>\n",
       "      <th>0</th>\n",
       "      <td>2019-06</td>\n",
       "      <td>2</td>\n",
       "    </tr>\n",
       "    <tr>\n",
       "      <th>1</th>\n",
       "      <td>2019-07</td>\n",
       "      <td>7</td>\n",
       "    </tr>\n",
       "    <tr>\n",
       "      <th>2</th>\n",
       "      <td>2019-08</td>\n",
       "      <td>7</td>\n",
       "    </tr>\n",
       "    <tr>\n",
       "      <th>3</th>\n",
       "      <td>2019-09</td>\n",
       "      <td>5</td>\n",
       "    </tr>\n",
       "    <tr>\n",
       "      <th>4</th>\n",
       "      <td>2019-10</td>\n",
       "      <td>0</td>\n",
       "    </tr>\n",
       "    <tr>\n",
       "      <th>5</th>\n",
       "      <td>2019-11</td>\n",
       "      <td>0</td>\n",
       "    </tr>\n",
       "    <tr>\n",
       "      <th>6</th>\n",
       "      <td>2019-12</td>\n",
       "      <td>19</td>\n",
       "    </tr>\n",
       "    <tr>\n",
       "      <th>7</th>\n",
       "      <td>2020-01</td>\n",
       "      <td>0</td>\n",
       "    </tr>\n",
       "    <tr>\n",
       "      <th>8</th>\n",
       "      <td>2020-02</td>\n",
       "      <td>0</td>\n",
       "    </tr>\n",
       "    <tr>\n",
       "      <th>9</th>\n",
       "      <td>2020-03</td>\n",
       "      <td>48</td>\n",
       "    </tr>\n",
       "    <tr>\n",
       "      <th>10</th>\n",
       "      <td>2020-04</td>\n",
       "      <td>65</td>\n",
       "    </tr>\n",
       "  </tbody>\n",
       "</table>\n",
       "</div>"
      ],
      "text/plain": [
       "   month_name  publicHealthNoti\n",
       "0     2019-06                 2\n",
       "1     2019-07                 7\n",
       "2     2019-08                 7\n",
       "3     2019-09                 5\n",
       "4     2019-10                 0\n",
       "5     2019-11                 0\n",
       "6     2019-12                19\n",
       "7     2020-01                 0\n",
       "8     2020-02                 0\n",
       "9     2020-03                48\n",
       "10    2020-04                65"
      ]
     },
     "execution_count": 46,
     "metadata": {},
     "output_type": "execute_result"
    }
   ],
   "source": [
    "import matplotlib.pyplot as plt\n",
    "plt.close('all')\n",
    "\n",
    "data = df.toPandas()\n",
    "data.head(11)"
   ]
  },
  {
   "cell_type": "markdown",
   "metadata": {},
   "source": [
    "### Plot."
   ]
  },
  {
   "cell_type": "code",
   "execution_count": 47,
   "metadata": {},
   "outputs": [
    {
     "data": {
      "image/png": "[encoded data removed]",
      "text/plain": [
       "<Figure size 432x288 with 1 Axes>"
      ]
     },
     "metadata": {
      "needs_background": "light"
     },
     "output_type": "display_data"
    }
   ],
   "source": [
    "#public health notification\n",
    "plt.plot(\"month_name\", \"publicHealthNoti\", data = data, color = \"red\")\n",
    "\n",
    "#average job applications before March 2020\n",
    "plt.axhline(y = avg_number,ls = \"dashed\",color = \"grey\") \n",
    "\n",
    "#title\n",
    "plt.title(\"COVID-19 Impact on Public Health Notification\",fontsize = 15)\n",
    "\n",
    "#annotaion: rising rate\n",
    "bbox_props = dict(boxstyle=\"round\", facecolor = \"white\")\n",
    "plt.text(0, 60, rising_rate_str, size = 15, color = \"red\", bbox=bbox_props)\n",
    "\n",
    "plt.xticks(rotation=25)\n",
    "plt.show()"
   ]
  },
  {
   "cell_type": "code",
   "execution_count": null,
   "metadata": {},
   "outputs": [],
   "source": []
  }
 ],
 "metadata": {
  "kernelspec": {
   "display_name": "Python 3",
   "language": "python",
   "name": "python3"
  },
  "language_info": {
   "codemirror_mode": {
    "name": "ipython",
    "version": 3
   },
   "file_extension": ".py",
   "mimetype": "text/x-python",
   "name": "python",
   "nbconvert_exporter": "python",
   "pygments_lexer": "ipython3",
   "version": "3.7.6"
  }
 },
 "nbformat": 4,
 "nbformat_minor": 4
}
