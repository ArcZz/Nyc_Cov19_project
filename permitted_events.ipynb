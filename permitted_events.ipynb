{
 "cells": [
  {
   "cell_type": "code",
   "execution_count": 1,
   "metadata": {},
   "outputs": [],
   "source": [
    "import findspark\n",
    "findspark.init(\"/Users/jennyzhou/Downloads/spark-2.4.5-bin-hadoop2.7\")\n",
    "# NYC Permitted Event Information 5.94M rows\n",
    "plannedevent = \"https://data.cityofnewyork.us/resource/bkfu-528j.csv\""
   ]
  },
  {
   "cell_type": "markdown",
   "metadata": {},
   "source": [
    "Permitted Events Data"
   ]
  },
  {
   "cell_type": "code",
   "execution_count": 2,
   "metadata": {
    "scrolled": true
   },
   "outputs": [],
   "source": [
    "%run data.py"
   ]
  },
  {
   "cell_type": "code",
   "execution_count": 3,
   "metadata": {},
   "outputs": [],
   "source": [
    "events = fetchData(event)"
   ]
  },
  {
   "cell_type": "code",
   "execution_count": 4,
   "metadata": {
    "scrolled": true
   },
   "outputs": [
    {
     "data": {
      "text/plain": [
       "pandas.core.frame.DataFrame"
      ]
     },
     "execution_count": 4,
     "metadata": {},
     "output_type": "execute_result"
    }
   ],
   "source": [
    "type(events)"
   ]
  },
  {
   "cell_type": "code",
   "execution_count": 5,
   "metadata": {
    "scrolled": true
   },
   "outputs": [
    {
     "data": {
      "text/html": [
       "<div>\n",
       "<style scoped>\n",
       "    .dataframe tbody tr th:only-of-type {\n",
       "        vertical-align: middle;\n",
       "    }\n",
       "\n",
       "    .dataframe tbody tr th {\n",
       "        vertical-align: top;\n",
       "    }\n",
       "\n",
       "    .dataframe thead th {\n",
       "        text-align: right;\n",
       "    }\n",
       "</style>\n",
       "<table border=\"1\" class=\"dataframe\">\n",
       "  <thead>\n",
       "    <tr style=\"text-align: right;\">\n",
       "      <th></th>\n",
       "      <th>event_id</th>\n",
       "      <th>event_name</th>\n",
       "      <th>start_date_time</th>\n",
       "      <th>end_date_time</th>\n",
       "      <th>event_agency</th>\n",
       "      <th>event_type</th>\n",
       "      <th>event_borough</th>\n",
       "      <th>event_location</th>\n",
       "      <th>event_street_side</th>\n",
       "      <th>street_closure_type</th>\n",
       "      <th>community_board</th>\n",
       "      <th>police_precinct</th>\n",
       "    </tr>\n",
       "  </thead>\n",
       "  <tbody>\n",
       "    <tr>\n",
       "      <td>0</td>\n",
       "      <td>81202</td>\n",
       "      <td>Rally</td>\n",
       "      <td>2013-08-03T12:00:00.000</td>\n",
       "      <td>2013-08-03T19:30:00.000</td>\n",
       "      <td>Parks Department</td>\n",
       "      <td>Special Event</td>\n",
       "      <td>Manhattan</td>\n",
       "      <td>Tompkins Square Park: Old Bandshell</td>\n",
       "      <td>NaN</td>\n",
       "      <td>NaN</td>\n",
       "      <td>3,</td>\n",
       "      <td>9,</td>\n",
       "    </tr>\n",
       "    <tr>\n",
       "      <td>1</td>\n",
       "      <td>368421</td>\n",
       "      <td>Big Apple Circus</td>\n",
       "      <td>2017-11-18T19:00:00.000</td>\n",
       "      <td>2017-11-18T20:00:00.000</td>\n",
       "      <td>Parks Department</td>\n",
       "      <td>Special Event</td>\n",
       "      <td>Manhattan</td>\n",
       "      <td>Damrosch Park: Damrosch Park ,Damrosch Park: T...</td>\n",
       "      <td>NaN</td>\n",
       "      <td>NaN</td>\n",
       "      <td>7,</td>\n",
       "      <td>20,</td>\n",
       "    </tr>\n",
       "  </tbody>\n",
       "</table>\n",
       "</div>"
      ],
      "text/plain": [
       "   event_id        event_name          start_date_time  \\\n",
       "0     81202             Rally  2013-08-03T12:00:00.000   \n",
       "1    368421  Big Apple Circus  2017-11-18T19:00:00.000   \n",
       "\n",
       "             end_date_time      event_agency     event_type event_borough  \\\n",
       "0  2013-08-03T19:30:00.000  Parks Department  Special Event     Manhattan   \n",
       "1  2017-11-18T20:00:00.000  Parks Department  Special Event     Manhattan   \n",
       "\n",
       "                                      event_location event_street_side  \\\n",
       "0               Tompkins Square Park: Old Bandshell                NaN   \n",
       "1  Damrosch Park: Damrosch Park ,Damrosch Park: T...               NaN   \n",
       "\n",
       "  street_closure_type community_board police_precinct  \n",
       "0                 NaN             3,              9,   \n",
       "1                 NaN             7,             20,   "
      ]
     },
     "execution_count": 5,
     "metadata": {},
     "output_type": "execute_result"
    }
   ],
   "source": [
    "events.head(2)"
   ]
  },
  {
   "cell_type": "code",
   "execution_count": 66,
   "metadata": {},
   "outputs": [],
   "source": [
    "#get 2020 data out\n",
    "planned_event = \"https://data.cityofnewyork.us/resource/bkfu-528j.csv?$select=event_id,event_name,start_date_time,end_date_time,event_type,event_borough&$where=start_date_time>'2020-01-01T00:00:00.000'&$limit=5000000\""
   ]
  },
  {
   "cell_type": "code",
   "execution_count": 67,
   "metadata": {
    "scrolled": true
   },
   "outputs": [],
   "source": [
    "planned = pd.read_csv(planned_event)"
   ]
  },
  {
   "cell_type": "code",
   "execution_count": 68,
   "metadata": {},
   "outputs": [
    {
     "data": {
      "text/plain": [
       "event_id           1524105\n",
       "event_name         1524105\n",
       "start_date_time    1524105\n",
       "end_date_time      1524105\n",
       "event_type         1524105\n",
       "event_borough      1524105\n",
       "dtype: int64"
      ]
     },
     "execution_count": 68,
     "metadata": {},
     "output_type": "execute_result"
    }
   ],
   "source": [
    "planned.count()"
   ]
  },
  {
   "cell_type": "code",
   "execution_count": 69,
   "metadata": {
    "scrolled": false
   },
   "outputs": [
    {
     "data": {
      "text/html": [
       "<div>\n",
       "<style scoped>\n",
       "    .dataframe tbody tr th:only-of-type {\n",
       "        vertical-align: middle;\n",
       "    }\n",
       "\n",
       "    .dataframe tbody tr th {\n",
       "        vertical-align: top;\n",
       "    }\n",
       "\n",
       "    .dataframe thead th {\n",
       "        text-align: right;\n",
       "    }\n",
       "</style>\n",
       "<table border=\"1\" class=\"dataframe\">\n",
       "  <thead>\n",
       "    <tr style=\"text-align: right;\">\n",
       "      <th></th>\n",
       "      <th>event_id</th>\n",
       "      <th>event_name</th>\n",
       "      <th>start_date_time</th>\n",
       "      <th>end_date_time</th>\n",
       "      <th>event_type</th>\n",
       "      <th>event_borough</th>\n",
       "    </tr>\n",
       "  </thead>\n",
       "  <tbody>\n",
       "    <tr>\n",
       "      <td>0</td>\n",
       "      <td>516637</td>\n",
       "      <td>Lawn Maintenance- Veteran's Lawn</td>\n",
       "      <td>2020-01-01T00:01:00.000</td>\n",
       "      <td>2020-01-01T23:59:00.000</td>\n",
       "      <td>Special Event</td>\n",
       "      <td>Manhattan</td>\n",
       "    </tr>\n",
       "    <tr>\n",
       "      <td>1</td>\n",
       "      <td>516638</td>\n",
       "      <td>Lawn Maintenance</td>\n",
       "      <td>2020-01-01T00:01:00.000</td>\n",
       "      <td>2020-01-01T23:59:00.000</td>\n",
       "      <td>Special Event</td>\n",
       "      <td>Manhattan</td>\n",
       "    </tr>\n",
       "  </tbody>\n",
       "</table>\n",
       "</div>"
      ],
      "text/plain": [
       "   event_id                        event_name          start_date_time  \\\n",
       "0    516637  Lawn Maintenance- Veteran's Lawn  2020-01-01T00:01:00.000   \n",
       "1    516638                  Lawn Maintenance  2020-01-01T00:01:00.000   \n",
       "\n",
       "             end_date_time     event_type event_borough  \n",
       "0  2020-01-01T23:59:00.000  Special Event     Manhattan  \n",
       "1  2020-01-01T23:59:00.000  Special Event     Manhattan  "
      ]
     },
     "execution_count": 69,
     "metadata": {},
     "output_type": "execute_result"
    }
   ],
   "source": [
    "planned.head(2)"
   ]
  },
  {
   "cell_type": "code",
   "execution_count": 70,
   "metadata": {
    "scrolled": true
   },
   "outputs": [
    {
     "data": {
      "text/plain": [
       "event_id            int64\n",
       "event_name         object\n",
       "start_date_time    object\n",
       "end_date_time      object\n",
       "event_type         object\n",
       "event_borough      object\n",
       "dtype: object"
      ]
     },
     "execution_count": 70,
     "metadata": {},
     "output_type": "execute_result"
    }
   ],
   "source": [
    "planned.dtypes"
   ]
  },
  {
   "cell_type": "code",
   "execution_count": 84,
   "metadata": {},
   "outputs": [],
   "source": [
    "#convert data type\n",
    "#plannedpd = planned.astype({\"start_date_time\":'datetime64[ns]',\"end_date_time\":'datetime64[ns]', \"event_name\":str, \"event_type\":str, \"event_borough\":str})"
   ]
  },
  {
   "cell_type": "code",
   "execution_count": 88,
   "metadata": {},
   "outputs": [
    {
     "data": {
      "text/plain": [
       "event_id                    int64\n",
       "event_name                 object\n",
       "start_date_time    datetime64[ns]\n",
       "end_date_time      datetime64[ns]\n",
       "event_type                 object\n",
       "event_borough              object\n",
       "dtype: object"
      ]
     },
     "execution_count": 88,
     "metadata": {},
     "output_type": "execute_result"
    }
   ],
   "source": [
    "#plannedpd.dtypes"
   ]
  },
  {
   "cell_type": "code",
   "execution_count": 64,
   "metadata": {},
   "outputs": [],
   "source": [
    "#get 2020 data out\n",
    "#updated_event = \"https://data.cityofnewyork.us/resource/tvpp-9vvx.csv?$select=event_id,event_name,start_date_time,end_date_time,event_type,event_borough&$where=start_date_time>'2020-01-01T00:00:00.000'&$limit=5000000\""
   ]
  },
  {
   "cell_type": "code",
   "execution_count": 72,
   "metadata": {},
   "outputs": [],
   "source": [
    "updated = pd.read_csv(updated_event)"
   ]
  },
  {
   "cell_type": "code",
   "execution_count": 73,
   "metadata": {
    "scrolled": true
   },
   "outputs": [
    {
     "data": {
      "text/plain": [
       "event_id           19494\n",
       "event_name         19494\n",
       "start_date_time    19494\n",
       "end_date_time      19494\n",
       "event_type         19494\n",
       "event_borough      19494\n",
       "dtype: int64"
      ]
     },
     "execution_count": 73,
     "metadata": {},
     "output_type": "execute_result"
    }
   ],
   "source": [
    "updated.count()"
   ]
  },
  {
   "cell_type": "code",
   "execution_count": 94,
   "metadata": {},
   "outputs": [],
   "source": [
    "planneddf = pandas_to_spark(planned)"
   ]
  },
  {
   "cell_type": "code",
   "execution_count": 95,
   "metadata": {},
   "outputs": [
    {
     "name": "stdout",
     "output_type": "stream",
     "text": [
      "root\n",
      " |-- event_id: string (nullable = true)\n",
      " |-- event_name: string (nullable = true)\n",
      " |-- start_date_time: string (nullable = true)\n",
      " |-- end_date_time: string (nullable = true)\n",
      " |-- event_type: string (nullable = true)\n",
      " |-- event_borough: string (nullable = true)\n",
      "\n"
     ]
    }
   ],
   "source": [
    "planneddf.printSchema()"
   ]
  },
  {
   "cell_type": "code",
   "execution_count": 96,
   "metadata": {},
   "outputs": [
    {
     "name": "stdout",
     "output_type": "stream",
     "text": [
      "+--------+--------------------+--------------------+--------------------+-------------+-------------+\n",
      "|event_id|          event_name|     start_date_time|       end_date_time|   event_type|event_borough|\n",
      "+--------+--------------------+--------------------+--------------------+-------------+-------------+\n",
      "|  516637|Lawn Maintenance-...|2020-01-01T00:01:...|2020-01-01T23:59:...|Special Event|    Manhattan|\n",
      "|  516638|    Lawn Maintenance|2020-01-01T00:01:...|2020-01-01T23:59:...|Special Event|    Manhattan|\n",
      "+--------+--------------------+--------------------+--------------------+-------------+-------------+\n",
      "only showing top 2 rows\n",
      "\n"
     ]
    }
   ],
   "source": [
    "planneddf.show(2)"
   ]
  },
  {
   "cell_type": "code",
   "execution_count": 97,
   "metadata": {},
   "outputs": [],
   "source": [
    "from pyspark.sql.functions import to_timestamp\n",
    "from pyspark.sql.functions import month, year\n",
    "planneddf = planneddf.withColumn(\"date\", to_timestamp(\"start_date_time\", \"yyyy-MM-dd'T'HH:mm:ss.SSS\"))"
   ]
  },
  {
   "cell_type": "code",
   "execution_count": 98,
   "metadata": {},
   "outputs": [
    {
     "name": "stdout",
     "output_type": "stream",
     "text": [
      "+--------+--------------------+--------------------+--------------------+-------------+-------------+-------------------+\n",
      "|event_id|          event_name|     start_date_time|       end_date_time|   event_type|event_borough|               date|\n",
      "+--------+--------------------+--------------------+--------------------+-------------+-------------+-------------------+\n",
      "|  516637|Lawn Maintenance-...|2020-01-01T00:01:...|2020-01-01T23:59:...|Special Event|    Manhattan|2020-01-01 00:01:00|\n",
      "|  516638|    Lawn Maintenance|2020-01-01T00:01:...|2020-01-01T23:59:...|Special Event|    Manhattan|2020-01-01 00:01:00|\n",
      "|  516639|Lawn Maintenance-...|2020-01-01T00:01:...|2020-01-01T23:59:...|Special Event|    Manhattan|2020-01-01 00:01:00|\n",
      "+--------+--------------------+--------------------+--------------------+-------------+-------------+-------------------+\n",
      "only showing top 3 rows\n",
      "\n"
     ]
    }
   ],
   "source": [
    "planneddf.show(3)"
   ]
  },
  {
   "cell_type": "code",
   "execution_count": 99,
   "metadata": {
    "scrolled": true
   },
   "outputs": [
    {
     "name": "stdout",
     "output_type": "stream",
     "text": [
      "+--------+-----------+--------------------+--------------------+-------------+-------------+-------------------+\n",
      "|event_id| event_name|     start_date_time|       end_date_time|   event_type|event_borough|               date|\n",
      "+--------+-----------+--------------------+--------------------+-------------+-------------+-------------------+\n",
      "|  532647|Celebration|2020-12-30T13:00:...|2020-12-30T14:00:...|Special Event|    Manhattan|2020-12-30 13:00:00|\n",
      "|  532647|Celebration|2020-12-30T13:00:...|2020-12-30T14:00:...|Special Event|    Manhattan|2020-12-30 13:00:00|\n",
      "|  532647|Celebration|2020-12-30T13:00:...|2020-12-30T14:00:...|Special Event|    Manhattan|2020-12-30 13:00:00|\n",
      "|  532647|Celebration|2020-12-30T13:00:...|2020-12-30T14:00:...|Special Event|    Manhattan|2020-12-30 13:00:00|\n",
      "|  532647|Celebration|2020-12-30T13:00:...|2020-12-30T14:00:...|Special Event|    Manhattan|2020-12-30 13:00:00|\n",
      "|  532647|Celebration|2020-12-30T13:00:...|2020-12-30T14:00:...|Special Event|    Manhattan|2020-12-30 13:00:00|\n",
      "|  532647|Celebration|2020-12-30T13:00:...|2020-12-30T14:00:...|Special Event|    Manhattan|2020-12-30 13:00:00|\n",
      "|  532647|Celebration|2020-12-30T13:00:...|2020-12-30T14:00:...|Special Event|    Manhattan|2020-12-30 13:00:00|\n",
      "|  532647|Celebration|2020-12-30T13:00:...|2020-12-30T14:00:...|Special Event|    Manhattan|2020-12-30 13:00:00|\n",
      "|  532647|Celebration|2020-12-30T13:00:...|2020-12-30T14:00:...|Special Event|    Manhattan|2020-12-30 13:00:00|\n",
      "+--------+-----------+--------------------+--------------------+-------------+-------------+-------------------+\n",
      "only showing top 10 rows\n",
      "\n"
     ]
    }
   ],
   "source": [
    "planneddf.orderBy(planneddf.date.desc()).show(10)"
   ]
  },
  {
   "cell_type": "code",
   "execution_count": null,
   "metadata": {},
   "outputs": [],
   "source": []
  },
  {
   "cell_type": "code",
   "execution_count": null,
   "metadata": {},
   "outputs": [],
   "source": []
  },
  {
   "cell_type": "code",
   "execution_count": null,
   "metadata": {},
   "outputs": [],
   "source": []
  },
  {
   "cell_type": "code",
   "execution_count": 100,
   "metadata": {},
   "outputs": [],
   "source": [
    "planneddf.createOrReplaceTempView(\"plannedT\")"
   ]
  },
  {
   "cell_type": "code",
   "execution_count": 101,
   "metadata": {},
   "outputs": [],
   "source": [
    "planned = spark.sql(\"\"\"\n",
    "SELECT DATE(date) AS event_date,\n",
    "    COUNT(*) AS num_of_events\n",
    "FROM plannedT\n",
    "GROUP BY event_date\n",
    "ORDER BY event_date DESC\n",
    "\"\"\")"
   ]
  },
  {
   "cell_type": "code",
   "execution_count": 102,
   "metadata": {
    "scrolled": false
   },
   "outputs": [
    {
     "name": "stdout",
     "output_type": "stream",
     "text": [
      "+----------+-------------+\n",
      "|event_date|num_of_events|\n",
      "+----------+-------------+\n",
      "|2020-12-30|           72|\n",
      "|2020-12-29|           64|\n",
      "|2020-12-27|           93|\n",
      "+----------+-------------+\n",
      "only showing top 3 rows\n",
      "\n"
     ]
    }
   ],
   "source": [
    "planned.show(3)"
   ]
  },
  {
   "cell_type": "code",
   "execution_count": 103,
   "metadata": {
    "scrolled": false
   },
   "outputs": [],
   "source": [
    "planned_pd = planned.toPandas()"
   ]
  },
  {
   "cell_type": "code",
   "execution_count": 106,
   "metadata": {
    "scrolled": false
   },
   "outputs": [
    {
     "data": {
      "text/plain": [
       "<matplotlib.legend.Legend at 0x114c83510>"
      ]
     },
     "execution_count": 106,
     "metadata": {},
     "output_type": "execute_result"
    },
    {
     "data": {
      "image/png": "[encoded data removed]",
      "text/plain": [
       "<Figure size 432x288 with 1 Axes>"
      ]
     },
     "metadata": {
      "needs_background": "light"
     },
     "output_type": "display_data"
    }
   ],
   "source": [
    "import matplotlib.pyplot as plt\n",
    "from pandas.plotting import register_matplotlib_converters\n",
    "register_matplotlib_converters()\n",
    "\n",
    "plt.plot('event_date','num_of_events', data=planned_pd, marker='', color='blue', linewidth=1)\n",
    "plt.legend()"
   ]
  },
  {
   "cell_type": "code",
   "execution_count": null,
   "metadata": {},
   "outputs": [],
   "source": []
  }
 ],
 "metadata": {
  "kernelspec": {
   "display_name": "Python 3",
   "language": "python",
   "name": "python3"
  },
  "language_info": {
   "codemirror_mode": {
    "name": "ipython",
    "version": 3
   },
   "file_extension": ".py",
   "mimetype": "text/x-python",
   "name": "python",
   "nbconvert_exporter": "python",
   "pygments_lexer": "ipython3",
   "version": "3.7.4"
  }
 },
 "nbformat": 4,
 "nbformat_minor": 4
}
