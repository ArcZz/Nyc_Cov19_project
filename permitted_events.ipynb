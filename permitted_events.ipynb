{
 "cells": [
  {
   "cell_type": "code",
   "execution_count": 4,
   "metadata": {},
   "outputs": [],
   "source": [
    "from pyspark.sql.functions import to_timestamp\n",
    "from pyspark.sql.functions import month, year\n",
    "%run data.py"
   ]
  },
  {
   "cell_type": "markdown",
   "metadata": {},
   "source": [
    "# Permitted Events Data (2020 Original vs. Updated)"
   ]
  },
  {
   "cell_type": "markdown",
   "metadata": {},
   "source": [
    "### 2020 Originally Planned Evenets\n",
    "#### NYC Open Data: Permitted Event Information-Original"
   ]
  },
  {
   "cell_type": "code",
   "execution_count": 5,
   "metadata": {},
   "outputs": [
    {
     "data": {
      "text/plain": [
       "event_id           1543598\n",
       "event_name         1543598\n",
       "start_date_time    1543598\n",
       "end_date_time      1543598\n",
       "event_type         1543598\n",
       "event_borough      1543598\n",
       "dtype: int64"
      ]
     },
     "execution_count": 5,
     "metadata": {},
     "output_type": "execute_result"
    }
   ],
   "source": [
    "planned_event = \"https://data.cityofnewyork.us/resource/bkfu-528j.csv?$select=event_id,event_name,start_date_time,end_date_time,event_type,event_borough&$where=start_date_time>'2020-01-01T00:00:00.000'&$limit=5000000\"\n",
    "planned = pd.read_csv(planned_event)\n",
    "planned.count()"
   ]
  },
  {
   "cell_type": "code",
   "execution_count": 6,
   "metadata": {
    "scrolled": false
   },
   "outputs": [
    {
     "data": {
      "text/html": [
       "<div>\n",
       "<style scoped>\n",
       "    .dataframe tbody tr th:only-of-type {\n",
       "        vertical-align: middle;\n",
       "    }\n",
       "\n",
       "    .dataframe tbody tr th {\n",
       "        vertical-align: top;\n",
       "    }\n",
       "\n",
       "    .dataframe thead th {\n",
       "        text-align: right;\n",
       "    }\n",
       "</style>\n",
       "<table border=\"1\" class=\"dataframe\">\n",
       "  <thead>\n",
       "    <tr style=\"text-align: right;\">\n",
       "      <th></th>\n",
       "      <th>event_id</th>\n",
       "      <th>event_name</th>\n",
       "      <th>start_date_time</th>\n",
       "      <th>end_date_time</th>\n",
       "      <th>event_type</th>\n",
       "      <th>event_borough</th>\n",
       "    </tr>\n",
       "  </thead>\n",
       "  <tbody>\n",
       "    <tr>\n",
       "      <td>0</td>\n",
       "      <td>516637</td>\n",
       "      <td>Lawn Maintenance- Veteran's Lawn</td>\n",
       "      <td>2020-01-01T00:01:00.000</td>\n",
       "      <td>2020-01-01T23:59:00.000</td>\n",
       "      <td>Special Event</td>\n",
       "      <td>Manhattan</td>\n",
       "    </tr>\n",
       "    <tr>\n",
       "      <td>1</td>\n",
       "      <td>516638</td>\n",
       "      <td>Lawn Maintenance</td>\n",
       "      <td>2020-01-01T00:01:00.000</td>\n",
       "      <td>2020-01-01T23:59:00.000</td>\n",
       "      <td>Special Event</td>\n",
       "      <td>Manhattan</td>\n",
       "    </tr>\n",
       "    <tr>\n",
       "      <td>2</td>\n",
       "      <td>516639</td>\n",
       "      <td>Lawn Maintenance- Redbud Lawn</td>\n",
       "      <td>2020-01-01T00:01:00.000</td>\n",
       "      <td>2020-01-01T23:59:00.000</td>\n",
       "      <td>Special Event</td>\n",
       "      <td>Manhattan</td>\n",
       "    </tr>\n",
       "    <tr>\n",
       "      <td>3</td>\n",
       "      <td>516641</td>\n",
       "      <td>Lawn Maintenance- Cherry Lawn</td>\n",
       "      <td>2020-01-01T00:01:00.000</td>\n",
       "      <td>2020-01-01T23:59:00.000</td>\n",
       "      <td>Special Event</td>\n",
       "      <td>Manhattan</td>\n",
       "    </tr>\n",
       "    <tr>\n",
       "      <td>4</td>\n",
       "      <td>516642</td>\n",
       "      <td>Lawn Maintenance- Farragut Lawn</td>\n",
       "      <td>2020-01-01T00:01:00.000</td>\n",
       "      <td>2020-01-01T23:59:00.000</td>\n",
       "      <td>Special Event</td>\n",
       "      <td>Manhattan</td>\n",
       "    </tr>\n",
       "    <tr>\n",
       "      <td>5</td>\n",
       "      <td>516643</td>\n",
       "      <td>Lawn Maintenance- Farragut Lawn</td>\n",
       "      <td>2020-01-01T00:01:00.000</td>\n",
       "      <td>2020-01-01T23:59:00.000</td>\n",
       "      <td>Special Event</td>\n",
       "      <td>Manhattan</td>\n",
       "    </tr>\n",
       "    <tr>\n",
       "      <td>6</td>\n",
       "      <td>516645</td>\n",
       "      <td>Lawn Maintenance- Sparrow Lawn</td>\n",
       "      <td>2020-01-01T00:01:00.000</td>\n",
       "      <td>2020-01-01T23:59:00.000</td>\n",
       "      <td>Special Event</td>\n",
       "      <td>Manhattan</td>\n",
       "    </tr>\n",
       "    <tr>\n",
       "      <td>7</td>\n",
       "      <td>516646</td>\n",
       "      <td>Lawn Maintenance-So Lewitt</td>\n",
       "      <td>2020-01-01T00:01:00.000</td>\n",
       "      <td>2020-01-01T23:59:00.000</td>\n",
       "      <td>Special Event</td>\n",
       "      <td>Manhattan</td>\n",
       "    </tr>\n",
       "    <tr>\n",
       "      <td>8</td>\n",
       "      <td>516647</td>\n",
       "      <td>Lawn Maintenance-Elm Lawn</td>\n",
       "      <td>2020-01-01T00:01:00.000</td>\n",
       "      <td>2020-01-01T23:59:00.000</td>\n",
       "      <td>Special Event</td>\n",
       "      <td>Manhattan</td>\n",
       "    </tr>\n",
       "    <tr>\n",
       "      <td>9</td>\n",
       "      <td>516648</td>\n",
       "      <td>Lawn Maintenance- Magnolia Lawn</td>\n",
       "      <td>2020-01-01T00:01:00.000</td>\n",
       "      <td>2020-01-01T23:59:00.000</td>\n",
       "      <td>Special Event</td>\n",
       "      <td>Manhattan</td>\n",
       "    </tr>\n",
       "  </tbody>\n",
       "</table>\n",
       "</div>"
      ],
      "text/plain": [
       "   event_id                        event_name          start_date_time  \\\n",
       "0    516637  Lawn Maintenance- Veteran's Lawn  2020-01-01T00:01:00.000   \n",
       "1    516638                  Lawn Maintenance  2020-01-01T00:01:00.000   \n",
       "2    516639     Lawn Maintenance- Redbud Lawn  2020-01-01T00:01:00.000   \n",
       "3    516641     Lawn Maintenance- Cherry Lawn  2020-01-01T00:01:00.000   \n",
       "4    516642   Lawn Maintenance- Farragut Lawn  2020-01-01T00:01:00.000   \n",
       "5    516643   Lawn Maintenance- Farragut Lawn  2020-01-01T00:01:00.000   \n",
       "6    516645    Lawn Maintenance- Sparrow Lawn  2020-01-01T00:01:00.000   \n",
       "7    516646        Lawn Maintenance-So Lewitt  2020-01-01T00:01:00.000   \n",
       "8    516647         Lawn Maintenance-Elm Lawn  2020-01-01T00:01:00.000   \n",
       "9    516648   Lawn Maintenance- Magnolia Lawn  2020-01-01T00:01:00.000   \n",
       "\n",
       "             end_date_time     event_type event_borough  \n",
       "0  2020-01-01T23:59:00.000  Special Event     Manhattan  \n",
       "1  2020-01-01T23:59:00.000  Special Event     Manhattan  \n",
       "2  2020-01-01T23:59:00.000  Special Event     Manhattan  \n",
       "3  2020-01-01T23:59:00.000  Special Event     Manhattan  \n",
       "4  2020-01-01T23:59:00.000  Special Event     Manhattan  \n",
       "5  2020-01-01T23:59:00.000  Special Event     Manhattan  \n",
       "6  2020-01-01T23:59:00.000  Special Event     Manhattan  \n",
       "7  2020-01-01T23:59:00.000  Special Event     Manhattan  \n",
       "8  2020-01-01T23:59:00.000  Special Event     Manhattan  \n",
       "9  2020-01-01T23:59:00.000  Special Event     Manhattan  "
      ]
     },
     "execution_count": 6,
     "metadata": {},
     "output_type": "execute_result"
    }
   ],
   "source": [
    "planned.head(10)"
   ]
  },
  {
   "cell_type": "code",
   "execution_count": 7,
   "metadata": {},
   "outputs": [],
   "source": [
    "planneddf = pandas_to_spark(planned)\n",
    "planneddf = planneddf.withColumn(\"planned_date\", to_timestamp(\"start_date_time\", \"yyyy-MM-dd'T'HH:mm:ss.SSS\"))"
   ]
  },
  {
   "cell_type": "code",
   "execution_count": 8,
   "metadata": {},
   "outputs": [],
   "source": [
    "planneddf.createOrReplaceTempView(\"plannedT\")\n",
    "planned = spark.sql(\"\"\"\n",
    "SELECT DATE(planned_date) AS date,\n",
    "    COUNT(*) AS num_of_events\n",
    "FROM plannedT\n",
    "GROUP BY date\n",
    "ORDER BY date\n",
    "\"\"\")"
   ]
  },
  {
   "cell_type": "code",
   "execution_count": 34,
   "metadata": {
    "scrolled": false
   },
   "outputs": [
    {
     "data": {
      "text/plain": [
       "<matplotlib.legend.Legend at 0x118c67b10>"
      ]
     },
     "execution_count": 34,
     "metadata": {},
     "output_type": "execute_result"
    },
    {
     "data": {
      "image/png": "[encoded data removed]",
      "text/plain": [
       "<Figure size 720x360 with 1 Axes>"
      ]
     },
     "metadata": {
      "needs_background": "light"
     },
     "output_type": "display_data"
    }
   ],
   "source": [
    "planned_pd = planned.toPandas()\n",
    "import matplotlib.pyplot as plt\n",
    "from pandas.plotting import register_matplotlib_converters\n",
    "register_matplotlib_converters()\n",
    "\n",
    "plt.plot('date','num_of_events', data=planned_pd, marker='', color='green', linewidth=1)\n",
    "plt.title('2020 Permitted Events - Original (by day)',fontsize = 20)\n",
    "plt.xticks( rotation=25 )\n",
    "plt.rcParams['figure.figsize'] = (10,5)\n",
    "plt.legend(prop={\"size\":10})"
   ]
  },
  {
   "cell_type": "markdown",
   "metadata": {},
   "source": [
    "### 2020 Updated/Actual Events\n",
    "#### NYC Open Data: Permitted Event Information-Updated"
   ]
  },
  {
   "cell_type": "code",
   "execution_count": 12,
   "metadata": {},
   "outputs": [
    {
     "data": {
      "text/plain": [
       "event_id           19493\n",
       "event_name         19493\n",
       "start_date_time    19493\n",
       "end_date_time      19493\n",
       "event_type         19493\n",
       "event_borough      19493\n",
       "dtype: int64"
      ]
     },
     "execution_count": 12,
     "metadata": {},
     "output_type": "execute_result"
    }
   ],
   "source": [
    "updated_event = \"https://data.cityofnewyork.us/resource/tvpp-9vvx.csv?$select=event_id,event_name,start_date_time,end_date_time,event_type,event_borough&$where=start_date_time>'2020-01-01T00:00:00.000'&$limit=5000000\"\n",
    "updated = pd.read_csv(updated_event)\n",
    "updated.count()"
   ]
  },
  {
   "cell_type": "code",
   "execution_count": 13,
   "metadata": {},
   "outputs": [
    {
     "data": {
      "text/html": [
       "<div>\n",
       "<style scoped>\n",
       "    .dataframe tbody tr th:only-of-type {\n",
       "        vertical-align: middle;\n",
       "    }\n",
       "\n",
       "    .dataframe tbody tr th {\n",
       "        vertical-align: top;\n",
       "    }\n",
       "\n",
       "    .dataframe thead th {\n",
       "        text-align: right;\n",
       "    }\n",
       "</style>\n",
       "<table border=\"1\" class=\"dataframe\">\n",
       "  <thead>\n",
       "    <tr style=\"text-align: right;\">\n",
       "      <th></th>\n",
       "      <th>event_id</th>\n",
       "      <th>event_name</th>\n",
       "      <th>start_date_time</th>\n",
       "      <th>end_date_time</th>\n",
       "      <th>event_type</th>\n",
       "      <th>event_borough</th>\n",
       "    </tr>\n",
       "  </thead>\n",
       "  <tbody>\n",
       "    <tr>\n",
       "      <td>0</td>\n",
       "      <td>514769</td>\n",
       "      <td>Celebration</td>\n",
       "      <td>2020-10-24T16:00:00.000</td>\n",
       "      <td>2020-10-24T18:00:00.000</td>\n",
       "      <td>Special Event</td>\n",
       "      <td>Manhattan</td>\n",
       "    </tr>\n",
       "    <tr>\n",
       "      <td>1</td>\n",
       "      <td>514789</td>\n",
       "      <td>Music Entertainment</td>\n",
       "      <td>2020-07-19T15:00:00.000</td>\n",
       "      <td>2020-07-19T19:00:00.000</td>\n",
       "      <td>Special Event</td>\n",
       "      <td>Brooklyn</td>\n",
       "    </tr>\n",
       "    <tr>\n",
       "      <td>2</td>\n",
       "      <td>514792</td>\n",
       "      <td>House and Soulful Music on the boardwalk</td>\n",
       "      <td>2020-07-25T15:00:00.000</td>\n",
       "      <td>2020-07-25T19:00:00.000</td>\n",
       "      <td>Special Event</td>\n",
       "      <td>Brooklyn</td>\n",
       "    </tr>\n",
       "    <tr>\n",
       "      <td>3</td>\n",
       "      <td>514826</td>\n",
       "      <td>Celebration</td>\n",
       "      <td>2020-07-18T15:00:00.000</td>\n",
       "      <td>2020-07-18T19:00:00.000</td>\n",
       "      <td>Special Event</td>\n",
       "      <td>Brooklyn</td>\n",
       "    </tr>\n",
       "    <tr>\n",
       "      <td>4</td>\n",
       "      <td>514832</td>\n",
       "      <td>Miscellaneous</td>\n",
       "      <td>2020-05-12T09:00:00.000</td>\n",
       "      <td>2020-05-12T14:00:00.000</td>\n",
       "      <td>Special Event</td>\n",
       "      <td>Brooklyn</td>\n",
       "    </tr>\n",
       "    <tr>\n",
       "      <td>5</td>\n",
       "      <td>514835</td>\n",
       "      <td>SANKOFA SOUL</td>\n",
       "      <td>2020-09-05T15:00:00.000</td>\n",
       "      <td>2020-09-05T19:00:00.000</td>\n",
       "      <td>Special Event</td>\n",
       "      <td>Brooklyn</td>\n",
       "    </tr>\n",
       "    <tr>\n",
       "      <td>6</td>\n",
       "      <td>514842</td>\n",
       "      <td>SANKOFA SOUL</td>\n",
       "      <td>2020-08-16T15:00:00.000</td>\n",
       "      <td>2020-08-16T19:00:00.000</td>\n",
       "      <td>Special Event</td>\n",
       "      <td>Brooklyn</td>\n",
       "    </tr>\n",
       "    <tr>\n",
       "      <td>7</td>\n",
       "      <td>514857</td>\n",
       "      <td>Celebration</td>\n",
       "      <td>2020-09-28T14:00:00.000</td>\n",
       "      <td>2020-09-28T16:00:00.000</td>\n",
       "      <td>Special Event</td>\n",
       "      <td>Manhattan</td>\n",
       "    </tr>\n",
       "    <tr>\n",
       "      <td>8</td>\n",
       "      <td>514873</td>\n",
       "      <td>Celebration</td>\n",
       "      <td>2020-08-03T14:30:00.000</td>\n",
       "      <td>2020-08-03T16:00:00.000</td>\n",
       "      <td>Special Event</td>\n",
       "      <td>Manhattan</td>\n",
       "    </tr>\n",
       "    <tr>\n",
       "      <td>9</td>\n",
       "      <td>514877</td>\n",
       "      <td>DJ JOE GONZALEZ</td>\n",
       "      <td>2020-07-26T15:00:00.000</td>\n",
       "      <td>2020-07-26T19:00:00.000</td>\n",
       "      <td>Special Event</td>\n",
       "      <td>Brooklyn</td>\n",
       "    </tr>\n",
       "  </tbody>\n",
       "</table>\n",
       "</div>"
      ],
      "text/plain": [
       "   event_id                                event_name  \\\n",
       "0    514769                               Celebration   \n",
       "1    514789                       Music Entertainment   \n",
       "2    514792  House and Soulful Music on the boardwalk   \n",
       "3    514826                              Celebration    \n",
       "4    514832                             Miscellaneous   \n",
       "5    514835                              SANKOFA SOUL   \n",
       "6    514842                              SANKOFA SOUL   \n",
       "7    514857                               Celebration   \n",
       "8    514873                               Celebration   \n",
       "9    514877                           DJ JOE GONZALEZ   \n",
       "\n",
       "           start_date_time            end_date_time     event_type  \\\n",
       "0  2020-10-24T16:00:00.000  2020-10-24T18:00:00.000  Special Event   \n",
       "1  2020-07-19T15:00:00.000  2020-07-19T19:00:00.000  Special Event   \n",
       "2  2020-07-25T15:00:00.000  2020-07-25T19:00:00.000  Special Event   \n",
       "3  2020-07-18T15:00:00.000  2020-07-18T19:00:00.000  Special Event   \n",
       "4  2020-05-12T09:00:00.000  2020-05-12T14:00:00.000  Special Event   \n",
       "5  2020-09-05T15:00:00.000  2020-09-05T19:00:00.000  Special Event   \n",
       "6  2020-08-16T15:00:00.000  2020-08-16T19:00:00.000  Special Event   \n",
       "7  2020-09-28T14:00:00.000  2020-09-28T16:00:00.000  Special Event   \n",
       "8  2020-08-03T14:30:00.000  2020-08-03T16:00:00.000  Special Event   \n",
       "9  2020-07-26T15:00:00.000  2020-07-26T19:00:00.000  Special Event   \n",
       "\n",
       "  event_borough  \n",
       "0     Manhattan  \n",
       "1      Brooklyn  \n",
       "2      Brooklyn  \n",
       "3      Brooklyn  \n",
       "4      Brooklyn  \n",
       "5      Brooklyn  \n",
       "6      Brooklyn  \n",
       "7     Manhattan  \n",
       "8     Manhattan  \n",
       "9      Brooklyn  "
      ]
     },
     "execution_count": 13,
     "metadata": {},
     "output_type": "execute_result"
    }
   ],
   "source": [
    "updated.head(10)"
   ]
  },
  {
   "cell_type": "code",
   "execution_count": 14,
   "metadata": {},
   "outputs": [],
   "source": [
    "updateddf = pandas_to_spark(updated)\n",
    "updateddf = updateddf.withColumn(\"updated_date\", to_timestamp(\"start_date_time\", \"yyyy-MM-dd'T'HH:mm:ss.SSS\"))"
   ]
  },
  {
   "cell_type": "code",
   "execution_count": 15,
   "metadata": {},
   "outputs": [],
   "source": [
    "updateddf.createOrReplaceTempView(\"updatedT\")\n",
    "updated = spark.sql(\"\"\"\n",
    "SELECT DATE(updated_date) AS date,\n",
    "    COUNT(*) AS num_of_events\n",
    "FROM updatedT\n",
    "GROUP BY date\n",
    "ORDER BY date\n",
    "\"\"\")"
   ]
  },
  {
   "cell_type": "code",
   "execution_count": 33,
   "metadata": {
    "scrolled": false
   },
   "outputs": [
    {
     "data": {
      "text/plain": [
       "<matplotlib.legend.Legend at 0x118b30490>"
      ]
     },
     "execution_count": 33,
     "metadata": {},
     "output_type": "execute_result"
    },
    {
     "data": {
      "image/png": "[encoded data removed]",
      "text/plain": [
       "<Figure size 720x360 with 1 Axes>"
      ]
     },
     "metadata": {
      "needs_background": "light"
     },
     "output_type": "display_data"
    }
   ],
   "source": [
    "updated_pd = updated.toPandas()\n",
    "plt.plot('date','num_of_events', data=updated_pd, marker='', color='green', linewidth=1)\n",
    "plt.title('2020 Permitted Events - Updated (by day)',fontsize = 20)\n",
    "plt.xticks( rotation=25 )\n",
    "plt.rcParams['figure.figsize'] = (10,5)\n",
    "plt.legend(prop={\"size\":10})"
   ]
  },
  {
   "cell_type": "markdown",
   "metadata": {},
   "source": [
    "### Compare Original VS. Updated (by Month)"
   ]
  },
  {
   "cell_type": "code",
   "execution_count": 18,
   "metadata": {},
   "outputs": [],
   "source": [
    "planned_bymonth = spark.sql(\"\"\"\n",
    "SELECT MONTH(planned_date) AS month,\n",
    "    COUNT(*) AS original_event\n",
    "FROM plannedT\n",
    "GROUP BY month\n",
    "ORDER BY month\n",
    "\"\"\")\n",
    "planned_bymonth = planned_bymonth.withColumn('monthname',\n",
    "                                            f.when(f.col('month') == 1, \"Jan\")\\\n",
    "                                            .when(f.col('month') == 2, \"Feb\")\\\n",
    "                                            .when(f.col('month') == 3, \"Mar\")\\\n",
    "                                            .when(f.col('month') == 4, \"Apr\")\\\n",
    "                                            .when(f.col('month') == 5, \"May\")\\\n",
    "                                            .when(f.col('month') == 6, \"Jun\")\\\n",
    "                                            .when(f.col('month') == 7, \"Jul\")\\\n",
    "                                            .when(f.col('month') == 8, \"Aug\")\\\n",
    "                                            .when(f.col('month') == 9, \"Sep\")\\\n",
    "                                            .when(f.col('month') == 10, \"Oct\")\\\n",
    "                                            .when(f.col('month') == 11, \"Nov\")\\\n",
    "                                            .when(f.col('month') == 12, \"Dec\"))\n",
    "updated_bymonth = spark.sql(\"\"\"\n",
    "SELECT MONTH(updated_date) AS month,\n",
    "    COUNT(*) AS updated_event\n",
    "FROM updatedT\n",
    "GROUP BY month\n",
    "ORDER BY month\n",
    "\"\"\")"
   ]
  },
  {
   "cell_type": "code",
   "execution_count": 45,
   "metadata": {},
   "outputs": [
    {
     "data": {
      "text/html": [
       "<div>\n",
       "<style scoped>\n",
       "    .dataframe tbody tr th:only-of-type {\n",
       "        vertical-align: middle;\n",
       "    }\n",
       "\n",
       "    .dataframe tbody tr th {\n",
       "        vertical-align: top;\n",
       "    }\n",
       "\n",
       "    .dataframe thead th {\n",
       "        text-align: right;\n",
       "    }\n",
       "</style>\n",
       "<table border=\"1\" class=\"dataframe\">\n",
       "  <thead>\n",
       "    <tr style=\"text-align: right;\">\n",
       "      <th></th>\n",
       "      <th>monthname</th>\n",
       "      <th>original_event</th>\n",
       "      <th>updated_event</th>\n",
       "      <th>drop_percent_rate</th>\n",
       "    </tr>\n",
       "  </thead>\n",
       "  <tbody>\n",
       "    <tr>\n",
       "      <td>0</td>\n",
       "      <td>Jan</td>\n",
       "      <td>101001</td>\n",
       "      <td>1</td>\n",
       "      <td>99.999010</td>\n",
       "    </tr>\n",
       "    <tr>\n",
       "      <td>1</td>\n",
       "      <td>Feb</td>\n",
       "      <td>107428</td>\n",
       "      <td>1</td>\n",
       "      <td>99.999069</td>\n",
       "    </tr>\n",
       "    <tr>\n",
       "      <td>2</td>\n",
       "      <td>Mar</td>\n",
       "      <td>206312</td>\n",
       "      <td>2</td>\n",
       "      <td>99.999031</td>\n",
       "    </tr>\n",
       "    <tr>\n",
       "      <td>3</td>\n",
       "      <td>Apr</td>\n",
       "      <td>541736</td>\n",
       "      <td>4</td>\n",
       "      <td>99.999262</td>\n",
       "    </tr>\n",
       "    <tr>\n",
       "      <td>4</td>\n",
       "      <td>May</td>\n",
       "      <td>446571</td>\n",
       "      <td>14856</td>\n",
       "      <td>96.673317</td>\n",
       "    </tr>\n",
       "    <tr>\n",
       "      <td>5</td>\n",
       "      <td>Jun</td>\n",
       "      <td>68370</td>\n",
       "      <td>3831</td>\n",
       "      <td>94.396665</td>\n",
       "    </tr>\n",
       "    <tr>\n",
       "      <td>6</td>\n",
       "      <td>Jul</td>\n",
       "      <td>21338</td>\n",
       "      <td>256</td>\n",
       "      <td>98.800262</td>\n",
       "    </tr>\n",
       "    <tr>\n",
       "      <td>7</td>\n",
       "      <td>Aug</td>\n",
       "      <td>22815</td>\n",
       "      <td>261</td>\n",
       "      <td>98.856016</td>\n",
       "    </tr>\n",
       "    <tr>\n",
       "      <td>8</td>\n",
       "      <td>Sep</td>\n",
       "      <td>12887</td>\n",
       "      <td>138</td>\n",
       "      <td>98.929153</td>\n",
       "    </tr>\n",
       "    <tr>\n",
       "      <td>9</td>\n",
       "      <td>Oct</td>\n",
       "      <td>10948</td>\n",
       "      <td>104</td>\n",
       "      <td>99.050055</td>\n",
       "    </tr>\n",
       "    <tr>\n",
       "      <td>10</td>\n",
       "      <td>Nov</td>\n",
       "      <td>2132</td>\n",
       "      <td>19</td>\n",
       "      <td>99.108818</td>\n",
       "    </tr>\n",
       "    <tr>\n",
       "      <td>11</td>\n",
       "      <td>Dec</td>\n",
       "      <td>2060</td>\n",
       "      <td>20</td>\n",
       "      <td>99.029126</td>\n",
       "    </tr>\n",
       "  </tbody>\n",
       "</table>\n",
       "</div>"
      ],
      "text/plain": [
       "   monthname  original_event  updated_event  drop_percent_rate\n",
       "0        Jan          101001              1          99.999010\n",
       "1        Feb          107428              1          99.999069\n",
       "2        Mar          206312              2          99.999031\n",
       "3        Apr          541736              4          99.999262\n",
       "4        May          446571          14856          96.673317\n",
       "5        Jun           68370           3831          94.396665\n",
       "6        Jul           21338            256          98.800262\n",
       "7        Aug           22815            261          98.856016\n",
       "8        Sep           12887            138          98.929153\n",
       "9        Oct           10948            104          99.050055\n",
       "10       Nov            2132             19          99.108818\n",
       "11       Dec            2060             20          99.029126"
      ]
     },
     "execution_count": 45,
     "metadata": {},
     "output_type": "execute_result"
    }
   ],
   "source": [
    "compare = planned_bymonth.join(updated_bymonth,[\"month\"]).orderBy(\"month\")\n",
    "compare = compare.select(\"monthname\",\"original_event\",\"updated_event\")\n",
    "comparepd = compare.toPandas()\n",
    "comparepd['drop_percent_rate'] = (1 - comparepd['updated_event']/comparepd['original_event'])*100\n",
    "comparepd.head(20)"
   ]
  },
  {
   "cell_type": "code",
   "execution_count": 31,
   "metadata": {
    "scrolled": false
   },
   "outputs": [
    {
     "data": {
      "text/plain": [
       "<matplotlib.legend.Legend at 0x1188aa590>"
      ]
     },
     "execution_count": 31,
     "metadata": {},
     "output_type": "execute_result"
    },
    {
     "data": {
      "image/png": "[encoded data removed]",
      "text/plain": [
       "<Figure size 720x360 with 1 Axes>"
      ]
     },
     "metadata": {
      "needs_background": "light"
     },
     "output_type": "display_data"
    }
   ],
   "source": [
    "plt.plot('monthname','original_event', data=comparepd, marker='', color='skyblue', linewidth=1)\n",
    "plt.plot('monthname','updated_event', data=comparepd, marker='', color='red', linewidth=1)\n",
    "plt.title('2020 Original VS. Updated',fontsize = 20)\n",
    "plt.rcParams['figure.figsize'] = (10,5)\n",
    "plt.legend(prop={\"size\":10})"
   ]
  },
  {
   "cell_type": "code",
   "execution_count": null,
   "metadata": {},
   "outputs": [],
   "source": []
  }
 ],
 "metadata": {
  "kernelspec": {
   "display_name": "Python 3",
   "language": "python",
   "name": "python3"
  },
  "language_info": {
   "codemirror_mode": {
    "name": "ipython",
    "version": 3
   },
   "file_extension": ".py",
   "mimetype": "text/x-python",
   "name": "python",
   "nbconvert_exporter": "python",
   "pygments_lexer": "ipython3",
   "version": "3.7.6"
  }
 },
 "nbformat": 4,
 "nbformat_minor": 4
}
