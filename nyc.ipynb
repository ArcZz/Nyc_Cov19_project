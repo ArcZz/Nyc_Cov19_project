{
 "cells": [
  {
   "cell_type": "markdown",
   "metadata": {},
   "source": [
    "## NYC_COV19"
   ]
  },
  {
   "cell_type": "markdown",
   "metadata": {},
   "source": [
    "### 1. data acquistion"
   ]
  },
  {
   "cell_type": "code",
   "execution_count": 1,
   "metadata": {},
   "outputs": [],
   "source": [
    "import pyspark\n",
    "import pandas as pd\n",
    "from pyspark.sql.functions import *\n",
    "from pyspark.sql import SparkSession\n",
    "import pyspark.sql.functions as f\n",
    "# plese type ur file location for filepath.\n",
    "\n",
    "\n",
    "spark = SparkSession.builder.appName(\"bigdata\")\\\n",
    "                    .config(\"spark.some.config.option\", \"some-value\")\\\n",
    "                    .getOrCreate()\n"
   ]
  },
  {
   "cell_type": "markdown",
   "metadata": {},
   "source": [
    " data collection1 total test case"
   ]
  },
  {
   "cell_type": "code",
   "execution_count": 2,
   "metadata": {},
   "outputs": [
    {
     "name": "stdout",
     "output_type": "stream",
     "text": [
      "+--------------------+------+-------------+------------------------------+---------------------+--------------------------+\n",
      "|           test_date|county|new_positives|cumulative_number_of_positives|total_number_of_tests|cumulative_number_of_tests|\n",
      "+--------------------+------+-------------+------------------------------+---------------------+--------------------------+\n",
      "|2020-05-02T00:00:...| Bronx|          466|                         38916|                 2857|                     99606|\n",
      "|2020-05-02T00:00:...| Kings|          564|                         46839|                 3804|                    123938|\n",
      "+--------------------+------+-------------+------------------------------+---------------------+--------------------------+\n",
      "only showing top 2 rows\n",
      "\n"
     ]
    }
   ],
   "source": [
    "# history nyc county(boro) data.\n",
    "# Fetch data from New York State Department of Health.  all test numbers.\n",
    "# https://health.data.ny.gov/Health/New-York-State-Statewide-COVID-19-Testing/xdss-u53e\n",
    "\n",
    "NY_State_url = \"https://health.data.ny.gov/resource/xdss-u53e.csv\"\n",
    "ny_csv = pd.read_csv(NY_State_url)\n",
    "ny_csv.head(2)\n",
    "# example for spark read data from \n",
    "df = spark.createDataFrame(ny_csv)\n",
    "df.columns\n",
    "# around 81 rows\n",
    "currentData_df = df.filter(\"county =='Kings' OR county =='Queens' OR county =='Bronx'\\\n",
    "            OR county =='New York' OR county =='Richmond'  \").show(2)\n",
    "\n"
   ]
  },
  {
   "cell_type": "markdown",
   "metadata": {},
   "source": [
    "data collection2 more like summary case"
   ]
  },
  {
   "cell_type": "code",
   "execution_count": 3,
   "metadata": {},
   "outputs": [
    {
     "data": {
      "text/html": [
       "<div>\n",
       "<style scoped>\n",
       "    .dataframe tbody tr th:only-of-type {\n",
       "        vertical-align: middle;\n",
       "    }\n",
       "\n",
       "    .dataframe tbody tr th {\n",
       "        vertical-align: top;\n",
       "    }\n",
       "\n",
       "    .dataframe thead th {\n",
       "        text-align: right;\n",
       "    }\n",
       "</style>\n",
       "<table border=\"1\" class=\"dataframe\">\n",
       "  <thead>\n",
       "    <tr style=\"text-align: right;\">\n",
       "      <th></th>\n",
       "      <th>BOROUGH_GROUP</th>\n",
       "      <th>COVID_CASE_COUNT</th>\n",
       "      <th>COVID_CASE_RATE</th>\n",
       "    </tr>\n",
       "  </thead>\n",
       "  <tbody>\n",
       "    <tr>\n",
       "      <th>0</th>\n",
       "      <td>The Bronx</td>\n",
       "      <td>38599</td>\n",
       "      <td>2623.79</td>\n",
       "    </tr>\n",
       "    <tr>\n",
       "      <th>1</th>\n",
       "      <td>Brooklyn</td>\n",
       "      <td>44867</td>\n",
       "      <td>1654.38</td>\n",
       "    </tr>\n",
       "  </tbody>\n",
       "</table>\n",
       "</div>"
      ],
      "text/plain": [
       "  BOROUGH_GROUP  COVID_CASE_COUNT  COVID_CASE_RATE\n",
       "0     The Bronx             38599          2623.79\n",
       "1      Brooklyn             44867          1654.38"
      ]
     },
     "execution_count": 3,
     "metadata": {},
     "output_type": "execute_result"
    }
   ],
   "source": [
    "#  current summary data\n",
    "#  Fetch the data from NYC Department of Health and Mental Hygiene:  all summary data.\n",
    "#  website https://www1.nyc.gov/site/doh/covid/covid-19-data.page. \n",
    "#  data github https://github.com/nychealth/coronavirus-data\n",
    "\n",
    "nyc_boro_url = \"https://raw.githubusercontent.com/nychealth/coronavirus-data/master/boro.csv\"\n",
    "nyc_boro = pd.read_csv(nyc_boro_url)\n",
    "nyc_boro.head(2)"
   ]
  },
  {
   "cell_type": "code",
   "execution_count": 4,
   "metadata": {},
   "outputs": [
    {
     "data": {
      "text/html": [
       "<div>\n",
       "<style scoped>\n",
       "    .dataframe tbody tr th:only-of-type {\n",
       "        vertical-align: middle;\n",
       "    }\n",
       "\n",
       "    .dataframe tbody tr th {\n",
       "        vertical-align: top;\n",
       "    }\n",
       "\n",
       "    .dataframe thead th {\n",
       "        text-align: right;\n",
       "    }\n",
       "</style>\n",
       "<table border=\"1\" class=\"dataframe\">\n",
       "  <thead>\n",
       "    <tr style=\"text-align: right;\">\n",
       "      <th></th>\n",
       "      <th>date_of_death</th>\n",
       "      <th>CONFIRMED_COUNT</th>\n",
       "      <th>PROBABLE_COUNT</th>\n",
       "    </tr>\n",
       "  </thead>\n",
       "  <tbody>\n",
       "    <tr>\n",
       "      <th>0</th>\n",
       "      <td>3/11/20</td>\n",
       "      <td>1</td>\n",
       "      <td>NaN</td>\n",
       "    </tr>\n",
       "    <tr>\n",
       "      <th>1</th>\n",
       "      <td>3/12/20</td>\n",
       "      <td>1</td>\n",
       "      <td>NaN</td>\n",
       "    </tr>\n",
       "  </tbody>\n",
       "</table>\n",
       "</div>"
      ],
      "text/plain": [
       "  date_of_death  CONFIRMED_COUNT  PROBABLE_COUNT\n",
       "0       3/11/20                1             NaN\n",
       "1       3/12/20                1             NaN"
      ]
     },
     "execution_count": 4,
     "metadata": {},
     "output_type": "execute_result"
    }
   ],
   "source": [
    "# More url like above. find more detail on above links\n",
    "nyc_age_url = \"https://raw.githubusercontent.com/nychealth/coronavirus-data/master/by-age.csv\"\n",
    "nyc_zcta_url = \"https://raw.githubusercontent.com/nychealth/coronavirus-data/master/tests-by-zcta.csv\"\n",
    "nyc_summary_url = \"https://raw.githubusercontent.com/nychealth/coronavirus-data/master/summary.csv\"\n",
    "nyc_chd_url = \"https://raw.githubusercontent.com/nychealth/coronavirus-data/master/case-hosp-death.csv\"\n",
    "nyc_sex_url = \"https://raw.githubusercontent.com/nychealth/coronavirus-data/master/by-sex.csv\"\n",
    "\n",
    "#history probable-confirmed-dod data.\n",
    "nyc_pcd_url = \"https://raw.githubusercontent.com/nychealth/coronavirus-data/master/Deaths/probable-confirmed-dod.csv\"\n",
    "nyc_pcd = pd.read_csv(nyc_pcd_url)\n",
    "nyc_pcd.head(2)"
   ]
  },
  {
   "cell_type": "markdown",
   "metadata": {},
   "source": [
    "data collection 3\n"
   ]
  },
  {
   "cell_type": "code",
   "execution_count": 6,
   "metadata": {},
   "outputs": [
    {
     "data": {
      "text/html": [
       "<div>\n",
       "<style scoped>\n",
       "    .dataframe tbody tr th:only-of-type {\n",
       "        vertical-align: middle;\n",
       "    }\n",
       "\n",
       "    .dataframe tbody tr th {\n",
       "        vertical-align: top;\n",
       "    }\n",
       "\n",
       "    .dataframe thead th {\n",
       "        text-align: right;\n",
       "    }\n",
       "</style>\n",
       "<table border=\"1\" class=\"dataframe\">\n",
       "  <thead>\n",
       "    <tr style=\"text-align: right;\">\n",
       "      <th></th>\n",
       "      <th>timestamp</th>\n",
       "      <th>cases</th>\n",
       "      <th>deaths</th>\n",
       "      <th>probable_deaths</th>\n",
       "      <th>ever_hospitalized</th>\n",
       "    </tr>\n",
       "  </thead>\n",
       "  <tbody>\n",
       "    <tr>\n",
       "      <th>0</th>\n",
       "      <td>2020-03-01T05:00:00Z</td>\n",
       "      <td>1</td>\n",
       "      <td>0</td>\n",
       "      <td>NaN</td>\n",
       "      <td>NaN</td>\n",
       "    </tr>\n",
       "    <tr>\n",
       "      <th>1</th>\n",
       "      <td>2020-03-02T05:00:00Z</td>\n",
       "      <td>1</td>\n",
       "      <td>0</td>\n",
       "      <td>NaN</td>\n",
       "      <td>NaN</td>\n",
       "    </tr>\n",
       "  </tbody>\n",
       "</table>\n",
       "</div>"
      ],
      "text/plain": [
       "              timestamp  cases  deaths  probable_deaths  ever_hospitalized\n",
       "0  2020-03-01T05:00:00Z      1       0              NaN                NaN\n",
       "1  2020-03-02T05:00:00Z      1       0              NaN                NaN"
      ]
     },
     "execution_count": 6,
     "metadata": {},
     "output_type": "execute_result"
    }
   ],
   "source": [
    "# History data.\n",
    "# Fetch csv from Github(the city) show case: . this data like history of  data collection2\n",
    "# https://github.com/thecityny/covid-19-nyc-data\n",
    "# this one is more practical\n",
    "\n",
    "# More url like above. find more detail on above links\n",
    "nyc_his_age_url = \"https://raw.githubusercontent.com/thecityny/covid-19-nyc-data/master/age.csv\"\n",
    "nyc_his_bed_url = \"https://raw.githubusercontent.com/thecityny/covid-19-nyc-data/master/beds.csv\"\n",
    "nyc_his_boro_url = \"https://raw.githubusercontent.com/thecityny/covid-19-nyc-data/master/borough.csv\"\n",
    "nyc_his_gen_url = \"https://raw.githubusercontent.com/thecityny/covid-19-nyc-data/master/gender.csv\"\n",
    "nyc_his_hos_url = \"https://raw.githubusercontent.com/thecityny/covid-19-nyc-data/master/hospitalized.csv\"\n",
    "nyc_his_state_url = \"https://raw.githubusercontent.com/thecityny/covid-19-nyc-data/master/state.csv\"\n",
    "nyc_his_zcta_url = \"https://raw.githubusercontent.com/thecityny/covid-19-nyc-data/master/zcta.csv\"\n",
    "\n",
    "nyc_his_url = \"https://raw.githubusercontent.com/thecityny/covid-19-nyc-data/master/nyc.csv\"\n",
    "nyc_his_url = pd.read_csv(nyc_his_url)\n",
    "nyc_his_url.head(2)"
   ]
  },
  {
   "cell_type": "code",
   "execution_count": null,
   "metadata": {},
   "outputs": [],
   "source": [
    "\n",
    "# Fetch csv from Github (New York Times) show case: "
   ]
  }
 ],
 "metadata": {
  "kernelspec": {
   "display_name": "Python 3",
   "language": "python",
   "name": "python3"
  },
  "language_info": {
   "codemirror_mode": {
    "name": "ipython",
    "version": 3
   },
   "file_extension": ".py",
   "mimetype": "text/x-python",
   "name": "python",
   "nbconvert_exporter": "python",
   "pygments_lexer": "ipython3",
   "version": "3.7.6"
  }
 },
 "nbformat": 4,
 "nbformat_minor": 4
}
