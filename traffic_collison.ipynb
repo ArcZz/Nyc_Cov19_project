{
 "cells": [
  {
   "cell_type": "code",
   "execution_count": 1,
   "metadata": {},
   "outputs": [],
   "source": [
    "%run data.py"
   ]
  },
  {
   "cell_type": "markdown",
   "metadata": {},
   "source": [
    "# Traffic Collison Data"
   ]
  },
  {
   "cell_type": "markdown",
   "metadata": {},
   "source": [
    "### NYC Open Data: Motor Vehicle Collisions (Filter data: 2019.9.1 to today)"
   ]
  },
  {
   "cell_type": "code",
   "execution_count": 2,
   "metadata": {},
   "outputs": [
    {
     "data": {
      "text/plain": [
       "crash_date      112953\n",
       "borough          73589\n",
       "zip_code         73571\n",
       "collision_id    112953\n",
       "dtype: int64"
      ]
     },
     "execution_count": 2,
     "metadata": {},
     "output_type": "execute_result"
    }
   ],
   "source": [
    "collison_url = \"https://data.cityofnewyork.us/resource/h9gi-nx95.csv?$select=crash_date,borough,zip_code,collision_id&$where=crash_date>'2019-09-01T00:00:00.000'&$limit=500000\"\n",
    "collison = pd.read_csv(collison_url)\n",
    "collison.count()"
   ]
  },
  {
   "cell_type": "code",
   "execution_count": 3,
   "metadata": {
    "scrolled": false
   },
   "outputs": [
    {
     "data": {
      "text/html": [
       "<div>\n",
       "<style scoped>\n",
       "    .dataframe tbody tr th:only-of-type {\n",
       "        vertical-align: middle;\n",
       "    }\n",
       "\n",
       "    .dataframe tbody tr th {\n",
       "        vertical-align: top;\n",
       "    }\n",
       "\n",
       "    .dataframe thead th {\n",
       "        text-align: right;\n",
       "    }\n",
       "</style>\n",
       "<table border=\"1\" class=\"dataframe\">\n",
       "  <thead>\n",
       "    <tr style=\"text-align: right;\">\n",
       "      <th></th>\n",
       "      <th>crash_date</th>\n",
       "      <th>borough</th>\n",
       "      <th>zip_code</th>\n",
       "      <th>collision_id</th>\n",
       "    </tr>\n",
       "  </thead>\n",
       "  <tbody>\n",
       "    <tr>\n",
       "      <td>0</td>\n",
       "      <td>2019-09-02T00:00:00.000</td>\n",
       "      <td>NaN</td>\n",
       "      <td>NaN</td>\n",
       "      <td>4198471</td>\n",
       "    </tr>\n",
       "    <tr>\n",
       "      <td>1</td>\n",
       "      <td>2019-09-02T00:00:00.000</td>\n",
       "      <td>NaN</td>\n",
       "      <td>NaN</td>\n",
       "      <td>4198682</td>\n",
       "    </tr>\n",
       "    <tr>\n",
       "      <td>2</td>\n",
       "      <td>2019-09-02T00:00:00.000</td>\n",
       "      <td>QUEENS</td>\n",
       "      <td>11355.0</td>\n",
       "      <td>4200132</td>\n",
       "    </tr>\n",
       "    <tr>\n",
       "      <td>3</td>\n",
       "      <td>2019-09-02T00:00:00.000</td>\n",
       "      <td>NaN</td>\n",
       "      <td>NaN</td>\n",
       "      <td>4200843</td>\n",
       "    </tr>\n",
       "    <tr>\n",
       "      <td>4</td>\n",
       "      <td>2019-09-02T00:00:00.000</td>\n",
       "      <td>NaN</td>\n",
       "      <td>NaN</td>\n",
       "      <td>4200529</td>\n",
       "    </tr>\n",
       "    <tr>\n",
       "      <td>5</td>\n",
       "      <td>2019-09-02T00:00:00.000</td>\n",
       "      <td>MANHATTAN</td>\n",
       "      <td>10032.0</td>\n",
       "      <td>4198436</td>\n",
       "    </tr>\n",
       "    <tr>\n",
       "      <td>6</td>\n",
       "      <td>2019-09-02T00:00:00.000</td>\n",
       "      <td>NaN</td>\n",
       "      <td>NaN</td>\n",
       "      <td>4199663</td>\n",
       "    </tr>\n",
       "    <tr>\n",
       "      <td>7</td>\n",
       "      <td>2019-09-02T00:00:00.000</td>\n",
       "      <td>NaN</td>\n",
       "      <td>NaN</td>\n",
       "      <td>4198487</td>\n",
       "    </tr>\n",
       "    <tr>\n",
       "      <td>8</td>\n",
       "      <td>2019-09-02T00:00:00.000</td>\n",
       "      <td>BROOKLYN</td>\n",
       "      <td>11234.0</td>\n",
       "      <td>4198947</td>\n",
       "    </tr>\n",
       "    <tr>\n",
       "      <td>9</td>\n",
       "      <td>2019-09-02T00:00:00.000</td>\n",
       "      <td>QUEENS</td>\n",
       "      <td>11422.0</td>\n",
       "      <td>4199165</td>\n",
       "    </tr>\n",
       "  </tbody>\n",
       "</table>\n",
       "</div>"
      ],
      "text/plain": [
       "                crash_date    borough  zip_code  collision_id\n",
       "0  2019-09-02T00:00:00.000        NaN       NaN       4198471\n",
       "1  2019-09-02T00:00:00.000        NaN       NaN       4198682\n",
       "2  2019-09-02T00:00:00.000     QUEENS   11355.0       4200132\n",
       "3  2019-09-02T00:00:00.000        NaN       NaN       4200843\n",
       "4  2019-09-02T00:00:00.000        NaN       NaN       4200529\n",
       "5  2019-09-02T00:00:00.000  MANHATTAN   10032.0       4198436\n",
       "6  2019-09-02T00:00:00.000        NaN       NaN       4199663\n",
       "7  2019-09-02T00:00:00.000        NaN       NaN       4198487\n",
       "8  2019-09-02T00:00:00.000   BROOKLYN   11234.0       4198947\n",
       "9  2019-09-02T00:00:00.000     QUEENS   11422.0       4199165"
      ]
     },
     "execution_count": 3,
     "metadata": {},
     "output_type": "execute_result"
    }
   ],
   "source": [
    "collison.head(10)"
   ]
  },
  {
   "cell_type": "code",
   "execution_count": 4,
   "metadata": {},
   "outputs": [],
   "source": [
    "collison['zip_code'].fillna(0, inplace=True)\n",
    "collisonpd = collison.astype({\"crash_date\":'datetime64[ns]', \"borough\":str, \"zip_code\":int, \"collision_id\":int})"
   ]
  },
  {
   "cell_type": "code",
   "execution_count": 5,
   "metadata": {
    "scrolled": true
   },
   "outputs": [],
   "source": [
    "collison_df = spark.createDataFrame(collisonpd)"
   ]
  },
  {
   "cell_type": "code",
   "execution_count": 6,
   "metadata": {},
   "outputs": [],
   "source": [
    "collison_df.createOrReplaceTempView(\"collisonT\")\n",
    "collison = spark.sql(\"\"\"\n",
    "SELECT MONTH(crash_date) AS month,\n",
    "    COUNT(*) AS num_of_crash\n",
    "FROM collisonT\n",
    "GROUP BY month\n",
    "ORDER BY month\n",
    "\"\"\")\n",
    "\n",
    "collison = collison.withColumn(\"month_name\", \n",
    "                                        f.when(f.col('month') == 1, \"2020-01\")\\\n",
    "                                        .when(f.col('month') == 2, \"2020-02\")\\\n",
    "                                        .when(f.col('month') == 3, \"2020-03\")\\\n",
    "                                        .when(f.col('month') == 4, \"2020-04\")\\\n",
    "                                        .when(f.col('month') == 5, \"2020-05\")\\\n",
    "                                        .when(f.col('month') == 9, \"2019-09\")\\\n",
    "                                        .when(f.col('month') == 10, \"2019-10\")\\\n",
    "                                        .when(f.col('month') == 11, \"2019-11\")\\\n",
    "                                        .when(f.col('month') == 12, \"2019-12\"))"
   ]
  },
  {
   "cell_type": "markdown",
   "metadata": {},
   "source": [
    "### Average number of crash before Covid-19"
   ]
  },
  {
   "cell_type": "code",
   "execution_count": 7,
   "metadata": {
    "scrolled": true
   },
   "outputs": [],
   "source": [
    "#Covid-19 started in March 2020\n",
    "average = collison.filter('month !=3 and month !=4 and month !=5').agg({\"num_of_crash\":\"avg\"})\n",
    "\n",
    "\n"
   ]
  },
  {
   "cell_type": "code",
   "execution_count": 10,
   "metadata": {},
   "outputs": [
    {
     "data": {
      "text/plain": [
       "[[16104.833333333334]]"
      ]
     },
     "execution_count": 10,
     "metadata": {},
     "output_type": "execute_result"
    }
   ],
   "source": [
    "avg_num = average.rdd.map(list)\n",
    "avg_num.take(6)"
   ]
  },
  {
   "cell_type": "code",
   "execution_count": 9,
   "metadata": {},
   "outputs": [
    {
     "data": {
      "text/plain": [
       "16104.833333333334"
      ]
     },
     "execution_count": 9,
     "metadata": {},
     "output_type": "execute_result"
    }
   ],
   "source": [
    "avg= avg_num.take(1)[0][0]\n",
    "avg"
   ]
  },
  {
   "cell_type": "code",
   "execution_count": 11,
   "metadata": {},
   "outputs": [
    {
     "name": "stdout",
     "output_type": "stream",
     "text": [
      "Average number of car crashes before Covid-19:  16104.83\n"
     ]
    }
   ],
   "source": [
    "print(\"Average number of car crashes before Covid-19: \", '%.2f' % avg)"
   ]
  },
  {
   "cell_type": "markdown",
   "metadata": {},
   "source": [
    "### Current month car crash number and falling rate"
   ]
  },
  {
   "cell_type": "code",
   "execution_count": 8,
   "metadata": {},
   "outputs": [],
   "source": [
    "collison = collison.filter('month !=5')"
   ]
  },
  {
   "cell_type": "code",
   "execution_count": 9,
   "metadata": {},
   "outputs": [
    {
     "name": "stdout",
     "output_type": "stream",
     "text": [
      "Current month number of car crashes:  4043.00\n",
      "Car carsh falling rate:  74.90%\n"
     ]
    }
   ],
   "source": [
    "collison.createOrReplaceTempView(\"latestT\")\n",
    "latest = spark.sql(\"SELECT num_of_crash FROM latestT WHERE month_name = \\\n",
    "                                     (SELECT max(month_name) FROM  latestT)\")\n",
    "latest = latest.rdd.map(list)\n",
    "latest = latest.take(1)[0][0]\n",
    "falling_rate = '%.2f' % ((avg - latest)/ avg*100)+\"%\"\n",
    "#falling_rate = (avg - latest)/ avg\n",
    "print(\"Current month number of car crashes: \",'%.2f' %latest)\n",
    "print(\"Car carsh falling rate: \", falling_rate)\n",
    "#falling_rate = falling_rate*100"
   ]
  },
  {
   "cell_type": "code",
   "execution_count": 10,
   "metadata": {
    "scrolled": false
   },
   "outputs": [
    {
     "data": {
      "text/html": [
       "<div>\n",
       "<style scoped>\n",
       "    .dataframe tbody tr th:only-of-type {\n",
       "        vertical-align: middle;\n",
       "    }\n",
       "\n",
       "    .dataframe tbody tr th {\n",
       "        vertical-align: top;\n",
       "    }\n",
       "\n",
       "    .dataframe thead th {\n",
       "        text-align: right;\n",
       "    }\n",
       "</style>\n",
       "<table border=\"1\" class=\"dataframe\">\n",
       "  <thead>\n",
       "    <tr style=\"text-align: right;\">\n",
       "      <th></th>\n",
       "      <th>month_name</th>\n",
       "      <th>num_of_crash</th>\n",
       "    </tr>\n",
       "  </thead>\n",
       "  <tbody>\n",
       "    <tr>\n",
       "      <td>0</td>\n",
       "      <td>2019-09</td>\n",
       "      <td>17067</td>\n",
       "    </tr>\n",
       "    <tr>\n",
       "      <td>1</td>\n",
       "      <td>2019-10</td>\n",
       "      <td>17609</td>\n",
       "    </tr>\n",
       "    <tr>\n",
       "      <td>2</td>\n",
       "      <td>2019-11</td>\n",
       "      <td>16950</td>\n",
       "    </tr>\n",
       "    <tr>\n",
       "      <td>3</td>\n",
       "      <td>2019-12</td>\n",
       "      <td>17056</td>\n",
       "    </tr>\n",
       "    <tr>\n",
       "      <td>4</td>\n",
       "      <td>2020-01</td>\n",
       "      <td>14276</td>\n",
       "    </tr>\n",
       "    <tr>\n",
       "      <td>5</td>\n",
       "      <td>2020-02</td>\n",
       "      <td>13671</td>\n",
       "    </tr>\n",
       "    <tr>\n",
       "      <td>6</td>\n",
       "      <td>2020-03</td>\n",
       "      <td>11020</td>\n",
       "    </tr>\n",
       "    <tr>\n",
       "      <td>7</td>\n",
       "      <td>2020-04</td>\n",
       "      <td>4043</td>\n",
       "    </tr>\n",
       "  </tbody>\n",
       "</table>\n",
       "</div>"
      ],
      "text/plain": [
       "  month_name  num_of_crash\n",
       "0    2019-09         17067\n",
       "1    2019-10         17609\n",
       "2    2019-11         16950\n",
       "3    2019-12         17056\n",
       "4    2020-01         14276\n",
       "5    2020-02         13671\n",
       "6    2020-03         11020\n",
       "7    2020-04          4043"
      ]
     },
     "execution_count": 10,
     "metadata": {},
     "output_type": "execute_result"
    }
   ],
   "source": [
    "collisonpd = collison.select(\"month_name\",\"num_of_crash\").orderBy(\"month_name\").toPandas()\n",
    "collisonpd"
   ]
  },
  {
   "cell_type": "code",
   "execution_count": 28,
   "metadata": {
    "scrolled": false
   },
   "outputs": [
    {
     "data": {
      "text/plain": [
       "([0, 1, 2, 3, 4, 5, 6, 7], <a list of 8 Text xticklabel objects>)"
      ]
     },
     "execution_count": 28,
     "metadata": {},
     "output_type": "execute_result"
    },
    {
     "data": {
      "image/png": "[encoded data removed]",
      "text/plain": [
       "<Figure size 432x288 with 1 Axes>"
      ]
     },
     "metadata": {
      "needs_background": "light"
     },
     "output_type": "display_data"
    }
   ],
   "source": [
    "import matplotlib.pyplot as plt\n",
    "from pandas.plotting import register_matplotlib_converters\n",
    "register_matplotlib_converters()\n",
    "\n",
    "plt.plot('month_name','num_of_crash', data=collisonpd, marker='', color='yellowgreen')\n",
    "plt.title('COVID-19 Impact on Traffic Collison',fontsize = 15)\n",
    "\n",
    "rate = \"↓\" + falling_rate\n",
    "bbox_props = dict(boxstyle=\"round\", facecolor = \"white\")\n",
    "plt.text(0, 11000, rate, size = 15, color = \"yellowgreen\", bbox=bbox_props)\n",
    "\n",
    "plt.axhline(y = avg,ls = \"dashed\",color = \"grey\") \n",
    "\n",
    "plt.xticks( rotation=25 )\n",
    "#plt.rcParams['figure.figsize'] = (10,5)\n",
    "#plt.legend()\n",
    "#plt.savefig('/Users/jennyzhou/Downloads/traffic.png')"
   ]
  },
  {
   "cell_type": "markdown",
   "metadata": {},
   "source": [
    "### Car crash vs Covid-19 cases (by borough)"
   ]
  },
  {
   "cell_type": "markdown",
   "metadata": {},
   "source": [
    "Car crash by borough"
   ]
  },
  {
   "cell_type": "code",
   "execution_count": 12,
   "metadata": {},
   "outputs": [],
   "source": [
    "collison_borough = spark.sql(\"\"\"\n",
    "SELECT borough,\n",
    "    COUNT(*) AS num_of_crash\n",
    "FROM collisonT\n",
    "GROUP BY borough\n",
    "ORDER BY num_of_crash desc\n",
    "\"\"\")"
   ]
  },
  {
   "cell_type": "code",
   "execution_count": 13,
   "metadata": {},
   "outputs": [],
   "source": [
    "from pyspark.sql.functions import col\n",
    "df = collison_borough.withColumn(\"borough\",\n",
    "    f.when(collison_borough[\"borough\"]=='nan','unknown').when(collison_borough[\"borough\"]=='STATEN ISLAND','staten_island').\n",
    "    otherwise(collison_borough[\"borough\"]))\n",
    "df=df.withColumn(\"borough\",f.lower(f.col(\"borough\")))\n",
    "collison = df.toPandas()"
   ]
  },
  {
   "cell_type": "markdown",
   "metadata": {},
   "source": [
    "Covid-19 cases by borough"
   ]
  },
  {
   "cell_type": "code",
   "execution_count": 14,
   "metadata": {},
   "outputs": [],
   "source": [
    "cov = fetchData(nyc_his_boro_url)\n",
    "cov = cov.drop(columns = ['timestamp','total'])\n",
    "cov2 = cov.loc[cov['type']=='cases']\n",
    "cov2 = cov2.tail(1)\n",
    "cov2.set_index([\"type\"], inplace = True) \n",
    "\n",
    "cov2 = cov2.stack()\n",
    "cov = cov2.unstack(0)\n",
    "cov['borough']=cov.index"
   ]
  },
  {
   "cell_type": "markdown",
   "metadata": {},
   "source": [
    "merge"
   ]
  },
  {
   "cell_type": "code",
   "execution_count": 15,
   "metadata": {},
   "outputs": [
    {
     "data": {
      "text/plain": [
       "<matplotlib.axes._subplots.AxesSubplot at 0x123643a90>"
      ]
     },
     "execution_count": 15,
     "metadata": {},
     "output_type": "execute_result"
    },
    {
     "data": {
      "image/png": "[encoded data removed]",
      "text/plain": [
       "<Figure size 432x288 with 1 Axes>"
      ]
     },
     "metadata": {
      "needs_background": "light"
     },
     "output_type": "display_data"
    }
   ],
   "source": [
    "res = pd.merge(collison,cov, on='borough')\n",
    "res = res.sort_values(by='cases',ascending=False)\n",
    "res.set_index([\"borough\"], inplace = True) \n",
    "res.plot.bar(rot=0,title=\"Car crash vs Covid-19 cases (by borough)\")"
   ]
  },
  {
   "cell_type": "markdown",
   "metadata": {},
   "source": [
    "Collison since covid-19"
   ]
  },
  {
   "cell_type": "code",
   "execution_count": 16,
   "metadata": {},
   "outputs": [],
   "source": [
    "collison_march= collison_df.filter(collison_df[\"crash_date\"] >= to_timestamp(f.lit('2020-03-12 00:00:00')))"
   ]
  },
  {
   "cell_type": "code",
   "execution_count": 17,
   "metadata": {},
   "outputs": [],
   "source": [
    "collison_march.createOrReplaceTempView(\"collisonT\")\n",
    "collison_covid = spark.sql(\"\"\"\n",
    "SELECT borough,\n",
    "    COUNT(*) AS num_of_crash\n",
    "FROM collisonT\n",
    "GROUP BY borough\n",
    "\n",
    "\"\"\")"
   ]
  },
  {
   "cell_type": "code",
   "execution_count": 18,
   "metadata": {},
   "outputs": [],
   "source": [
    "from pyspark.sql.functions import col\n",
    "cdf = collison_covid.withColumn(\"borough\",\n",
    "    f.when(collison_covid[\"borough\"]=='nan','unknown').when(collison_covid[\"borough\"]=='STATEN ISLAND','staten_island').\n",
    "    otherwise(collison_covid[\"borough\"]))\n",
    "cdf=cdf.withColumn(\"borough\",f.lower(f.col(\"borough\")))\n",
    "collison_covid = cdf.toPandas()"
   ]
  },
  {
   "cell_type": "code",
   "execution_count": 19,
   "metadata": {},
   "outputs": [],
   "source": [
    "collison_covid.set_index([\"borough\"], inplace = True) \n",
    "collison_covid = collison_covid.reindex(['queens','brooklyn','bronx','manhattan','staten_island','unknown'])"
   ]
  },
  {
   "cell_type": "code",
   "execution_count": 20,
   "metadata": {},
   "outputs": [
    {
     "data": {
      "text/plain": [
       "<matplotlib.axes._subplots.AxesSubplot at 0x123681850>"
      ]
     },
     "execution_count": 20,
     "metadata": {},
     "output_type": "execute_result"
    },
    {
     "data": {
      "image/png": "[encoded data removed]",
      "text/plain": [
       "<Figure size 432x288 with 1 Axes>"
      ]
     },
     "metadata": {
      "needs_background": "light"
     },
     "output_type": "display_data"
    }
   ],
   "source": [
    "collison_covid.plot.bar(rot=0, title=\"Collison since Covid-19 by borough\")"
   ]
  },
  {
   "cell_type": "code",
   "execution_count": 21,
   "metadata": {},
   "outputs": [
    {
     "data": {
      "text/plain": [
       "<matplotlib.axes._subplots.AxesSubplot at 0x12373b150>"
      ]
     },
     "execution_count": 21,
     "metadata": {},
     "output_type": "execute_result"
    },
    {
     "data": {
      "image/png": "[encoded data removed]",
      "text/plain": [
       "<Figure size 432x288 with 1 Axes>"
      ]
     },
     "metadata": {
      "needs_background": "light"
     },
     "output_type": "display_data"
    }
   ],
   "source": [
    "cov.set_index([\"borough\"], inplace = True) \n",
    "cov = cov.sort_values(by='cases',ascending=False)\n",
    "cov.plot.bar(rot=0,title=\"Covid-19 cases by borough\")"
   ]
  },
  {
   "cell_type": "code",
   "execution_count": 22,
   "metadata": {},
   "outputs": [],
   "source": [
    "res2 = pd.merge(collison_covid,cov, on='borough')"
   ]
  },
  {
   "cell_type": "code",
   "execution_count": 23,
   "metadata": {},
   "outputs": [
    {
     "data": {
      "text/html": [
       "<div>\n",
       "<style scoped>\n",
       "    .dataframe tbody tr th:only-of-type {\n",
       "        vertical-align: middle;\n",
       "    }\n",
       "\n",
       "    .dataframe tbody tr th {\n",
       "        vertical-align: top;\n",
       "    }\n",
       "\n",
       "    .dataframe thead th {\n",
       "        text-align: right;\n",
       "    }\n",
       "</style>\n",
       "<table border=\"1\" class=\"dataframe\">\n",
       "  <thead>\n",
       "    <tr style=\"text-align: right;\">\n",
       "      <th></th>\n",
       "      <th>num_of_crash</th>\n",
       "      <th>cases</th>\n",
       "    </tr>\n",
       "    <tr>\n",
       "      <th>borough</th>\n",
       "      <th></th>\n",
       "      <th></th>\n",
       "    </tr>\n",
       "  </thead>\n",
       "  <tbody>\n",
       "    <tr>\n",
       "      <td>queens</td>\n",
       "      <td>1918</td>\n",
       "      <td>55380</td>\n",
       "    </tr>\n",
       "    <tr>\n",
       "      <td>brooklyn</td>\n",
       "      <td>2364</td>\n",
       "      <td>47836</td>\n",
       "    </tr>\n",
       "    <tr>\n",
       "      <td>bronx</td>\n",
       "      <td>1312</td>\n",
       "      <td>40689</td>\n",
       "    </tr>\n",
       "    <tr>\n",
       "      <td>manhattan</td>\n",
       "      <td>780</td>\n",
       "      <td>22185</td>\n",
       "    </tr>\n",
       "    <tr>\n",
       "      <td>staten_island</td>\n",
       "      <td>232</td>\n",
       "      <td>12586</td>\n",
       "    </tr>\n",
       "    <tr>\n",
       "      <td>unknown</td>\n",
       "      <td>3566</td>\n",
       "      <td>90</td>\n",
       "    </tr>\n",
       "  </tbody>\n",
       "</table>\n",
       "</div>"
      ],
      "text/plain": [
       "               num_of_crash  cases\n",
       "borough                           \n",
       "queens                 1918  55380\n",
       "brooklyn               2364  47836\n",
       "bronx                  1312  40689\n",
       "manhattan               780  22185\n",
       "staten_island           232  12586\n",
       "unknown                3566     90"
      ]
     },
     "execution_count": 23,
     "metadata": {},
     "output_type": "execute_result"
    }
   ],
   "source": [
    "res2.head(10)"
   ]
  },
  {
   "cell_type": "code",
   "execution_count": 24,
   "metadata": {},
   "outputs": [],
   "source": [
    "res2 = res2.sort_values(by='cases',ascending=False)\n"
   ]
  },
  {
   "cell_type": "code",
   "execution_count": 25,
   "metadata": {},
   "outputs": [
    {
     "data": {
      "text/plain": [
       "array([<matplotlib.axes._subplots.AxesSubplot object at 0x1240c4610>,\n",
       "       <matplotlib.axes._subplots.AxesSubplot object at 0x1238d5990>],\n",
       "      dtype=object)"
      ]
     },
     "execution_count": 25,
     "metadata": {},
     "output_type": "execute_result"
    },
    {
     "data": {
      "image/png": "[encoded data removed]",
      "text/plain": [
       "<Figure size 432x288 with 2 Axes>"
      ]
     },
     "metadata": {
      "needs_background": "light"
     },
     "output_type": "display_data"
    }
   ],
   "source": [
    "res2.plot.bar(rot=0,title=\"Car Crash vs Covid-19 Cases (by borough)\", subplots = True)"
   ]
  },
  {
   "cell_type": "code",
   "execution_count": 29,
   "metadata": {},
   "outputs": [
    {
     "data": {
      "text/plain": [
       "(array([0, 1, 2, 3, 4, 5]), <a list of 6 Text xticklabel objects>)"
      ]
     },
     "execution_count": 29,
     "metadata": {},
     "output_type": "execute_result"
    },
    {
     "data": {
      "image/png": "[encoded data removed]",
      "text/plain": [
       "<Figure size 432x288 with 2 Axes>"
      ]
     },
     "metadata": {
      "needs_background": "light"
     },
     "output_type": "display_data"
    }
   ],
   "source": [
    "graph = res2.plot.bar(rot=0,title=\"Car Crash vs Covid-19 Cases (by borough)\", subplots = True)\n",
    "plt.xticks( rotation=25 )"
   ]
  },
  {
   "cell_type": "code",
   "execution_count": 27,
   "metadata": {},
   "outputs": [],
   "source": [
    "graph[0].get_figure().savefig('/Users/jennyzhou/Downloads/traffic2.png')"
   ]
  },
  {
   "cell_type": "code",
   "execution_count": null,
   "metadata": {},
   "outputs": [],
   "source": []
  }
 ],
 "metadata": {
  "kernelspec": {
   "display_name": "Python 3",
   "language": "python",
   "name": "python3"
  },
  "language_info": {
   "codemirror_mode": {
    "name": "ipython",
    "version": 3
   },
   "file_extension": ".py",
   "mimetype": "text/x-python",
   "name": "python",
   "nbconvert_exporter": "python",
   "pygments_lexer": "ipython3",
   "version": "3.7.4"
  }
 },
 "nbformat": 4,
 "nbformat_minor": 4
}
