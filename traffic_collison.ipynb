{
 "cells": [
  {
   "cell_type": "code",
   "execution_count": 1,
   "metadata": {},
   "outputs": [],
   "source": [
    "%run data.py"
   ]
  },
  {
   "cell_type": "markdown",
   "metadata": {},
   "source": [
    "# Traffic Collison Data"
   ]
  },
  {
   "cell_type": "markdown",
   "metadata": {},
   "source": [
    "### NYC Open Data: Motor Vehicle Collisions (Filter data: 2019.9.1 to today)"
   ]
  },
  {
   "cell_type": "code",
   "execution_count": 2,
   "metadata": {},
   "outputs": [
    {
     "data": {
      "text/plain": [
       "crash_date      112291\n",
       "borough          73202\n",
       "zip_code         73184\n",
       "collision_id    112291\n",
       "dtype: int64"
      ]
     },
     "execution_count": 2,
     "metadata": {},
     "output_type": "execute_result"
    }
   ],
   "source": [
    "collison_url = \"https://data.cityofnewyork.us/resource/h9gi-nx95.csv?$select=crash_date,borough,zip_code,collision_id&$where=crash_date>'2019-09-01T00:00:00.000'&$limit=500000\"\n",
    "collison = pd.read_csv(collison_url)\n",
    "collison.count()"
   ]
  },
  {
   "cell_type": "code",
   "execution_count": 3,
   "metadata": {
    "scrolled": false
   },
   "outputs": [
    {
     "data": {
      "text/html": [
       "<div>\n",
       "<style scoped>\n",
       "    .dataframe tbody tr th:only-of-type {\n",
       "        vertical-align: middle;\n",
       "    }\n",
       "\n",
       "    .dataframe tbody tr th {\n",
       "        vertical-align: top;\n",
       "    }\n",
       "\n",
       "    .dataframe thead th {\n",
       "        text-align: right;\n",
       "    }\n",
       "</style>\n",
       "<table border=\"1\" class=\"dataframe\">\n",
       "  <thead>\n",
       "    <tr style=\"text-align: right;\">\n",
       "      <th></th>\n",
       "      <th>crash_date</th>\n",
       "      <th>borough</th>\n",
       "      <th>zip_code</th>\n",
       "      <th>collision_id</th>\n",
       "    </tr>\n",
       "  </thead>\n",
       "  <tbody>\n",
       "    <tr>\n",
       "      <td>0</td>\n",
       "      <td>2019-09-02T00:00:00.000</td>\n",
       "      <td>NaN</td>\n",
       "      <td>NaN</td>\n",
       "      <td>4198490</td>\n",
       "    </tr>\n",
       "    <tr>\n",
       "      <td>1</td>\n",
       "      <td>2019-09-02T00:00:00.000</td>\n",
       "      <td>MANHATTAN</td>\n",
       "      <td>10009.0</td>\n",
       "      <td>4198475</td>\n",
       "    </tr>\n",
       "    <tr>\n",
       "      <td>2</td>\n",
       "      <td>2019-09-02T00:00:00.000</td>\n",
       "      <td>NaN</td>\n",
       "      <td>NaN</td>\n",
       "      <td>4211490</td>\n",
       "    </tr>\n",
       "    <tr>\n",
       "      <td>3</td>\n",
       "      <td>2019-09-02T00:00:00.000</td>\n",
       "      <td>MANHATTAN</td>\n",
       "      <td>10026.0</td>\n",
       "      <td>4199231</td>\n",
       "    </tr>\n",
       "    <tr>\n",
       "      <td>4</td>\n",
       "      <td>2019-09-02T00:00:00.000</td>\n",
       "      <td>BROOKLYN</td>\n",
       "      <td>11218.0</td>\n",
       "      <td>4199309</td>\n",
       "    </tr>\n",
       "    <tr>\n",
       "      <td>5</td>\n",
       "      <td>2019-09-02T00:00:00.000</td>\n",
       "      <td>BRONX</td>\n",
       "      <td>10462.0</td>\n",
       "      <td>4198710</td>\n",
       "    </tr>\n",
       "    <tr>\n",
       "      <td>6</td>\n",
       "      <td>2019-09-02T00:00:00.000</td>\n",
       "      <td>BROOKLYN</td>\n",
       "      <td>11210.0</td>\n",
       "      <td>4198949</td>\n",
       "    </tr>\n",
       "    <tr>\n",
       "      <td>7</td>\n",
       "      <td>2019-09-02T00:00:00.000</td>\n",
       "      <td>MANHATTAN</td>\n",
       "      <td>10012.0</td>\n",
       "      <td>4199376</td>\n",
       "    </tr>\n",
       "    <tr>\n",
       "      <td>8</td>\n",
       "      <td>2019-09-02T00:00:00.000</td>\n",
       "      <td>BROOKLYN</td>\n",
       "      <td>11236.0</td>\n",
       "      <td>4200510</td>\n",
       "    </tr>\n",
       "    <tr>\n",
       "      <td>9</td>\n",
       "      <td>2019-09-02T00:00:00.000</td>\n",
       "      <td>QUEENS</td>\n",
       "      <td>11367.0</td>\n",
       "      <td>4198603</td>\n",
       "    </tr>\n",
       "  </tbody>\n",
       "</table>\n",
       "</div>"
      ],
      "text/plain": [
       "                crash_date    borough  zip_code  collision_id\n",
       "0  2019-09-02T00:00:00.000        NaN       NaN       4198490\n",
       "1  2019-09-02T00:00:00.000  MANHATTAN   10009.0       4198475\n",
       "2  2019-09-02T00:00:00.000        NaN       NaN       4211490\n",
       "3  2019-09-02T00:00:00.000  MANHATTAN   10026.0       4199231\n",
       "4  2019-09-02T00:00:00.000   BROOKLYN   11218.0       4199309\n",
       "5  2019-09-02T00:00:00.000      BRONX   10462.0       4198710\n",
       "6  2019-09-02T00:00:00.000   BROOKLYN   11210.0       4198949\n",
       "7  2019-09-02T00:00:00.000  MANHATTAN   10012.0       4199376\n",
       "8  2019-09-02T00:00:00.000   BROOKLYN   11236.0       4200510\n",
       "9  2019-09-02T00:00:00.000     QUEENS   11367.0       4198603"
      ]
     },
     "execution_count": 3,
     "metadata": {},
     "output_type": "execute_result"
    }
   ],
   "source": [
    "collison.head(10)"
   ]
  },
  {
   "cell_type": "code",
   "execution_count": 4,
   "metadata": {},
   "outputs": [],
   "source": [
    "collison['zip_code'].fillna(0, inplace=True)\n",
    "collisonpd = collison.astype({\"crash_date\":'datetime64[ns]', \"borough\":str, \"zip_code\":int, \"collision_id\":int})"
   ]
  },
  {
   "cell_type": "code",
   "execution_count": 5,
   "metadata": {
    "scrolled": true
   },
   "outputs": [],
   "source": [
    "collison_df = spark.createDataFrame(collisonpd)"
   ]
  },
  {
   "cell_type": "code",
   "execution_count": 6,
   "metadata": {},
   "outputs": [],
   "source": [
    "collison_df.createOrReplaceTempView(\"collisonT\")\n",
    "collison = spark.sql(\"\"\"\n",
    "SELECT MONTH(crash_date) AS month,\n",
    "    COUNT(*) AS num_of_crash\n",
    "FROM collisonT\n",
    "GROUP BY month\n",
    "ORDER BY month\n",
    "\"\"\")\n",
    "\n",
    "collison = collison.withColumn(\"month_name\", \n",
    "                                        f.when(f.col('month') == 1, \"2020-01\")\\\n",
    "                                        .when(f.col('month') == 2, \"2020-02\")\\\n",
    "                                        .when(f.col('month') == 3, \"2020-03\")\\\n",
    "                                        .when(f.col('month') == 4, \"2020-04\")\\\n",
    "                                        .when(f.col('month') == 5, \"2020-05\")\\\n",
    "                                        .when(f.col('month') == 9, \"2019-09\")\\\n",
    "                                        .when(f.col('month') == 10, \"2019-10\")\\\n",
    "                                        .when(f.col('month') == 11, \"2019-11\")\\\n",
    "                                        .when(f.col('month') == 12, \"2019-12\"))"
   ]
  },
  {
   "cell_type": "markdown",
   "metadata": {},
   "source": [
    "### Average number of crash before Covid-19"
   ]
  },
  {
   "cell_type": "code",
   "execution_count": 8,
   "metadata": {},
   "outputs": [
    {
     "name": "stdout",
     "output_type": "stream",
     "text": [
      "Average number of car crashes before Covid-19:  16104.83\n"
     ]
    }
   ],
   "source": [
    "#Covid-19 started in March 2020\n",
    "average = collison.filter('month !=3 and month !=4 and month !=5').agg({\"num_of_crash\":\"avg\"})\n",
    "avg_num = average.rdd.map(list)\n",
    "avg= avg_num.take(1)[0][0]\n",
    "print(\"Average number of car crashes before Covid-19: \", '%.2f' % avg)"
   ]
  },
  {
   "cell_type": "markdown",
   "metadata": {},
   "source": [
    "### Current month car crash number and falling rate"
   ]
  },
  {
   "cell_type": "code",
   "execution_count": 9,
   "metadata": {},
   "outputs": [
    {
     "name": "stdout",
     "output_type": "stream",
     "text": [
      "Current month number of car crashes:  612.00\n",
      "Car carsh falling rate:  96.20%\n"
     ]
    }
   ],
   "source": [
    "collison.createOrReplaceTempView(\"latestT\")\n",
    "latest = spark.sql(\"SELECT num_of_crash FROM latestT WHERE month_name = \\\n",
    "                                     (SELECT max(month_name) FROM  latestT)\")\n",
    "latest = latest.rdd.map(list)\n",
    "latest = latest.take(1)[0][0]\n",
    "falling_rate = '%.2f' % ((avg - latest)/ avg*100)+\"%\"\n",
    "print(\"Current month number of car crashes: \",'%.2f' %latest)\n",
    "print(\"Car carsh falling rate: \", falling_rate)"
   ]
  },
  {
   "cell_type": "code",
   "execution_count": 10,
   "metadata": {
    "scrolled": false
   },
   "outputs": [
    {
     "data": {
      "text/html": [
       "<div>\n",
       "<style scoped>\n",
       "    .dataframe tbody tr th:only-of-type {\n",
       "        vertical-align: middle;\n",
       "    }\n",
       "\n",
       "    .dataframe tbody tr th {\n",
       "        vertical-align: top;\n",
       "    }\n",
       "\n",
       "    .dataframe thead th {\n",
       "        text-align: right;\n",
       "    }\n",
       "</style>\n",
       "<table border=\"1\" class=\"dataframe\">\n",
       "  <thead>\n",
       "    <tr style=\"text-align: right;\">\n",
       "      <th></th>\n",
       "      <th>month_name</th>\n",
       "      <th>num_of_crash</th>\n",
       "    </tr>\n",
       "  </thead>\n",
       "  <tbody>\n",
       "    <tr>\n",
       "      <td>0</td>\n",
       "      <td>2019-09</td>\n",
       "      <td>17067</td>\n",
       "    </tr>\n",
       "    <tr>\n",
       "      <td>1</td>\n",
       "      <td>2019-10</td>\n",
       "      <td>17609</td>\n",
       "    </tr>\n",
       "    <tr>\n",
       "      <td>2</td>\n",
       "      <td>2019-11</td>\n",
       "      <td>16950</td>\n",
       "    </tr>\n",
       "    <tr>\n",
       "      <td>3</td>\n",
       "      <td>2019-12</td>\n",
       "      <td>17056</td>\n",
       "    </tr>\n",
       "    <tr>\n",
       "      <td>4</td>\n",
       "      <td>2020-01</td>\n",
       "      <td>14276</td>\n",
       "    </tr>\n",
       "    <tr>\n",
       "      <td>5</td>\n",
       "      <td>2020-02</td>\n",
       "      <td>13671</td>\n",
       "    </tr>\n",
       "    <tr>\n",
       "      <td>6</td>\n",
       "      <td>2020-03</td>\n",
       "      <td>11020</td>\n",
       "    </tr>\n",
       "    <tr>\n",
       "      <td>7</td>\n",
       "      <td>2020-04</td>\n",
       "      <td>4030</td>\n",
       "    </tr>\n",
       "    <tr>\n",
       "      <td>8</td>\n",
       "      <td>2020-05</td>\n",
       "      <td>612</td>\n",
       "    </tr>\n",
       "  </tbody>\n",
       "</table>\n",
       "</div>"
      ],
      "text/plain": [
       "  month_name  num_of_crash\n",
       "0    2019-09         17067\n",
       "1    2019-10         17609\n",
       "2    2019-11         16950\n",
       "3    2019-12         17056\n",
       "4    2020-01         14276\n",
       "5    2020-02         13671\n",
       "6    2020-03         11020\n",
       "7    2020-04          4030\n",
       "8    2020-05           612"
      ]
     },
     "execution_count": 10,
     "metadata": {},
     "output_type": "execute_result"
    }
   ],
   "source": [
    "collisonpd = collison.select(\"month_name\",\"num_of_crash\").orderBy(\"month_name\").toPandas()\n",
    "collisonpd"
   ]
  },
  {
   "cell_type": "code",
   "execution_count": 19,
   "metadata": {
    "scrolled": true
   },
   "outputs": [
    {
     "data": {
      "text/plain": [
       "<matplotlib.legend.Legend at 0x118126450>"
      ]
     },
     "execution_count": 19,
     "metadata": {},
     "output_type": "execute_result"
    },
    {
     "data": {
      "image/png": "[encoded data removed]",
      "text/plain": [
       "<Figure size 432x288 with 1 Axes>"
      ]
     },
     "metadata": {
      "needs_background": "light"
     },
     "output_type": "display_data"
    }
   ],
   "source": [
    "import matplotlib.pyplot as plt\n",
    "from pandas.plotting import register_matplotlib_converters\n",
    "register_matplotlib_converters()\n",
    "\n",
    "plt.plot('month_name','num_of_crash', data=collisonpd, marker='', color='orange', linewidth=1)\n",
    "plt.title('COVID-19 Impact on Traffic Collison',fontsize = 20)\n",
    "\n",
    "rate = \"↓\" + falling_rate\n",
    "bbox_props = dict(boxstyle=\"round\", facecolor = \"white\")\n",
    "plt.text(0, 9000, rate, size = 15, color = \"orange\", bbox=bbox_props)\n",
    "\n",
    "plt.axhline(y = avg,ls = \"dashed\",color = \"grey\") \n",
    "\n",
    "plt.xticks( rotation=25 )\n",
    "plt.rcParams['figure.figsize'] = (10,5)\n",
    "plt.legend()"
   ]
  },
  {
   "cell_type": "markdown",
   "metadata": {},
   "source": [
    "### Car crash vs Covid-19 cases (by borough)"
   ]
  },
  {
   "cell_type": "markdown",
   "metadata": {},
   "source": [
    "Car crash by borough"
   ]
  },
  {
   "cell_type": "code",
   "execution_count": 15,
   "metadata": {},
   "outputs": [],
   "source": [
    "collison_borough = spark.sql(\"\"\"\n",
    "SELECT borough,\n",
    "    COUNT(*) AS num_of_crash\n",
    "FROM collisonT\n",
    "GROUP BY borough\n",
    "ORDER BY num_of_crash desc\n",
    "\"\"\")"
   ]
  },
  {
   "cell_type": "code",
   "execution_count": 16,
   "metadata": {},
   "outputs": [],
   "source": [
    "from pyspark.sql.functions import col\n",
    "df = collison_borough.withColumn(\"borough\",\n",
    "    f.when(collison_borough[\"borough\"]=='nan','unknown').when(collison_borough[\"borough\"]=='STATEN ISLAND','staten_island').\n",
    "    otherwise(collison_borough[\"borough\"]))\n",
    "df=df.withColumn(\"borough\",f.lower(f.col(\"borough\")))\n",
    "collison = df.toPandas()"
   ]
  },
  {
   "cell_type": "markdown",
   "metadata": {},
   "source": [
    "Covid-19 cases by borough"
   ]
  },
  {
   "cell_type": "code",
   "execution_count": 17,
   "metadata": {},
   "outputs": [],
   "source": [
    "cov = fetchData(nyc_his_boro_url)\n",
    "cov = cov.drop(columns = ['timestamp','total'])\n",
    "cov2 = cov.loc[cov['type']=='cases']\n",
    "cov2 = cov2.tail(1)\n",
    "cov2.set_index([\"type\"], inplace = True) \n",
    "\n",
    "cov2 = cov2.stack()\n",
    "cov = cov2.unstack(0)\n",
    "cov['borough']=cov.index"
   ]
  },
  {
   "cell_type": "markdown",
   "metadata": {},
   "source": [
    "merge"
   ]
  },
  {
   "cell_type": "code",
   "execution_count": 18,
   "metadata": {},
   "outputs": [
    {
     "data": {
      "text/plain": [
       "<matplotlib.axes._subplots.AxesSubplot at 0x117e838d0>"
      ]
     },
     "execution_count": 18,
     "metadata": {},
     "output_type": "execute_result"
    },
    {
     "data": {
      "image/png": "[encoded data removed]",
      "text/plain": [
       "<Figure size 432x288 with 1 Axes>"
      ]
     },
     "metadata": {
      "needs_background": "light"
     },
     "output_type": "display_data"
    }
   ],
   "source": [
    "res = pd.merge(collison,cov, on='borough')\n",
    "res = res.sort_values(by='cases',ascending=False)\n",
    "res.set_index([\"borough\"], inplace = True) \n",
    "res.plot.bar(rot=0,title=\"Car crash vs Covid-19 cases (by borough)\")"
   ]
  },
  {
   "cell_type": "code",
   "execution_count": null,
   "metadata": {},
   "outputs": [],
   "source": []
  }
 ],
 "metadata": {
  "kernelspec": {
   "display_name": "Python 3",
   "language": "python",
   "name": "python3"
  },
  "language_info": {
   "codemirror_mode": {
    "name": "ipython",
    "version": 3
   },
   "file_extension": ".py",
   "mimetype": "text/x-python",
   "name": "python",
   "nbconvert_exporter": "python",
   "pygments_lexer": "ipython3",
   "version": "3.7.6"
  }
 },
 "nbformat": 4,
 "nbformat_minor": 4
}
