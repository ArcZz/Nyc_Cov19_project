{
 "cells": [
  {
   "cell_type": "code",
   "execution_count": 1,
   "metadata": {},
   "outputs": [],
   "source": [
    "import findspark\n",
    "findspark.init(\"/Users/jennyzhou/Downloads/spark-2.4.5-bin-hadoop2.7\")\n",
    "%run data.py"
   ]
  },
  {
   "cell_type": "markdown",
   "metadata": {},
   "source": [
    "# Traffic Collison Data"
   ]
  },
  {
   "cell_type": "code",
   "execution_count": 2,
   "metadata": {},
   "outputs": [],
   "source": [
    "# Motor Vehicle Collisions - Crashes 1.67M rows\n",
    "# get data: 2019.1.1 - today\n",
    "collison_url2 = \"https://data.cityofnewyork.us/resource/h9gi-nx95.csv?$select=crash_date,borough,zip_code,collision_id&$where=crash_date>'2019-01-01T00:00:00.000'&$limit=500000\""
   ]
  },
  {
   "cell_type": "code",
   "execution_count": 3,
   "metadata": {},
   "outputs": [
    {
     "data": {
      "text/plain": [
       "crash_date      254478\n",
       "borough         165245\n",
       "zip_code        165196\n",
       "collision_id    254478\n",
       "dtype: int64"
      ]
     },
     "execution_count": 3,
     "metadata": {},
     "output_type": "execute_result"
    }
   ],
   "source": [
    "collison_19to20 = pd.read_csv(collison_url2)\n",
    "collison_19to20.count()"
   ]
  },
  {
   "cell_type": "code",
   "execution_count": 4,
   "metadata": {
    "scrolled": false
   },
   "outputs": [
    {
     "data": {
      "text/html": [
       "<div>\n",
       "<style scoped>\n",
       "    .dataframe tbody tr th:only-of-type {\n",
       "        vertical-align: middle;\n",
       "    }\n",
       "\n",
       "    .dataframe tbody tr th {\n",
       "        vertical-align: top;\n",
       "    }\n",
       "\n",
       "    .dataframe thead th {\n",
       "        text-align: right;\n",
       "    }\n",
       "</style>\n",
       "<table border=\"1\" class=\"dataframe\">\n",
       "  <thead>\n",
       "    <tr style=\"text-align: right;\">\n",
       "      <th></th>\n",
       "      <th>crash_date</th>\n",
       "      <th>borough</th>\n",
       "      <th>zip_code</th>\n",
       "      <th>collision_id</th>\n",
       "    </tr>\n",
       "  </thead>\n",
       "  <tbody>\n",
       "    <tr>\n",
       "      <td>0</td>\n",
       "      <td>2019-01-02T00:00:00.000</td>\n",
       "      <td>NaN</td>\n",
       "      <td>NaN</td>\n",
       "      <td>4062972</td>\n",
       "    </tr>\n",
       "    <tr>\n",
       "      <td>1</td>\n",
       "      <td>2019-01-02T00:00:00.000</td>\n",
       "      <td>QUEENS</td>\n",
       "      <td>11370.0</td>\n",
       "      <td>4060956</td>\n",
       "    </tr>\n",
       "    <tr>\n",
       "      <td>2</td>\n",
       "      <td>2019-01-02T00:00:00.000</td>\n",
       "      <td>NaN</td>\n",
       "      <td>NaN</td>\n",
       "      <td>4061198</td>\n",
       "    </tr>\n",
       "    <tr>\n",
       "      <td>3</td>\n",
       "      <td>2019-01-02T00:00:00.000</td>\n",
       "      <td>QUEENS</td>\n",
       "      <td>11419.0</td>\n",
       "      <td>4062743</td>\n",
       "    </tr>\n",
       "    <tr>\n",
       "      <td>4</td>\n",
       "      <td>2019-01-02T00:00:00.000</td>\n",
       "      <td>NaN</td>\n",
       "      <td>NaN</td>\n",
       "      <td>4060821</td>\n",
       "    </tr>\n",
       "  </tbody>\n",
       "</table>\n",
       "</div>"
      ],
      "text/plain": [
       "                crash_date borough  zip_code  collision_id\n",
       "0  2019-01-02T00:00:00.000     NaN       NaN       4062972\n",
       "1  2019-01-02T00:00:00.000  QUEENS   11370.0       4060956\n",
       "2  2019-01-02T00:00:00.000     NaN       NaN       4061198\n",
       "3  2019-01-02T00:00:00.000  QUEENS   11419.0       4062743\n",
       "4  2019-01-02T00:00:00.000     NaN       NaN       4060821"
      ]
     },
     "execution_count": 4,
     "metadata": {},
     "output_type": "execute_result"
    }
   ],
   "source": [
    "collison_19to20.head(5)"
   ]
  },
  {
   "cell_type": "code",
   "execution_count": 5,
   "metadata": {
    "scrolled": false
   },
   "outputs": [],
   "source": [
    "collison_19to20['zip_code'].fillna(0, inplace=True)"
   ]
  },
  {
   "cell_type": "code",
   "execution_count": 6,
   "metadata": {},
   "outputs": [],
   "source": [
    "#convert data type\n",
    "collisonpd = collison_19to20.astype({\"crash_date\":'datetime64[ns]', \"borough\":str, \"zip_code\":int, \"collision_id\":int})"
   ]
  },
  {
   "cell_type": "code",
   "execution_count": 7,
   "metadata": {
    "scrolled": true
   },
   "outputs": [],
   "source": [
    "collison_df = spark.createDataFrame(collisonpd)"
   ]
  },
  {
   "cell_type": "code",
   "execution_count": 8,
   "metadata": {},
   "outputs": [
    {
     "data": {
      "text/plain": [
       "254478"
      ]
     },
     "execution_count": 8,
     "metadata": {},
     "output_type": "execute_result"
    }
   ],
   "source": [
    "collison_df.count()"
   ]
  },
  {
   "cell_type": "code",
   "execution_count": 9,
   "metadata": {},
   "outputs": [
    {
     "name": "stdout",
     "output_type": "stream",
     "text": [
      "+-------------------+---------+--------+------------+\n",
      "|         crash_date|  borough|zip_code|collision_id|\n",
      "+-------------------+---------+--------+------------+\n",
      "|2020-05-03 00:00:00|      nan|       0|     4311432|\n",
      "|2020-05-03 00:00:00|   QUEENS|   11377|     4311713|\n",
      "|2020-05-03 00:00:00|   QUEENS|   11434|     4311695|\n",
      "|2020-05-03 00:00:00|      nan|       0|     4311417|\n",
      "|2020-05-03 00:00:00|      nan|       0|     4311751|\n",
      "|2020-05-03 00:00:00|MANHATTAN|   10016|     4311514|\n",
      "|2020-05-03 00:00:00| BROOKLYN|   11215|     4311570|\n",
      "|2020-05-03 00:00:00|      nan|       0|     4311846|\n",
      "|2020-05-03 00:00:00|      nan|       0|     4311435|\n",
      "|2020-05-03 00:00:00|   QUEENS|   11435|     4311562|\n",
      "+-------------------+---------+--------+------------+\n",
      "only showing top 10 rows\n",
      "\n"
     ]
    }
   ],
   "source": [
    "collison_df.orderBy(collison_df.crash_date.desc()).show(10)"
   ]
  },
  {
   "cell_type": "code",
   "execution_count": 10,
   "metadata": {},
   "outputs": [],
   "source": [
    "collison_df.createOrReplaceTempView(\"collisonT\")"
   ]
  },
  {
   "cell_type": "code",
   "execution_count": 11,
   "metadata": {},
   "outputs": [],
   "source": [
    "collison_whole = spark.sql(\"\"\"\n",
    "SELECT DATE(crash_date) AS crash_date,\n",
    "    COUNT(*) AS num_of_crash\n",
    "FROM collisonT\n",
    "GROUP BY crash_date\n",
    "ORDER BY crash_date\n",
    "\"\"\")"
   ]
  },
  {
   "cell_type": "code",
   "execution_count": 16,
   "metadata": {
    "scrolled": false
   },
   "outputs": [
    {
     "data": {
      "text/plain": [
       "<matplotlib.legend.Legend at 0x11975b990>"
      ]
     },
     "execution_count": 16,
     "metadata": {},
     "output_type": "execute_result"
    },
    {
     "data": {
      "image/png": "[encoded data removed]",
      "text/plain": [
       "<Figure size 720x360 with 1 Axes>"
      ]
     },
     "metadata": {
      "needs_background": "light"
     },
     "output_type": "display_data"
    }
   ],
   "source": [
    "collison_pd = collison_whole.toPandas()\n",
    "import matplotlib.pyplot as plt\n",
    "from pandas.plotting import register_matplotlib_converters\n",
    "register_matplotlib_converters()\n",
    "\n",
    "plt.plot('crash_date','num_of_crash', data=collison_pd, marker='', color='blue', linewidth=1)\n",
    "plt.title('Traffic Collison',fontsize = 20)\n",
    "plt.xticks( rotation=25 )\n",
    "plt.rcParams['figure.figsize'] = (15,5)\n",
    "plt.legend()"
   ]
  },
  {
   "cell_type": "code",
   "execution_count": null,
   "metadata": {},
   "outputs": [],
   "source": []
  }
 ],
 "metadata": {
  "kernelspec": {
   "display_name": "Python 3",
   "language": "python",
   "name": "python3"
  },
  "language_info": {
   "codemirror_mode": {
    "name": "ipython",
    "version": 3
   },
   "file_extension": ".py",
   "mimetype": "text/x-python",
   "name": "python",
   "nbconvert_exporter": "python",
   "pygments_lexer": "ipython3",
   "version": "3.7.4"
  }
 },
 "nbformat": 4,
 "nbformat_minor": 4
}
