{
 "cells": [
  {
   "cell_type": "code",
   "execution_count": 1,
   "metadata": {},
   "outputs": [],
   "source": [
    "%run data.py"
   ]
  },
  {
   "cell_type": "markdown",
   "metadata": {},
   "source": [
    "### Read hospital bed data."
   ]
  },
  {
   "cell_type": "code",
   "execution_count": 2,
   "metadata": {},
   "outputs": [
    {
     "data": {
      "text/html": [
       "<div>\n",
       "<style scoped>\n",
       "    .dataframe tbody tr th:only-of-type {\n",
       "        vertical-align: middle;\n",
       "    }\n",
       "\n",
       "    .dataframe tbody tr th {\n",
       "        vertical-align: top;\n",
       "    }\n",
       "\n",
       "    .dataframe thead th {\n",
       "        text-align: right;\n",
       "    }\n",
       "</style>\n",
       "<table border=\"1\" class=\"dataframe\">\n",
       "  <thead>\n",
       "    <tr style=\"text-align: right;\">\n",
       "      <th></th>\n",
       "      <th>timestamp</th>\n",
       "      <th>locality</th>\n",
       "      <th>total</th>\n",
       "      <th>total_available</th>\n",
       "      <th>icu</th>\n",
       "      <th>icu_available</th>\n",
       "    </tr>\n",
       "  </thead>\n",
       "  <tbody>\n",
       "    <tr>\n",
       "      <th>0</th>\n",
       "      <td>2020-03-26T04:00:00Z</td>\n",
       "      <td>state</td>\n",
       "      <td>42566</td>\n",
       "      <td>11023</td>\n",
       "      <td>4330</td>\n",
       "      <td>1027</td>\n",
       "    </tr>\n",
       "    <tr>\n",
       "      <th>1</th>\n",
       "      <td>2020-03-26T04:00:00Z</td>\n",
       "      <td>nyc</td>\n",
       "      <td>20394</td>\n",
       "      <td>3557</td>\n",
       "      <td>2011</td>\n",
       "      <td>307</td>\n",
       "    </tr>\n",
       "    <tr>\n",
       "      <th>2</th>\n",
       "      <td>2020-03-30T04:00:00Z</td>\n",
       "      <td>state</td>\n",
       "      <td>44459</td>\n",
       "      <td>11453</td>\n",
       "      <td>5470</td>\n",
       "      <td>1309</td>\n",
       "    </tr>\n",
       "    <tr>\n",
       "      <th>3</th>\n",
       "      <td>2020-03-30T04:00:00Z</td>\n",
       "      <td>nyc</td>\n",
       "      <td>20898</td>\n",
       "      <td>3240</td>\n",
       "      <td>2449</td>\n",
       "      <td>392</td>\n",
       "    </tr>\n",
       "    <tr>\n",
       "      <th>4</th>\n",
       "      <td>2020-04-01T04:00:00Z</td>\n",
       "      <td>state</td>\n",
       "      <td>44921</td>\n",
       "      <td>11438</td>\n",
       "      <td>5740</td>\n",
       "      <td>1380</td>\n",
       "    </tr>\n",
       "    <tr>\n",
       "      <th>5</th>\n",
       "      <td>2020-04-01T04:00:00Z</td>\n",
       "      <td>nyc</td>\n",
       "      <td>21167</td>\n",
       "      <td>3112</td>\n",
       "      <td>2565</td>\n",
       "      <td>352</td>\n",
       "    </tr>\n",
       "    <tr>\n",
       "      <th>6</th>\n",
       "      <td>2020-04-02T04:00:00Z</td>\n",
       "      <td>state</td>\n",
       "      <td>47324</td>\n",
       "      <td>12188</td>\n",
       "      <td>6537</td>\n",
       "      <td>1320</td>\n",
       "    </tr>\n",
       "    <tr>\n",
       "      <th>7</th>\n",
       "      <td>2020-04-02T04:00:00Z</td>\n",
       "      <td>nyc</td>\n",
       "      <td>22910</td>\n",
       "      <td>3975</td>\n",
       "      <td>3082</td>\n",
       "      <td>370</td>\n",
       "    </tr>\n",
       "    <tr>\n",
       "      <th>8</th>\n",
       "      <td>2020-04-03T04:00:00Z</td>\n",
       "      <td>state</td>\n",
       "      <td>48200</td>\n",
       "      <td>13505</td>\n",
       "      <td>6862</td>\n",
       "      <td>1331</td>\n",
       "    </tr>\n",
       "    <tr>\n",
       "      <th>9</th>\n",
       "      <td>2020-04-03T04:00:00Z</td>\n",
       "      <td>nyc</td>\n",
       "      <td>23957</td>\n",
       "      <td>5354</td>\n",
       "      <td>3256</td>\n",
       "      <td>419</td>\n",
       "    </tr>\n",
       "  </tbody>\n",
       "</table>\n",
       "</div>"
      ],
      "text/plain": [
       "              timestamp locality  total  total_available   icu  icu_available\n",
       "0  2020-03-26T04:00:00Z    state  42566            11023  4330           1027\n",
       "1  2020-03-26T04:00:00Z      nyc  20394             3557  2011            307\n",
       "2  2020-03-30T04:00:00Z    state  44459            11453  5470           1309\n",
       "3  2020-03-30T04:00:00Z      nyc  20898             3240  2449            392\n",
       "4  2020-04-01T04:00:00Z    state  44921            11438  5740           1380\n",
       "5  2020-04-01T04:00:00Z      nyc  21167             3112  2565            352\n",
       "6  2020-04-02T04:00:00Z    state  47324            12188  6537           1320\n",
       "7  2020-04-02T04:00:00Z      nyc  22910             3975  3082            370\n",
       "8  2020-04-03T04:00:00Z    state  48200            13505  6862           1331\n",
       "9  2020-04-03T04:00:00Z      nyc  23957             5354  3256            419"
      ]
     },
     "execution_count": 2,
     "metadata": {},
     "output_type": "execute_result"
    }
   ],
   "source": [
    "df = fetchData(nyc_his_bed_url)\n",
    "df.head(10)"
   ]
  },
  {
   "cell_type": "code",
   "execution_count": 3,
   "metadata": {},
   "outputs": [
    {
     "data": {
      "text/html": [
       "<div>\n",
       "<style scoped>\n",
       "    .dataframe tbody tr th:only-of-type {\n",
       "        vertical-align: middle;\n",
       "    }\n",
       "\n",
       "    .dataframe tbody tr th {\n",
       "        vertical-align: top;\n",
       "    }\n",
       "\n",
       "    .dataframe thead th {\n",
       "        text-align: right;\n",
       "    }\n",
       "</style>\n",
       "<table border=\"1\" class=\"dataframe\">\n",
       "  <thead>\n",
       "    <tr style=\"text-align: right;\">\n",
       "      <th></th>\n",
       "      <th>date</th>\n",
       "      <th>locality</th>\n",
       "      <th>icu</th>\n",
       "    </tr>\n",
       "  </thead>\n",
       "  <tbody>\n",
       "    <tr>\n",
       "      <th>1</th>\n",
       "      <td>2020-03-26</td>\n",
       "      <td>nyc</td>\n",
       "      <td>2011</td>\n",
       "    </tr>\n",
       "    <tr>\n",
       "      <th>3</th>\n",
       "      <td>2020-03-30</td>\n",
       "      <td>nyc</td>\n",
       "      <td>2449</td>\n",
       "    </tr>\n",
       "    <tr>\n",
       "      <th>5</th>\n",
       "      <td>2020-04-01</td>\n",
       "      <td>nyc</td>\n",
       "      <td>2565</td>\n",
       "    </tr>\n",
       "    <tr>\n",
       "      <th>7</th>\n",
       "      <td>2020-04-02</td>\n",
       "      <td>nyc</td>\n",
       "      <td>3082</td>\n",
       "    </tr>\n",
       "    <tr>\n",
       "      <th>9</th>\n",
       "      <td>2020-04-03</td>\n",
       "      <td>nyc</td>\n",
       "      <td>3256</td>\n",
       "    </tr>\n",
       "    <tr>\n",
       "      <th>11</th>\n",
       "      <td>2020-04-04</td>\n",
       "      <td>nyc</td>\n",
       "      <td>3439</td>\n",
       "    </tr>\n",
       "    <tr>\n",
       "      <th>13</th>\n",
       "      <td>2020-04-05</td>\n",
       "      <td>nyc</td>\n",
       "      <td>3478</td>\n",
       "    </tr>\n",
       "    <tr>\n",
       "      <th>15</th>\n",
       "      <td>2020-04-06</td>\n",
       "      <td>nyc</td>\n",
       "      <td>3542</td>\n",
       "    </tr>\n",
       "    <tr>\n",
       "      <th>17</th>\n",
       "      <td>2020-04-07</td>\n",
       "      <td>nyc</td>\n",
       "      <td>3676</td>\n",
       "    </tr>\n",
       "    <tr>\n",
       "      <th>19</th>\n",
       "      <td>2020-04-08</td>\n",
       "      <td>nyc</td>\n",
       "      <td>3811</td>\n",
       "    </tr>\n",
       "  </tbody>\n",
       "</table>\n",
       "</div>"
      ],
      "text/plain": [
       "         date locality   icu\n",
       "1  2020-03-26      nyc  2011\n",
       "3  2020-03-30      nyc  2449\n",
       "5  2020-04-01      nyc  2565\n",
       "7  2020-04-02      nyc  3082\n",
       "9  2020-04-03      nyc  3256\n",
       "11 2020-04-04      nyc  3439\n",
       "13 2020-04-05      nyc  3478\n",
       "15 2020-04-06      nyc  3542\n",
       "17 2020-04-07      nyc  3676\n",
       "19 2020-04-08      nyc  3811"
      ]
     },
     "execution_count": 3,
     "metadata": {},
     "output_type": "execute_result"
    }
   ],
   "source": [
    "#split timestamp into date and time\n",
    "df[[\"date\",\"time\"]] =df[\"timestamp\"].str.split(\"T\", expand = True)\n",
    "\n",
    "#select date, locality, icu from original data. convert string to datetime.\n",
    "df = df[[\"date\",\"locality\",\"icu\"]]\n",
    "df[\"date\"] = pd.to_datetime(df['date'])\n",
    "\n",
    "#filter nyc data.\n",
    "df = df[df[\"locality\"] == \"nyc\"]\n",
    "df.head(10)"
   ]
  },
  {
   "cell_type": "code",
   "execution_count": 4,
   "metadata": {},
   "outputs": [],
   "source": [
    "data = spark.createDataFrame(df)\n",
    "data.createOrReplaceTempView(\"data\")"
   ]
  },
  {
   "cell_type": "markdown",
   "metadata": {},
   "source": [
    "### Calculate the rising rate."
   ]
  },
  {
   "cell_type": "code",
   "execution_count": 5,
   "metadata": {},
   "outputs": [
    {
     "name": "stdout",
     "output_type": "stream",
     "text": [
      "rising rate is:  0.7722526106414719\n"
     ]
    }
   ],
   "source": [
    "first_data = spark.sql(\"SELECT icu FROM data WHERE date = \\\n",
    "                                (SELECT min(date) FROM data)\")\n",
    "first_data = first_data.rdd.map(list).take(1)[0][0]\n",
    "\n",
    "latest_data = spark.sql(\"SELECT icu FROM data WHERE date = \\\n",
    "                                (SELECT max(date) FROM data)\")\n",
    "latest_data = latest_data.rdd.map(list).take(1)[0][0]\n",
    "\n",
    "rising_rate = (latest_data - first_data) / first_data\n",
    "print(\"rising rate is: \", rising_rate)\n",
    "\n",
    "rising_rate = rising_rate * 100\n",
    "rising_rate_str = \"↑\" + str('%.2f' % rising_rate) + \"%\""
   ]
  },
  {
   "cell_type": "code",
   "execution_count": 6,
   "metadata": {},
   "outputs": [
    {
     "name": "stdout",
     "output_type": "stream",
     "text": [
      "↑77.23%\n"
     ]
    }
   ],
   "source": [
    "print(rising_rate_str)"
   ]
  },
  {
   "cell_type": "code",
   "execution_count": 7,
   "metadata": {},
   "outputs": [
    {
     "data": {
      "image/png": "[encoded data removed]",
      "text/plain": [
       "<Figure size 432x288 with 1 Axes>"
      ]
     },
     "metadata": {
      "needs_background": "light"
     },
     "output_type": "display_data"
    }
   ],
   "source": [
    "import matplotlib.pyplot as plt\n",
    "from pandas import Timestamp\n",
    "\n",
    "plt.close('all')\n",
    "\n",
    "#icu bed number\n",
    "plt.plot(\"date\", \"icu\", data = df, color = \"red\")\n",
    "\n",
    "#icu bed numbers on 2020-03-26\n",
    "plt.axhline(y = first_data ,ls = \"dashed\",color = \"grey\") \n",
    "\n",
    "#title\n",
    "plt.title(\"COVID-19 Impact on Hospital ICU Bed\",fontsize = 15)\n",
    "\n",
    "#annotaion: rising rate\n",
    "bbox_props = dict(boxstyle=\"round\", facecolor = \"white\")\n",
    "plt.text(Timestamp(\"2020-03-26\"), 3800, rising_rate_str, size = 15, color = \"red\", bbox=bbox_props)\n",
    "\n",
    "plt.xticks(rotation=25)\n",
    "plt.show()"
   ]
  },
  {
   "cell_type": "code",
   "execution_count": null,
   "metadata": {},
   "outputs": [],
   "source": []
  }
 ],
 "metadata": {
  "kernelspec": {
   "display_name": "Python 3",
   "language": "python",
   "name": "python3"
  },
  "language_info": {
   "codemirror_mode": {
    "name": "ipython",
    "version": 3
   },
   "file_extension": ".py",
   "mimetype": "text/x-python",
   "name": "python",
   "nbconvert_exporter": "python",
   "pygments_lexer": "ipython3",
   "version": "3.7.6"
  }
 },
 "nbformat": 4,
 "nbformat_minor": 4
}
